{
  "nbformat": 4,
  "nbformat_minor": 0,
  "metadata": {
    "kernelspec": {
      "display_name": "Python 3",
      "language": "python",
      "name": "python3"
    },
    "language_info": {
      "codemirror_mode": {
        "name": "ipython",
        "version": 3
      },
      "file_extension": ".py",
      "mimetype": "text/x-python",
      "name": "python",
      "nbconvert_exporter": "python",
      "pygments_lexer": "ipython3",
      "version": "3.8.5"
    },
    "colab": {
      "name": "CNN exemplar September.ipynb",
      "provenance": [],
      "include_colab_link": true
    },
    "accelerator": "GPU"
  },
  "cells": [
    {
      "cell_type": "markdown",
      "metadata": {
        "id": "view-in-github",
        "colab_type": "text"
      },
      "source": [
        "<a href=\"https://colab.research.google.com/github/wbwatkinson/AFIT-RI-MLBC/blob/main/CNN%20exemplar%20September.ipynb\" target=\"_parent\"><img src=\"https://colab.research.google.com/assets/colab-badge.svg\" alt=\"Open In Colab\"/></a>"
      ]
    },
    {
      "cell_type": "markdown",
      "metadata": {
        "id": "ebsVix1r_koJ"
      },
      "source": [
        "**Variant Machine Learning Problem    September 2021**"
      ]
    },
    {
      "cell_type": "markdown",
      "metadata": {
        "id": "OegIvs1E_koK"
      },
      "source": [
        "Today we move into the convolutional NN world with another fairly simple exemplar and a few new concepts to add to the mix.  This is a more individual notebook, and we'll get back to group interactions soon.\n",
        "\n",
        "You can add visualization and data checking as in previous notebooks if you like, to get a sense of what the data is doing.  We are using a larger database of images and doing a bit of processing to get them ready for ingestion into the model.  The three tasks to be done are highlighted, and the four questions have empty markdown blocks underneath for you to enter your answers.  To answer the questions, just double-click on the \"Your answer\" text in the cell area and enter your answers.  Remember to save your final notebook and submit during/after our 1500 session. (Files/Part 1/Submitted Assignments Part1/Week 4../your folder)\n",
        "\n",
        "The dataset will take a bit to download if you have a slow internet connection (but only the first time).  Things should work along without any errors.  Please don't wait until 2:00 pm to see if this runs -- check it out and then have lunch!  You should be spending about three hours on this to get the concepts down if you don't have problems.  Check first... \n",
        "\n",
        "Depending on your computer, it might take some time to do the training for larger numbers of epochs as you change parameters, do some timing runs to verify.  Another good reason to start early!\n"
      ]
    },
    {
      "cell_type": "code",
      "metadata": {
        "id": "FpsUIOAVAC8t",
        "colab": {
          "base_uri": "https://localhost:8080/"
        },
        "outputId": "2b306c10-c3aa-41ca-d633-c9a9970e451d"
      },
      "source": [
        "!mkdir images\n",
        "!wget -O images/conv2d.JPG https://raw.githubusercontent.com/wbwatkinson/AFIT-RI-MLBC/main/conv2d.JPG"
      ],
      "execution_count": 25,
      "outputs": [
        {
          "output_type": "stream",
          "text": [
            "mkdir: cannot create directory ‘images’: File exists\n",
            "--2021-03-22 22:29:07--  https://raw.githubusercontent.com/wbwatkinson/AFIT-RI-MLBC/main/conv2d.JPG\n",
            "Resolving raw.githubusercontent.com (raw.githubusercontent.com)... 185.199.108.133, 185.199.109.133, 185.199.111.133, ...\n",
            "Connecting to raw.githubusercontent.com (raw.githubusercontent.com)|185.199.108.133|:443... connected.\n",
            "HTTP request sent, awaiting response... 200 OK\n",
            "Length: 52498 (51K) [image/jpeg]\n",
            "Saving to: ‘images/conv2d.JPG’\n",
            "\n",
            "images/conv2d.JPG   100%[===================>]  51.27K  --.-KB/s    in 0.001s  \n",
            "\n",
            "2021-03-22 22:29:07 (38.1 MB/s) - ‘images/conv2d.JPG’ saved [52498/52498]\n",
            "\n"
          ],
          "name": "stdout"
        }
      ]
    },
    {
      "cell_type": "code",
      "metadata": {
        "id": "DHCfV2-x_koK"
      },
      "source": [
        "%matplotlib inline\n",
        "import matplotlib.pyplot as plt\n",
        "import pathlib, os\n",
        "import seaborn as sns\n",
        "import tensorflow as tf\n",
        "import numpy as np \n",
        "import pandas as pd \n"
      ],
      "execution_count": 26,
      "outputs": []
    },
    {
      "cell_type": "code",
      "metadata": {
        "id": "QIRpqHm8_koL"
      },
      "source": [
        "# This dataset is retrieved by a keras utility that understands\n",
        "# stored versions, including the one we are working on - Fashion MNIST\n",
        "# (reference here: https://keras.io/api/datasets/fashion_mnist/)\n",
        "# It is the \"fashion\" corollary to MNIST - 60,000 train/10,000 test\n",
        "# grayscale images of 10 types of clothing.\n",
        "\n",
        "fMNIST_data = tf.keras.datasets.fashion_mnist"
      ],
      "execution_count": 27,
      "outputs": []
    },
    {
      "cell_type": "code",
      "metadata": {
        "id": "AuFBxWGV_koL"
      },
      "source": [
        "# set the train/test data, it is already segmented\n",
        "(X_train, y_train), (X_test, y_test) = fMNIST_data.load_data()\n",
        "\n",
        "# X_train[0] if you want to see the 28x28 pixel component of the first sample"
      ],
      "execution_count": 28,
      "outputs": []
    },
    {
      "cell_type": "code",
      "metadata": {
        "id": "TXQgQ-jj_koL",
        "colab": {
          "base_uri": "https://localhost:8080/"
        },
        "outputId": "5b22ed77-8947-4980-ade8-06d68dd4d3d0"
      },
      "source": [
        "# Check to make sure everything is correct\n",
        "print(X_train.shape, y_train.shape)"
      ],
      "execution_count": 29,
      "outputs": [
        {
          "output_type": "stream",
          "text": [
            "(60000, 28, 28) (60000,)\n"
          ],
          "name": "stdout"
        }
      ]
    },
    {
      "cell_type": "code",
      "metadata": {
        "scrolled": false,
        "id": "MhtjB1Gb_koM",
        "colab": {
          "base_uri": "https://localhost:8080/",
          "height": 282
        },
        "outputId": "797da327-60b9-4af8-c666-36a3d2ba68b3"
      },
      "source": [
        "# take advantage of the 'imshow()' method of matplotlib to check one out\n",
        "plt.imshow(X_train[0], cmap='gray', vmin=0, vmax=255)"
      ],
      "execution_count": 30,
      "outputs": [
        {
          "output_type": "execute_result",
          "data": {
            "text/plain": [
              "<matplotlib.image.AxesImage at 0x7f9fce1862d0>"
            ]
          },
          "metadata": {
            "tags": []
          },
          "execution_count": 30
        },
        {
          "output_type": "display_data",
          "data": {
            "image/png": "[encoded data removed]",
            "text/plain": [
              "<Figure size 432x288 with 1 Axes>"
            ]
          },
          "metadata": {
            "tags": [],
            "needs_background": "light"
          }
        }
      ]
    },
    {
      "cell_type": "markdown",
      "metadata": {
        "id": "XnflolC6_koN"
      },
      "source": [
        "<p style=\"color:red\">Question 1:</p>  Why is it an inverse image; shouldn't the background be white and the higher values represent darker tones? (*hint - print out the pixel values, as was done in the MNIST notebook, and think about processing the values*)"
      ]
    },
    {
      "cell_type": "markdown",
      "metadata": {
        "id": "uhkKhjYy_koN"
      },
      "source": [
        "<p style=\"color:red\">Your Answer 1:</p>  ?? (double-click here and edit...)\n"
      ]
    },
    {
      "cell_type": "markdown",
      "metadata": {
        "id": "TC-bNB7G_koN"
      },
      "source": [
        "**Instructor Answer:** *Think about the math associated with muliplying lots of '255' values vice '0' values; multiplication by zero, or handling sparse versus dense matrices/vectors very much simplifies the work to be done.*"
      ]
    },
    {
      "cell_type": "markdown",
      "metadata": {
        "id": "iXZJgUNI_koN"
      },
      "source": [
        "This is also a good time to re-iterate how NN's don't \"see\" like you and I do. The representation of the images is 28x28, and that is the world it knows.  How well would you do with the identification of some of the clothing objects?"
      ]
    },
    {
      "cell_type": "code",
      "metadata": {
        "id": "eQf7Ecc2_koO"
      },
      "source": [
        "# same as the simple NN earlier, need to normalize the data between zero\n",
        "# and one to help with calculations/normalization.  You could try without this\n",
        "# to see what impact it has, but you'd still have to convert to floats\n",
        "X_train = X_train.astype('float32') / 255\n",
        "X_test = X_test.astype('float32') / 255"
      ],
      "execution_count": 31,
      "outputs": []
    },
    {
      "cell_type": "code",
      "metadata": {
        "id": "_Fugb6Ax_koO"
      },
      "source": [
        "# need to add a dimension to the array for the one grayscale channel,\n",
        "# then we're ready to build the model\n",
        "X_train = X_train.reshape((60000, 28, 28, 1))\n",
        "X_test = X_test.reshape((10000, 28, 28, 1))"
      ],
      "execution_count": 32,
      "outputs": []
    },
    {
      "cell_type": "markdown",
      "metadata": {
        "id": "jA_biPdu_koO"
      },
      "source": [
        "<p style=\"color:red\">Question 1:</p>  Why do we add a dimension to the array, when it is already appropriate for display? (*silly hint -- you could comment the previous two lines out and see what happens... it does give you a little insight*)"
      ]
    },
    {
      "cell_type": "markdown",
      "metadata": {
        "id": "l_7Ayg3O_koO"
      },
      "source": [
        "<p style=\"color:red\">Question 1:</p>  ?? (double-click here and edit...)"
      ]
    },
    {
      "cell_type": "markdown",
      "metadata": {
        "id": "JMlaGDEv_koP"
      },
      "source": [
        "**Instructor answer:** *The extra 'dimension' is because we are using that space for the processing of the pixel values - we can't do the math without that column being there.  A picture renderer ( like 'imshow()') knows how to handle the picture formats automatically; we are using the 'dimension' explicitly in successive calculations.  As an exemplar, take out the 'cmap', 'vmin', and 'vmax' qualifiers from the imshow() code line above; you'll see that by default matplotlib tries to make it a 'color' picture, it looks quite different.  If you move the code for 'imshow()' to after the cell that adds the extra dimension, it will throw an error because of the extra dimension.  If you do comment out the two lines immediately above, you'll see that the 'model.fit' cell below will fail because it got an unexpected shape for input.*"
      ]
    },
    {
      "cell_type": "code",
      "metadata": {
        "id": "T_uHDgoa_koP"
      },
      "source": [
        "# We could also set up the categorical encoding for the y values as:\n",
        "#y_train = tf.keras.utils.to_categorical(y_train)\n",
        "#y_test = tf.keras.utils.to_categorical(y_test)\n",
        "# as we have in previous work.  But we don't here."
      ],
      "execution_count": 33,
      "outputs": []
    },
    {
      "cell_type": "markdown",
      "metadata": {
        "id": "83TfGzR8_koP"
      },
      "source": [
        "<p style=\"color:red\">Question 3:</p>  Why don't we use straight \"categorical_crossentropy\" as the loss function in the model below? (*hint:  it has something to do with larger and larger datasets/labelsets and scaling of compute, not just this notebook*)"
      ]
    },
    {
      "cell_type": "markdown",
      "metadata": {
        "id": "kTlqNOaB_koP"
      },
      "source": [
        "<p style=\"color:red\">Your answer 3:</p>  ?? (double-click here and edit...)"
      ]
    },
    {
      "cell_type": "markdown",
      "metadata": {
        "id": "ThXEGVBN_koQ"
      },
      "source": [
        "**Instructor answer:**  *Some general agreement and some dissenters, but there is a reason to expect less complexity in very large feature sets such that the 'one-hot' encoding (that is, a feature vector that looks like [0, 0, 1, 0, ....0, 0]) ends up being a very large space to operate over.  But then, there are sparse matrix operations that can help.  And, depending on configuration, that is what happens when you choose sparse_categorical_crossentropy.  Mostly affects very large feature sizes (like word vectors).  This is a discussion opportunity to talk about data and scaling.*"
      ]
    },
    {
      "cell_type": "markdown",
      "metadata": {
        "id": "GE6BiIzI_koQ"
      },
      "source": [
        "Let's talk about the network we are going to build.  If you recall from the introductory session those two long weeks ago, we looked at three basic types of NN architecture; Fully Connected (called Dense now...), Convolutional, and Recurrent.  The reason for choosing those three was to highlight what foundational basis they had for \"solving problems.\"  \n",
        "1. The FC network is pretty good for most things that need NN solutions where lots of basic matrix/vector manipulations (regression, \"prediction\", classification based strictly on column vectors of sample features).  \n",
        "2. Convolution is based on the foundational idea that there is a need to take *extent* into account -- where things are in relation to other things in a \"snapshot\" distance sense (like 2D pictures or other higher-dimension object-spaces).  \n",
        "3. Recurrent is based on the idea that there is a need to take *sequence* into account, be it in the sense of a time series of digitized signal measurements, or a sequence of written or spoken words where the correlation between data samples requires a memory aspect associated with before/after relationships.\n",
        "The purpose in selecting these three was not to constrain our work to these specific models, but to understand the reasoning underneath the models and extend that reasoning to newer architectural approaches that are solving the same class of problems.  \n",
        "\n"
      ]
    },
    {
      "cell_type": "markdown",
      "metadata": {
        "id": "4hYMx8cx_koR"
      },
      "source": [
        "A quick graphic on some of the dimensional manipulations for the first convolutional layer that might help -"
      ]
    },
    {
      "cell_type": "markdown",
      "metadata": {
        "id": "uRE3GX9y_koR"
      },
      "source": [
        "**This graphic is not the best; it fits here because the cohort has already seen this process in a slide brief and talked through it**"
      ]
    },
    {
      "cell_type": "markdown",
      "metadata": {
        "id": "9MC-SjFo_koR"
      },
      "source": [
        "<img src='https://github.com/wbwatkinson/AFIT-RI-MLBC/blob/main/conv2d.JPG?raw=1' />"
      ]
    },
    {
      "cell_type": "markdown",
      "metadata": {
        "id": "8Fm6bjHS_koR"
      },
      "source": [
        "**Task 1**\n",
        "Below is the model build for the Convolutional NN.  Find out how it performs.  Experiment with each of the activation functions, the loss functions, and the optimizers in the list below.  Don't modify other aspects just yet.  This code runs fairly quickly with low numbers of epochs, try various combinations.  It is easy to get better results, harder to get \"almost\" 100%. \n",
        "1.  Activation functions: sigmoid, tanh, relu; note the relu to start.  Probably the best choice,  but what would you choose and why?\n",
        "2.  Loss functions: mean squared error, binary cross entropy, categorical cross entropy.  \n",
        "3.  Optimizers: SGD, Adam.  Here again SGD is good to start things going, what does Adam do for you?  There is a default learning rate for Adam, but you can change it with a parameter setting.  Try a couple to get a little better result.\n",
        "\n",
        "**Task 2**\n",
        "Add a second convolutional layer and see if you can get a little closer to the 100% mark.  Try comparing fewer epochs with the additional layer and see if it correlates with the single Conv2D with a few more epochs."
      ]
    },
    {
      "cell_type": "code",
      "metadata": {
        "id": "Wt6GtkeE_koR"
      },
      "source": [
        "# build a sequential model that is much more complex than yesterady\n",
        "\n",
        "model = tf.keras.Sequential()\n",
        "\n",
        "# add the first layer (it has to match the input features - the 'input shape'\n",
        "# below - they are 28x28 scaled pixel values)\n",
        "model.add(tf.keras.layers.Conv2D(filters = 64, kernel_size = 2,\n",
        "                                 padding = 'same', activation = 'relu',\n",
        "                                 input_shape = (28,28,1)))\n",
        "model.add(tf.keras.layers.MaxPooling2D(pool_size = 2))\n",
        "model.add(tf.keras.layers.Dropout(0.3))\n",
        "\n",
        "# another \"layer set\" for Conv2d goes here  - Task 2\n",
        "\n",
        "# After the convolution layer(s), we need to get back to a linear sample\n",
        "model.add(tf.keras.layers.Flatten()) #(note no 'parameters' at all)\n",
        "model.add(tf.keras.layers.Dense(256, activation='relu'))\n",
        "model.add(tf.keras.layers.Dropout(0.5))\n",
        "\n",
        "# and the final output layer\n",
        "model.add(tf.keras.layers.Dense(10, activation='softmax'))\n",
        "\n",
        "# select an optimizer\n",
        "optimizer = tf.keras.optimizers.SGD()\n",
        "# select a loss function\n",
        "loss = 'sparse_categorical_crossentropy'"
      ],
      "execution_count": 34,
      "outputs": []
    },
    {
      "cell_type": "code",
      "metadata": {
        "id": "IPj0UT23_koS",
        "colab": {
          "base_uri": "https://localhost:8080/"
        },
        "outputId": "de09b23b-4d29-4eb8-a457-1304b43fa7eb"
      },
      "source": [
        "#Compile the model\n",
        "\n",
        "model.compile(loss=loss,\n",
        "              optimizer=optimizer,\n",
        "              metrics =['accuracy'])\n",
        "\n",
        "# view a summmary of the model (textual summary) showing details\n",
        "model.summary()"
      ],
      "execution_count": 35,
      "outputs": [
        {
          "output_type": "stream",
          "text": [
            "Model: \"sequential_1\"\n",
            "_________________________________________________________________\n",
            "Layer (type)                 Output Shape              Param #   \n",
            "=================================================================\n",
            "conv2d_1 (Conv2D)            (None, 28, 28, 64)        320       \n",
            "_________________________________________________________________\n",
            "max_pooling2d_1 (MaxPooling2 (None, 14, 14, 64)        0         \n",
            "_________________________________________________________________\n",
            "dropout_2 (Dropout)          (None, 14, 14, 64)        0         \n",
            "_________________________________________________________________\n",
            "flatten_1 (Flatten)          (None, 12544)             0         \n",
            "_________________________________________________________________\n",
            "dense_2 (Dense)              (None, 256)               3211520   \n",
            "_________________________________________________________________\n",
            "dropout_3 (Dropout)          (None, 256)               0         \n",
            "_________________________________________________________________\n",
            "dense_3 (Dense)              (None, 10)                2570      \n",
            "=================================================================\n",
            "Total params: 3,214,410\n",
            "Trainable params: 3,214,410\n",
            "Non-trainable params: 0\n",
            "_________________________________________________________________\n"
          ],
          "name": "stdout"
        }
      ]
    },
    {
      "cell_type": "markdown",
      "metadata": {
        "id": "fzkygNYr_koS"
      },
      "source": [
        "<p style=\"color:red\">Question 4:</p>  Can you break down the calculation of parameters *and the output shape* above?  You should have a head start, with the dense layer (from last week).  Just need to ponder the convolutional layer, and where the weights are, and the flattening.  Not magic, just math."
      ]
    },
    {
      "cell_type": "markdown",
      "metadata": {
        "id": "Alm-M9lE_koT"
      },
      "source": [
        "<p style=\"color:red\">Your answer 4:</p>  ?? (double-click here and edit...)"
      ]
    },
    {
      "cell_type": "markdown",
      "metadata": {
        "id": "RHpGT4KK_koT"
      },
      "source": [
        "**Instructor answer:**  *320 = 2 * 2 * 64 [filter wxh times num_filters] plus 64 (bias); flatten is just 14 * 14 * 64.  Dense 2 is 12544 * 256 + 256.  Final is 256 * 10 + 10.*  "
      ]
    },
    {
      "cell_type": "code",
      "metadata": {
        "id": "-QF_k_2M_koT",
        "colab": {
          "base_uri": "https://localhost:8080/",
          "height": 865
        },
        "outputId": "6703778c-d23f-4a01-a833-2058d747bb0d"
      },
      "source": [
        "# Show a visual representation of the model using a keras utility\n",
        "# You also need to have pydot and graphvis installed for this to work\n",
        "tf.keras.utils.plot_model(model, show_shapes=True, show_layer_names=True)\n"
      ],
      "execution_count": 36,
      "outputs": [
        {
          "output_type": "execute_result",
          "data": {
            "image/png": "[encoded data removed]",
            "text/plain": [
              "<IPython.core.display.Image object>"
            ]
          },
          "metadata": {
            "tags": []
          },
          "execution_count": 36
        }
      ]
    },
    {
      "cell_type": "code",
      "metadata": {
        "scrolled": false,
        "id": "Lau0mj-O_koT",
        "colab": {
          "base_uri": "https://localhost:8080/"
        },
        "outputId": "29f0c1c2-8f46-4b98-8bbb-86b33ddb08f3"
      },
      "source": [
        "fMNIST_model = model.fit(X_train, y_train, batch_size=64, epochs=2, verbose=2)"
      ],
      "execution_count": 37,
      "outputs": [
        {
          "output_type": "stream",
          "text": [
            "Epoch 1/2\n",
            "938/938 - 3s - loss: 0.9899 - accuracy: 0.6572\n",
            "Epoch 2/2\n",
            "938/938 - 3s - loss: 0.6128 - accuracy: 0.7798\n"
          ],
          "name": "stdout"
        }
      ]
    },
    {
      "cell_type": "code",
      "metadata": {
        "id": "-zVegsHv_koU",
        "colab": {
          "base_uri": "https://localhost:8080/"
        },
        "outputId": "62d101ae-d6fd-4f3b-e53c-e0ec5c8d9242"
      },
      "source": [
        "eval = model.evaluate(X_test, y_test, verbose=0) \n",
        "print(\"\\nLoss, accuracy on test data: \")\n",
        "print(\"%0.4f %0.2f%%\" % (eval[0],eval[1]*100))"
      ],
      "execution_count": 38,
      "outputs": [
        {
          "output_type": "stream",
          "text": [
            "\n",
            "Loss, accuracy on test data: \n",
            "0.5508 79.21%\n"
          ],
          "name": "stdout"
        }
      ]
    },
    {
      "cell_type": "markdown",
      "metadata": {
        "id": "4OLbhhEM_koU"
      },
      "source": [
        "**Task 3**\n",
        "Show output on a sequence of 10 images in the test dataset and whether or not they were correct.  Your choice of method - if you are time constrained, just use text and show that it is (mostly) as you would expect given the accuracy results you obtained above.  If you want to exercise the multiple sub-figure plotting (from previous notebook, or your own), you can certainly do that.  "
      ]
    }
  ]
}