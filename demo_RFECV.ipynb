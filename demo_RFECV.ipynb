{
  "nbformat": 4,
  "nbformat_minor": 0,
  "metadata": {
    "colab": {
      "name": "RFECV tutorial.ipynb",
      "provenance": [],
      "toc_visible": true,
      "authorship_tag": "ABX9TyO255hRpeTTRKa1JOhXKr7V",
      "include_colab_link": true
    },
    "kernelspec": {
      "name": "python3",
      "display_name": "Python 3"
    },
    "language_info": {
      "name": "python"
    }
  },
  "cells": [
    {
      "cell_type": "markdown",
      "metadata": {
        "id": "view-in-github",
        "colab_type": "text"
      },
      "source": [
        "<a href=\"https://colab.research.google.com/github/wbwatkinson/AFIT-RI-MLBC/blob/main/demo_RFECV.ipynb\" target=\"_parent\"><img src=\"https://colab.research.google.com/assets/colab-badge.svg\" alt=\"Open In Colab\"/></a>"
      ]
    },
    {
      "cell_type": "code",
      "metadata": {
        "id": "xoj_qL_JeLYh"
      },
      "source": [
        "# This tutorial developed by W. Blair Watkinson II\n",
        "# Apr 30, 2021\n",
        "\n",
        "# Developed in support of education and research activities at \n",
        "# the Air Force Institute of Technology and the CSCE 623\n",
        "# Machine Learning course\n",
        "\n",
        "# For changes or questions, contact warren.watkinson@afit.edu\n",
        "\n",
        "# MIT License\n",
        "\n",
        "# Copyright (c) 2021 W. Blair Watkinson II\n",
        "\n",
        "# Permission is hereby granted, free of charge, to any person obtaining a copy\n",
        "# of this software and associated documentation files (the \"Software\"), to deal\n",
        "# in the Software without restriction, including without limitation the rights\n",
        "# to use, copy, modify, merge, publish, distribute, sublicense, and/or sell\n",
        "# copies of the Software, and to permit persons to whom the Software is\n",
        "# furnished to do so, subject to the following conditions:\n",
        "\n",
        "# The above copyright notice and this permission notice shall be included in all\n",
        "# copies or substantial portions of the Software.\n",
        "\n",
        "# THE SOFTWARE IS PROVIDED \"AS IS\", WITHOUT WARRANTY OF ANY KIND, EXPRESS OR\n",
        "# IMPLIED, INCLUDING BUT NOT LIMITED TO THE WARRANTIES OF MERCHANTABILITY,\n",
        "# FITNESS FOR A PARTICULAR PURPOSE AND NONINFRINGEMENT. IN NO EVENT SHALL THE\n",
        "# AUTHORS OR COPYRIGHT HOLDERS BE LIABLE FOR ANY CLAIM, DAMAGES OR OTHER\n",
        "# LIABILITY, WHETHER IN AN ACTION OF CONTRACT, TORT OR OTHERWISE, ARISING FROM,\n",
        "# OUT OF OR IN CONNECTION WITH THE SOFTWARE OR THE USE OR OTHER DEALINGS IN THE\n",
        "# SOFTWARE."
      ],
      "execution_count": null,
      "outputs": []
    },
    {
      "cell_type": "markdown",
      "metadata": {
        "id": "sLnFvrHgaCh6"
      },
      "source": [
        "# Recursive Feature Elimination Cross-Validation"
      ]
    },
    {
      "cell_type": "markdown",
      "metadata": {
        "id": "MPY18j-waIyK"
      },
      "source": [
        "This tutorial introduces and provides an example of the [recursive feature elimination cross-validation](https://scikit-learn.org/stable/modules/feature_selection.html#rfe) (RFECV) available in the scikit-learn library. As the API states, RFECV attempts to eliminate features by recursively evaluating  models on increasingly smaller sets of features, pruning features on the basis of a cross-validation technique.\n",
        "\n",
        "This tutorial demonstrates this technique on regression data."
      ]
    },
    {
      "cell_type": "markdown",
      "metadata": {
        "id": "_8ENjxW6b6qV"
      },
      "source": [
        "## Generate regression data\n",
        "\n",
        "We will begin by generating regression data using the scikit-learn function [`make_regression`](https://scikit-learn.org/stable/modules/generated/sklearn.datasets.make_regression.html)."
      ]
    },
    {
      "cell_type": "code",
      "metadata": {
        "id": "sD7Vf4T4dhvA"
      },
      "source": [
        "import numpy as np\n",
        "import pandas as pd\n",
        "from sklearn.datasets import make_regression\n",
        "\n",
        "from IPython.display import Markdown as md\n",
        "from IPython.display import display, Math, Latex\n",
        "\n",
        "# initialize random state and regression parameters\n",
        "random_state = np.random.RandomState(101)\n",
        "n_features = 25\n",
        "bias_data = 0\n",
        "noise = 0\n",
        "\n",
        "# Build a regression task using 5 informative features\n",
        "X, y, coef_data = make_regression(n_samples=2000, \n",
        "                                  n_features=n_features, n_informative=5, \n",
        "                                  bias=bias_data, noise=noise,\n",
        "                                  random_state=random_state, coef=True)"
      ],
      "execution_count": null,
      "outputs": []
    },
    {
      "cell_type": "markdown",
      "metadata": {
        "id": "7XOTXdfuc3rR"
      },
      "source": [
        "We make use of several `make_regression` parameters to generate 2,000 observations, with 25 features, 5 of which are meaningful, a bias set to 0 and no noise. Furthermore, we initialize the function with a random state so that we have repeatable results in subsequent runs.\n",
        "\n",
        "`make_regression` returns normally two values: the features of each observation, typically stored in a variable, `X`, and the scalar targets, often stored in a variable `y`. When the parameter `coef=True`, the function also returns the coefficients used to generate the data. We store these coefficients in a variabled named `coef_data`.\n",
        "\n",
        "Let's output each of the values returned by the function and take a closer look."
      ]
    },
    {
      "cell_type": "code",
      "metadata": {
        "colab": {
          "base_uri": "https://localhost:8080/",
          "height": 973
        },
        "id": "cEJb02ucby1y",
        "outputId": "dd12c3c5-9ec6-4af5-d166-a8e084040f30"
      },
      "source": [
        "display(md('X as DataFrame'), pd.DataFrame(X))\n",
        "display(md('y as DataFrame'), pd.DataFrame(y))\n",
        "print(coef_data.shape)\n",
        "display(pd.DataFrame(coef_data).T)"
      ],
      "execution_count": null,
      "outputs": [
        {
          "output_type": "display_data",
          "data": {
            "text/markdown": "X as DataFrame",
            "text/plain": [
              "<IPython.core.display.Markdown object>"
            ]
          },
          "metadata": {
            "tags": []
          }
        },
        {
          "output_type": "display_data",
          "data": {
            "text/html": [
              "<div>\n",
              "<style scoped>\n",
              "    .dataframe tbody tr th:only-of-type {\n",
              "        vertical-align: middle;\n",
              "    }\n",
              "\n",
              "    .dataframe tbody tr th {\n",
              "        vertical-align: top;\n",
              "    }\n",
              "\n",
              "    .dataframe thead th {\n",
              "        text-align: right;\n",
              "    }\n",
              "</style>\n",
              "<table border=\"1\" class=\"dataframe\">\n",
              "  <thead>\n",
              "    <tr style=\"text-align: right;\">\n",
              "      <th></th>\n",
              "      <th>0</th>\n",
              "      <th>1</th>\n",
              "      <th>2</th>\n",
              "      <th>3</th>\n",
              "      <th>4</th>\n",
              "      <th>5</th>\n",
              "      <th>6</th>\n",
              "      <th>7</th>\n",
              "      <th>8</th>\n",
              "      <th>9</th>\n",
              "      <th>10</th>\n",
              "      <th>11</th>\n",
              "      <th>12</th>\n",
              "      <th>13</th>\n",
              "      <th>14</th>\n",
              "      <th>15</th>\n",
              "      <th>16</th>\n",
              "      <th>17</th>\n",
              "      <th>18</th>\n",
              "      <th>19</th>\n",
              "      <th>20</th>\n",
              "      <th>21</th>\n",
              "      <th>22</th>\n",
              "      <th>23</th>\n",
              "      <th>24</th>\n",
              "    </tr>\n",
              "  </thead>\n",
              "  <tbody>\n",
              "    <tr>\n",
              "      <th>0</th>\n",
              "      <td>-0.843834</td>\n",
              "      <td>-0.410294</td>\n",
              "      <td>-1.196782</td>\n",
              "      <td>0.436798</td>\n",
              "      <td>1.503077</td>\n",
              "      <td>0.424673</td>\n",
              "      <td>0.074169</td>\n",
              "      <td>-1.559165</td>\n",
              "      <td>-0.000379</td>\n",
              "      <td>-0.488479</td>\n",
              "      <td>-0.994440</td>\n",
              "      <td>1.551669</td>\n",
              "      <td>-1.021955</td>\n",
              "      <td>0.980496</td>\n",
              "      <td>0.025692</td>\n",
              "      <td>1.580628</td>\n",
              "      <td>-0.491748</td>\n",
              "      <td>-0.524451</td>\n",
              "      <td>2.009966</td>\n",
              "      <td>0.345295</td>\n",
              "      <td>0.666001</td>\n",
              "      <td>-0.229391</td>\n",
              "      <td>1.115320</td>\n",
              "      <td>-0.381394</td>\n",
              "      <td>0.602541</td>\n",
              "    </tr>\n",
              "    <tr>\n",
              "      <th>1</th>\n",
              "      <td>-0.641526</td>\n",
              "      <td>0.433835</td>\n",
              "      <td>-1.869507</td>\n",
              "      <td>-0.776017</td>\n",
              "      <td>-1.544608</td>\n",
              "      <td>-0.231568</td>\n",
              "      <td>1.220733</td>\n",
              "      <td>0.676845</td>\n",
              "      <td>-0.708872</td>\n",
              "      <td>-2.005602</td>\n",
              "      <td>0.655392</td>\n",
              "      <td>1.030248</td>\n",
              "      <td>0.578181</td>\n",
              "      <td>-0.582272</td>\n",
              "      <td>-1.042384</td>\n",
              "      <td>-0.918550</td>\n",
              "      <td>0.986360</td>\n",
              "      <td>-1.377514</td>\n",
              "      <td>-0.117302</td>\n",
              "      <td>0.336510</td>\n",
              "      <td>-0.785831</td>\n",
              "      <td>1.457723</td>\n",
              "      <td>-0.502454</td>\n",
              "      <td>-0.620286</td>\n",
              "      <td>1.413874</td>\n",
              "    </tr>\n",
              "    <tr>\n",
              "      <th>2</th>\n",
              "      <td>-0.374288</td>\n",
              "      <td>-1.270314</td>\n",
              "      <td>-1.234401</td>\n",
              "      <td>-0.793723</td>\n",
              "      <td>0.496995</td>\n",
              "      <td>-0.047091</td>\n",
              "      <td>0.568538</td>\n",
              "      <td>-1.634498</td>\n",
              "      <td>-0.695832</td>\n",
              "      <td>-0.919414</td>\n",
              "      <td>-1.126115</td>\n",
              "      <td>-0.490537</td>\n",
              "      <td>1.117604</td>\n",
              "      <td>0.564404</td>\n",
              "      <td>-0.695959</td>\n",
              "      <td>0.735602</td>\n",
              "      <td>-1.289998</td>\n",
              "      <td>0.727146</td>\n",
              "      <td>0.508946</td>\n",
              "      <td>-1.030554</td>\n",
              "      <td>0.157775</td>\n",
              "      <td>-1.218867</td>\n",
              "      <td>0.766482</td>\n",
              "      <td>-0.102518</td>\n",
              "      <td>-0.972756</td>\n",
              "    </tr>\n",
              "    <tr>\n",
              "      <th>3</th>\n",
              "      <td>-1.134057</td>\n",
              "      <td>-0.722910</td>\n",
              "      <td>-0.313644</td>\n",
              "      <td>0.886168</td>\n",
              "      <td>1.488920</td>\n",
              "      <td>0.032794</td>\n",
              "      <td>-1.120367</td>\n",
              "      <td>-1.396319</td>\n",
              "      <td>0.145845</td>\n",
              "      <td>0.586746</td>\n",
              "      <td>0.861984</td>\n",
              "      <td>0.663009</td>\n",
              "      <td>-0.807366</td>\n",
              "      <td>0.100099</td>\n",
              "      <td>0.090265</td>\n",
              "      <td>0.794325</td>\n",
              "      <td>-0.223875</td>\n",
              "      <td>-0.051462</td>\n",
              "      <td>0.074972</td>\n",
              "      <td>-1.209161</td>\n",
              "      <td>1.911764</td>\n",
              "      <td>-1.696726</td>\n",
              "      <td>0.510846</td>\n",
              "      <td>1.230865</td>\n",
              "      <td>-0.722755</td>\n",
              "    </tr>\n",
              "    <tr>\n",
              "      <th>4</th>\n",
              "      <td>0.897062</td>\n",
              "      <td>0.156957</td>\n",
              "      <td>-0.989660</td>\n",
              "      <td>-0.230854</td>\n",
              "      <td>-1.307015</td>\n",
              "      <td>-0.013356</td>\n",
              "      <td>-0.640071</td>\n",
              "      <td>2.086111</td>\n",
              "      <td>-0.321653</td>\n",
              "      <td>0.017935</td>\n",
              "      <td>0.235261</td>\n",
              "      <td>0.326277</td>\n",
              "      <td>-1.515067</td>\n",
              "      <td>0.299177</td>\n",
              "      <td>0.985163</td>\n",
              "      <td>-0.571332</td>\n",
              "      <td>0.842621</td>\n",
              "      <td>1.512583</td>\n",
              "      <td>0.182130</td>\n",
              "      <td>-0.940782</td>\n",
              "      <td>-0.963421</td>\n",
              "      <td>0.067205</td>\n",
              "      <td>-0.003770</td>\n",
              "      <td>-1.113764</td>\n",
              "      <td>2.064858</td>\n",
              "    </tr>\n",
              "    <tr>\n",
              "      <th>...</th>\n",
              "      <td>...</td>\n",
              "      <td>...</td>\n",
              "      <td>...</td>\n",
              "      <td>...</td>\n",
              "      <td>...</td>\n",
              "      <td>...</td>\n",
              "      <td>...</td>\n",
              "      <td>...</td>\n",
              "      <td>...</td>\n",
              "      <td>...</td>\n",
              "      <td>...</td>\n",
              "      <td>...</td>\n",
              "      <td>...</td>\n",
              "      <td>...</td>\n",
              "      <td>...</td>\n",
              "      <td>...</td>\n",
              "      <td>...</td>\n",
              "      <td>...</td>\n",
              "      <td>...</td>\n",
              "      <td>...</td>\n",
              "      <td>...</td>\n",
              "      <td>...</td>\n",
              "      <td>...</td>\n",
              "      <td>...</td>\n",
              "      <td>...</td>\n",
              "    </tr>\n",
              "    <tr>\n",
              "      <th>1995</th>\n",
              "      <td>0.339074</td>\n",
              "      <td>0.463796</td>\n",
              "      <td>1.044229</td>\n",
              "      <td>0.740197</td>\n",
              "      <td>-0.354603</td>\n",
              "      <td>0.546551</td>\n",
              "      <td>-0.125465</td>\n",
              "      <td>-0.377200</td>\n",
              "      <td>-0.709162</td>\n",
              "      <td>-0.466442</td>\n",
              "      <td>1.757713</td>\n",
              "      <td>0.016873</td>\n",
              "      <td>0.556241</td>\n",
              "      <td>0.830889</td>\n",
              "      <td>2.155017</td>\n",
              "      <td>-0.342475</td>\n",
              "      <td>-0.180553</td>\n",
              "      <td>-1.344782</td>\n",
              "      <td>-1.015904</td>\n",
              "      <td>-0.077580</td>\n",
              "      <td>0.457150</td>\n",
              "      <td>0.055666</td>\n",
              "      <td>-1.570692</td>\n",
              "      <td>-1.786933</td>\n",
              "      <td>2.450999</td>\n",
              "    </tr>\n",
              "    <tr>\n",
              "      <th>1996</th>\n",
              "      <td>1.440640</td>\n",
              "      <td>1.565895</td>\n",
              "      <td>-0.662720</td>\n",
              "      <td>-0.227291</td>\n",
              "      <td>1.267231</td>\n",
              "      <td>-0.745855</td>\n",
              "      <td>0.999822</td>\n",
              "      <td>-0.520636</td>\n",
              "      <td>-0.311565</td>\n",
              "      <td>-0.258695</td>\n",
              "      <td>0.671525</td>\n",
              "      <td>-1.342860</td>\n",
              "      <td>1.838952</td>\n",
              "      <td>-0.284151</td>\n",
              "      <td>-0.527476</td>\n",
              "      <td>0.691429</td>\n",
              "      <td>0.602672</td>\n",
              "      <td>0.818191</td>\n",
              "      <td>-0.062796</td>\n",
              "      <td>0.897166</td>\n",
              "      <td>-0.384920</td>\n",
              "      <td>-0.577895</td>\n",
              "      <td>-0.079412</td>\n",
              "      <td>-0.142702</td>\n",
              "      <td>0.428989</td>\n",
              "    </tr>\n",
              "    <tr>\n",
              "      <th>1997</th>\n",
              "      <td>-0.144748</td>\n",
              "      <td>-1.380791</td>\n",
              "      <td>1.140207</td>\n",
              "      <td>0.327529</td>\n",
              "      <td>-0.498917</td>\n",
              "      <td>-0.449012</td>\n",
              "      <td>2.369546</td>\n",
              "      <td>0.476677</td>\n",
              "      <td>0.737809</td>\n",
              "      <td>0.535313</td>\n",
              "      <td>-0.031785</td>\n",
              "      <td>1.045618</td>\n",
              "      <td>-0.047262</td>\n",
              "      <td>-0.403741</td>\n",
              "      <td>0.324979</td>\n",
              "      <td>1.042374</td>\n",
              "      <td>-0.898164</td>\n",
              "      <td>-0.605100</td>\n",
              "      <td>0.928855</td>\n",
              "      <td>-0.818807</td>\n",
              "      <td>-0.072491</td>\n",
              "      <td>-0.566995</td>\n",
              "      <td>0.072167</td>\n",
              "      <td>-0.418334</td>\n",
              "      <td>1.229736</td>\n",
              "    </tr>\n",
              "    <tr>\n",
              "      <th>1998</th>\n",
              "      <td>-0.052053</td>\n",
              "      <td>0.808139</td>\n",
              "      <td>-1.085524</td>\n",
              "      <td>-1.061843</td>\n",
              "      <td>-0.191446</td>\n",
              "      <td>-1.453084</td>\n",
              "      <td>-1.600183</td>\n",
              "      <td>-1.275456</td>\n",
              "      <td>-0.935200</td>\n",
              "      <td>-0.607658</td>\n",
              "      <td>-0.369657</td>\n",
              "      <td>-1.057874</td>\n",
              "      <td>0.660948</td>\n",
              "      <td>-0.071986</td>\n",
              "      <td>-0.805490</td>\n",
              "      <td>1.096199</td>\n",
              "      <td>-0.136403</td>\n",
              "      <td>-0.861869</td>\n",
              "      <td>2.337572</td>\n",
              "      <td>0.937994</td>\n",
              "      <td>0.858620</td>\n",
              "      <td>2.037669</td>\n",
              "      <td>1.339166</td>\n",
              "      <td>-1.739121</td>\n",
              "      <td>0.421239</td>\n",
              "    </tr>\n",
              "    <tr>\n",
              "      <th>1999</th>\n",
              "      <td>-0.671882</td>\n",
              "      <td>0.529929</td>\n",
              "      <td>0.567456</td>\n",
              "      <td>-0.031531</td>\n",
              "      <td>1.150051</td>\n",
              "      <td>1.177503</td>\n",
              "      <td>0.429106</td>\n",
              "      <td>-0.321885</td>\n",
              "      <td>1.624427</td>\n",
              "      <td>0.732020</td>\n",
              "      <td>-0.119068</td>\n",
              "      <td>0.483563</td>\n",
              "      <td>-0.252195</td>\n",
              "      <td>-0.383978</td>\n",
              "      <td>-0.139278</td>\n",
              "      <td>1.295723</td>\n",
              "      <td>2.222166</td>\n",
              "      <td>0.942086</td>\n",
              "      <td>0.058045</td>\n",
              "      <td>-1.590014</td>\n",
              "      <td>-0.157423</td>\n",
              "      <td>0.475233</td>\n",
              "      <td>-0.568711</td>\n",
              "      <td>0.161989</td>\n",
              "      <td>0.331804</td>\n",
              "    </tr>\n",
              "  </tbody>\n",
              "</table>\n",
              "<p>2000 rows × 25 columns</p>\n",
              "</div>"
            ],
            "text/plain": [
              "            0         1         2   ...        22        23        24\n",
              "0    -0.843834 -0.410294 -1.196782  ...  1.115320 -0.381394  0.602541\n",
              "1    -0.641526  0.433835 -1.869507  ... -0.502454 -0.620286  1.413874\n",
              "2    -0.374288 -1.270314 -1.234401  ...  0.766482 -0.102518 -0.972756\n",
              "3    -1.134057 -0.722910 -0.313644  ...  0.510846  1.230865 -0.722755\n",
              "4     0.897062  0.156957 -0.989660  ... -0.003770 -1.113764  2.064858\n",
              "...        ...       ...       ...  ...       ...       ...       ...\n",
              "1995  0.339074  0.463796  1.044229  ... -1.570692 -1.786933  2.450999\n",
              "1996  1.440640  1.565895 -0.662720  ... -0.079412 -0.142702  0.428989\n",
              "1997 -0.144748 -1.380791  1.140207  ...  0.072167 -0.418334  1.229736\n",
              "1998 -0.052053  0.808139 -1.085524  ...  1.339166 -1.739121  0.421239\n",
              "1999 -0.671882  0.529929  0.567456  ... -0.568711  0.161989  0.331804\n",
              "\n",
              "[2000 rows x 25 columns]"
            ]
          },
          "metadata": {
            "tags": []
          }
        },
        {
          "output_type": "display_data",
          "data": {
            "text/markdown": "y as DataFrame",
            "text/plain": [
              "<IPython.core.display.Markdown object>"
            ]
          },
          "metadata": {
            "tags": []
          }
        },
        {
          "output_type": "display_data",
          "data": {
            "text/html": [
              "<div>\n",
              "<style scoped>\n",
              "    .dataframe tbody tr th:only-of-type {\n",
              "        vertical-align: middle;\n",
              "    }\n",
              "\n",
              "    .dataframe tbody tr th {\n",
              "        vertical-align: top;\n",
              "    }\n",
              "\n",
              "    .dataframe thead th {\n",
              "        text-align: right;\n",
              "    }\n",
              "</style>\n",
              "<table border=\"1\" class=\"dataframe\">\n",
              "  <thead>\n",
              "    <tr style=\"text-align: right;\">\n",
              "      <th></th>\n",
              "      <th>0</th>\n",
              "    </tr>\n",
              "  </thead>\n",
              "  <tbody>\n",
              "    <tr>\n",
              "      <th>0</th>\n",
              "      <td>140.084881</td>\n",
              "    </tr>\n",
              "    <tr>\n",
              "      <th>1</th>\n",
              "      <td>32.395905</td>\n",
              "    </tr>\n",
              "    <tr>\n",
              "      <th>2</th>\n",
              "      <td>-51.104806</td>\n",
              "    </tr>\n",
              "    <tr>\n",
              "      <th>3</th>\n",
              "      <td>112.122479</td>\n",
              "    </tr>\n",
              "    <tr>\n",
              "      <th>4</th>\n",
              "      <td>-3.265492</td>\n",
              "    </tr>\n",
              "    <tr>\n",
              "      <th>...</th>\n",
              "      <td>...</td>\n",
              "    </tr>\n",
              "    <tr>\n",
              "      <th>1995</th>\n",
              "      <td>54.501984</td>\n",
              "    </tr>\n",
              "    <tr>\n",
              "      <th>1996</th>\n",
              "      <td>33.353311</td>\n",
              "    </tr>\n",
              "    <tr>\n",
              "      <th>1997</th>\n",
              "      <td>97.292712</td>\n",
              "    </tr>\n",
              "    <tr>\n",
              "      <th>1998</th>\n",
              "      <td>16.133070</td>\n",
              "    </tr>\n",
              "    <tr>\n",
              "      <th>1999</th>\n",
              "      <td>136.844719</td>\n",
              "    </tr>\n",
              "  </tbody>\n",
              "</table>\n",
              "<p>2000 rows × 1 columns</p>\n",
              "</div>"
            ],
            "text/plain": [
              "               0\n",
              "0     140.084881\n",
              "1      32.395905\n",
              "2     -51.104806\n",
              "3     112.122479\n",
              "4      -3.265492\n",
              "...          ...\n",
              "1995   54.501984\n",
              "1996   33.353311\n",
              "1997   97.292712\n",
              "1998   16.133070\n",
              "1999  136.844719\n",
              "\n",
              "[2000 rows x 1 columns]"
            ]
          },
          "metadata": {
            "tags": []
          }
        },
        {
          "output_type": "stream",
          "text": [
            "(25,)\n"
          ],
          "name": "stdout"
        },
        {
          "output_type": "display_data",
          "data": {
            "text/html": [
              "<div>\n",
              "<style scoped>\n",
              "    .dataframe tbody tr th:only-of-type {\n",
              "        vertical-align: middle;\n",
              "    }\n",
              "\n",
              "    .dataframe tbody tr th {\n",
              "        vertical-align: top;\n",
              "    }\n",
              "\n",
              "    .dataframe thead th {\n",
              "        text-align: right;\n",
              "    }\n",
              "</style>\n",
              "<table border=\"1\" class=\"dataframe\">\n",
              "  <thead>\n",
              "    <tr style=\"text-align: right;\">\n",
              "      <th></th>\n",
              "      <th>0</th>\n",
              "      <th>1</th>\n",
              "      <th>2</th>\n",
              "      <th>3</th>\n",
              "      <th>4</th>\n",
              "      <th>5</th>\n",
              "      <th>6</th>\n",
              "      <th>7</th>\n",
              "      <th>8</th>\n",
              "      <th>9</th>\n",
              "      <th>10</th>\n",
              "      <th>11</th>\n",
              "      <th>12</th>\n",
              "      <th>13</th>\n",
              "      <th>14</th>\n",
              "      <th>15</th>\n",
              "      <th>16</th>\n",
              "      <th>17</th>\n",
              "      <th>18</th>\n",
              "      <th>19</th>\n",
              "      <th>20</th>\n",
              "      <th>21</th>\n",
              "      <th>22</th>\n",
              "      <th>23</th>\n",
              "      <th>24</th>\n",
              "    </tr>\n",
              "  </thead>\n",
              "  <tbody>\n",
              "    <tr>\n",
              "      <th>0</th>\n",
              "      <td>0.0</td>\n",
              "      <td>15.251797</td>\n",
              "      <td>0.0</td>\n",
              "      <td>0.0</td>\n",
              "      <td>0.0</td>\n",
              "      <td>0.0</td>\n",
              "      <td>0.0</td>\n",
              "      <td>0.0</td>\n",
              "      <td>0.0</td>\n",
              "      <td>0.0</td>\n",
              "      <td>40.804161</td>\n",
              "      <td>52.695668</td>\n",
              "      <td>0.0</td>\n",
              "      <td>0.0</td>\n",
              "      <td>0.0</td>\n",
              "      <td>69.126409</td>\n",
              "      <td>8.356917</td>\n",
              "      <td>0.0</td>\n",
              "      <td>0.0</td>\n",
              "      <td>0.0</td>\n",
              "      <td>0.0</td>\n",
              "      <td>0.0</td>\n",
              "      <td>0.0</td>\n",
              "      <td>0.0</td>\n",
              "      <td>0.0</td>\n",
              "    </tr>\n",
              "  </tbody>\n",
              "</table>\n",
              "</div>"
            ],
            "text/plain": [
              "    0          1    2    3    4    5    6   ...   18   19   20   21   22   23   24\n",
              "0  0.0  15.251797  0.0  0.0  0.0  0.0  0.0  ...  0.0  0.0  0.0  0.0  0.0  0.0  0.0\n",
              "\n",
              "[1 rows x 25 columns]"
            ]
          },
          "metadata": {
            "tags": []
          }
        }
      ]
    },
    {
      "cell_type": "markdown",
      "metadata": {
        "id": "ldOwsKdGfCVi"
      },
      "source": [
        "As expected, `X` is a 2000 x 25 array representing the 25 features of 2000 observations. `y` is a 2000 x 1 array representing the targets of each observation. The most interesting value is `coef_data`, which is a 1d 25 element array. We display `coef_data` as a DataFrame and transform it to represent it in the same dimensions as `X`. These are the coefficients for each feature in `X` used to generate the data.\n",
        "\n",
        "Note that most of the coefficients are 0. In fact, only 5 are not 0, consistent with our `make_regression` parameters. From `coef_data`, we see that only the 2nd, 11th, 12th, 16th, and 17th features are used to generate the data. This `coef_data` will allow us to compare the performance of our model with the original dataset, though we note that normally, we would not know the signal that generated the data. Indeed, this is why we use a tool like machine learning architectures to create models of observed behavior."
      ]
    },
    {
      "cell_type": "code",
      "metadata": {
        "id": "pIbx9BULqaaT"
      },
      "source": [
        "# create feature names -- these are generic feature names x_1, x_2, ..., x_25\n",
        "feature_names = np.array([f'x_{{{idx+1}}}' for idx in range(n_features)])"
      ],
      "execution_count": null,
      "outputs": []
    },
    {
      "cell_type": "markdown",
      "metadata": {
        "id": "EyCAK3Z8qbJc"
      },
      "source": [
        "In the above cell, we created an array of feature names in the format $x_1, x_2, \\dots, x_{25}$. This array will be useful for displaying various statistics related to our features."
      ]
    },
    {
      "cell_type": "markdown",
      "metadata": {
        "id": "pOmJw0fqhTZ1"
      },
      "source": [
        "## Sequester test data"
      ]
    },
    {
      "cell_type": "markdown",
      "metadata": {
        "id": "I7IAatsNhifn"
      },
      "source": [
        "Before we conduct any analysis on our data, we will sequester test data from our training data. For this, we use the [`train_test_split`](https://scikit-learn.org/stable/modules/generated/sklearn.model_selection.train_test_split.html) function in the `scikit-learn` library.\n",
        "\n",
        "For our purposes, we choose to use 20% of our data for test data, and we will reuse the random state we initialized above."
      ]
    },
    {
      "cell_type": "code",
      "metadata": {
        "id": "HoBiFXRzhS8S"
      },
      "source": [
        "from sklearn.model_selection import train_test_split\n",
        "\n",
        "# split and sequester test data\n",
        "X_train, X_test, y_train, y_test = train_test_split(X, y, test_size = 0.2, random_state=random_state)"
      ],
      "execution_count": null,
      "outputs": []
    },
    {
      "cell_type": "markdown",
      "metadata": {
        "id": "ovAfD44R0TcZ"
      },
      "source": [
        "## Analyze Data"
      ]
    },
    {
      "cell_type": "markdown",
      "metadata": {
        "id": "I1KWDdGC2k6N"
      },
      "source": [
        "Having removed our test data, let's turn to a brief analysis of our training data. A typical analysis will be much more thorough, but for our tutorial purposes we'll look briefly at only a histogram of each `X` feature and a correlation plot. \n",
        "\n",
        "One note about pairs plots, which we will not use, here. With 25 features and 2000 data points it will take several minutes to complete. Also, when conducting a pairs plot, we need to be certain to include the `y` target features to specifically evaluate the correlation between each `X` feature and `y`."
      ]
    },
    {
      "cell_type": "markdown",
      "metadata": {
        "id": "hWPbcv0I3fC2"
      },
      "source": [
        "First, we'll take a look at a simple histogram of each `X` feature as well as the `y` targets."
      ]
    },
    {
      "cell_type": "code",
      "metadata": {
        "colab": {
          "base_uri": "https://localhost:8080/",
          "height": 1000
        },
        "id": "pYoIKzlWploS",
        "outputId": "e6aa6d9c-4f38-46c0-a6e9-e676455880d2"
      },
      "source": [
        "import matplotlib.pyplot as plt\n",
        "\n",
        "pd.DataFrame(X_train, columns=feature_names).hist(layout=(5,5), figsize=(18,18))\n",
        "plt.show()\n",
        "\n",
        "pd.DataFrame(y_train, columns=['y']).hist()\n",
        "plt.show()"
      ],
      "execution_count": null,
      "outputs": [
        {
          "output_type": "display_data",
          "data": {
            "image/png": "[encoded data removed]",
            "text/plain": [
              "<Figure size 1296x1296 with 25 Axes>"
            ]
          },
          "metadata": {
            "tags": [],
            "needs_background": "light"
          }
        },
        {
          "output_type": "display_data",
          "data": {
            "image/png": "[encoded data removed]",
            "text/plain": [
              "<Figure size 432x288 with 1 Axes>"
            ]
          },
          "metadata": {
            "tags": [],
            "needs_background": "light"
          }
        }
      ]
    },
    {
      "cell_type": "markdown",
      "metadata": {
        "id": "L2gUinn43szl"
      },
      "source": [
        "We'll also plot the pairwise correlation values in a heatmap using `pandas` `corr` function. Correlation values indicate the relative correlation between two series over the range $[-1.0, 1.0]$ with -1.0 representing two series that are perfectly negatively correlated and 1.0 representing perfect positive correlation. Zero values indicate pairs with no correlation.\n",
        "\n",
        "To establish a constant color gradient, we set `vmin` and `vmax` to the possible range of correlation values $[-1.0, 1.0]$ instead of the default, which will use the actual data "
      ]
    },
    {
      "cell_type": "code",
      "metadata": {
        "colab": {
          "base_uri": "https://localhost:8080/",
          "height": 586
        },
        "id": "b9jMDC2P3s_l",
        "outputId": "cd8e9a93-9538-4f4a-c4a3-0c86cf0982ac"
      },
      "source": [
        "# Create a DataFrame of X features and y target\n",
        "df = pd.DataFrame(X_train, columns = feature_names)\n",
        "df['y'] = y_train\n",
        "\n",
        "# plot correlation to identify features which are highly correlated or \n",
        "# which might be important in determining y\n",
        "corr = df.corr()\n",
        "\n",
        "with pd.option_context('precision', 2):\n",
        "    display(corr.style.background_gradient(vmin=-1.0, vmax=1.0, cmap='bwr'))"
      ],
      "execution_count": null,
      "outputs": [
        {
          "output_type": "display_data",
          "data": {
            "text/html": [
              "<style  type=\"text/css\" >\n",
              "#T_6c8bd0ca_aaca_11eb_94ee_0242ac1c0002row0_col0,#T_6c8bd0ca_aaca_11eb_94ee_0242ac1c0002row1_col1,#T_6c8bd0ca_aaca_11eb_94ee_0242ac1c0002row2_col2,#T_6c8bd0ca_aaca_11eb_94ee_0242ac1c0002row3_col3,#T_6c8bd0ca_aaca_11eb_94ee_0242ac1c0002row4_col4,#T_6c8bd0ca_aaca_11eb_94ee_0242ac1c0002row5_col5,#T_6c8bd0ca_aaca_11eb_94ee_0242ac1c0002row6_col6,#T_6c8bd0ca_aaca_11eb_94ee_0242ac1c0002row7_col7,#T_6c8bd0ca_aaca_11eb_94ee_0242ac1c0002row8_col8,#T_6c8bd0ca_aaca_11eb_94ee_0242ac1c0002row9_col9,#T_6c8bd0ca_aaca_11eb_94ee_0242ac1c0002row10_col10,#T_6c8bd0ca_aaca_11eb_94ee_0242ac1c0002row11_col11,#T_6c8bd0ca_aaca_11eb_94ee_0242ac1c0002row12_col12,#T_6c8bd0ca_aaca_11eb_94ee_0242ac1c0002row13_col13,#T_6c8bd0ca_aaca_11eb_94ee_0242ac1c0002row14_col14,#T_6c8bd0ca_aaca_11eb_94ee_0242ac1c0002row15_col15,#T_6c8bd0ca_aaca_11eb_94ee_0242ac1c0002row16_col16,#T_6c8bd0ca_aaca_11eb_94ee_0242ac1c0002row17_col17,#T_6c8bd0ca_aaca_11eb_94ee_0242ac1c0002row18_col18,#T_6c8bd0ca_aaca_11eb_94ee_0242ac1c0002row19_col19,#T_6c8bd0ca_aaca_11eb_94ee_0242ac1c0002row20_col20,#T_6c8bd0ca_aaca_11eb_94ee_0242ac1c0002row21_col21,#T_6c8bd0ca_aaca_11eb_94ee_0242ac1c0002row22_col22,#T_6c8bd0ca_aaca_11eb_94ee_0242ac1c0002row23_col23,#T_6c8bd0ca_aaca_11eb_94ee_0242ac1c0002row24_col24,#T_6c8bd0ca_aaca_11eb_94ee_0242ac1c0002row25_col25{\n",
              "            background-color:  #ff0000;\n",
              "            color:  #f1f1f1;\n",
              "        }#T_6c8bd0ca_aaca_11eb_94ee_0242ac1c0002row0_col1,#T_6c8bd0ca_aaca_11eb_94ee_0242ac1c0002row0_col4,#T_6c8bd0ca_aaca_11eb_94ee_0242ac1c0002row0_col10,#T_6c8bd0ca_aaca_11eb_94ee_0242ac1c0002row0_col20,#T_6c8bd0ca_aaca_11eb_94ee_0242ac1c0002row0_col22,#T_6c8bd0ca_aaca_11eb_94ee_0242ac1c0002row1_col0,#T_6c8bd0ca_aaca_11eb_94ee_0242ac1c0002row1_col15,#T_6c8bd0ca_aaca_11eb_94ee_0242ac1c0002row2_col15,#T_6c8bd0ca_aaca_11eb_94ee_0242ac1c0002row2_col17,#T_6c8bd0ca_aaca_11eb_94ee_0242ac1c0002row2_col18,#T_6c8bd0ca_aaca_11eb_94ee_0242ac1c0002row3_col5,#T_6c8bd0ca_aaca_11eb_94ee_0242ac1c0002row3_col24,#T_6c8bd0ca_aaca_11eb_94ee_0242ac1c0002row4_col0,#T_6c8bd0ca_aaca_11eb_94ee_0242ac1c0002row4_col12,#T_6c8bd0ca_aaca_11eb_94ee_0242ac1c0002row4_col24,#T_6c8bd0ca_aaca_11eb_94ee_0242ac1c0002row5_col3,#T_6c8bd0ca_aaca_11eb_94ee_0242ac1c0002row5_col20,#T_6c8bd0ca_aaca_11eb_94ee_0242ac1c0002row6_col13,#T_6c8bd0ca_aaca_11eb_94ee_0242ac1c0002row7_col12,#T_6c8bd0ca_aaca_11eb_94ee_0242ac1c0002row7_col13,#T_6c8bd0ca_aaca_11eb_94ee_0242ac1c0002row7_col19,#T_6c8bd0ca_aaca_11eb_94ee_0242ac1c0002row7_col24,#T_6c8bd0ca_aaca_11eb_94ee_0242ac1c0002row8_col13,#T_6c8bd0ca_aaca_11eb_94ee_0242ac1c0002row8_col19,#T_6c8bd0ca_aaca_11eb_94ee_0242ac1c0002row9_col11,#T_6c8bd0ca_aaca_11eb_94ee_0242ac1c0002row10_col0,#T_6c8bd0ca_aaca_11eb_94ee_0242ac1c0002row10_col13,#T_6c8bd0ca_aaca_11eb_94ee_0242ac1c0002row10_col15,#T_6c8bd0ca_aaca_11eb_94ee_0242ac1c0002row11_col9,#T_6c8bd0ca_aaca_11eb_94ee_0242ac1c0002row12_col4,#T_6c8bd0ca_aaca_11eb_94ee_0242ac1c0002row12_col7,#T_6c8bd0ca_aaca_11eb_94ee_0242ac1c0002row12_col13,#T_6c8bd0ca_aaca_11eb_94ee_0242ac1c0002row12_col22,#T_6c8bd0ca_aaca_11eb_94ee_0242ac1c0002row13_col6,#T_6c8bd0ca_aaca_11eb_94ee_0242ac1c0002row13_col7,#T_6c8bd0ca_aaca_11eb_94ee_0242ac1c0002row13_col8,#T_6c8bd0ca_aaca_11eb_94ee_0242ac1c0002row13_col10,#T_6c8bd0ca_aaca_11eb_94ee_0242ac1c0002row13_col12,#T_6c8bd0ca_aaca_11eb_94ee_0242ac1c0002row13_col18,#T_6c8bd0ca_aaca_11eb_94ee_0242ac1c0002row15_col1,#T_6c8bd0ca_aaca_11eb_94ee_0242ac1c0002row15_col2,#T_6c8bd0ca_aaca_11eb_94ee_0242ac1c0002row15_col10,#T_6c8bd0ca_aaca_11eb_94ee_0242ac1c0002row17_col2,#T_6c8bd0ca_aaca_11eb_94ee_0242ac1c0002row18_col2,#T_6c8bd0ca_aaca_11eb_94ee_0242ac1c0002row18_col13,#T_6c8bd0ca_aaca_11eb_94ee_0242ac1c0002row19_col7,#T_6c8bd0ca_aaca_11eb_94ee_0242ac1c0002row19_col8,#T_6c8bd0ca_aaca_11eb_94ee_0242ac1c0002row19_col21,#T_6c8bd0ca_aaca_11eb_94ee_0242ac1c0002row20_col0,#T_6c8bd0ca_aaca_11eb_94ee_0242ac1c0002row20_col5,#T_6c8bd0ca_aaca_11eb_94ee_0242ac1c0002row20_col23,#T_6c8bd0ca_aaca_11eb_94ee_0242ac1c0002row21_col19,#T_6c8bd0ca_aaca_11eb_94ee_0242ac1c0002row21_col22,#T_6c8bd0ca_aaca_11eb_94ee_0242ac1c0002row21_col23,#T_6c8bd0ca_aaca_11eb_94ee_0242ac1c0002row22_col0,#T_6c8bd0ca_aaca_11eb_94ee_0242ac1c0002row22_col12,#T_6c8bd0ca_aaca_11eb_94ee_0242ac1c0002row22_col21,#T_6c8bd0ca_aaca_11eb_94ee_0242ac1c0002row22_col24,#T_6c8bd0ca_aaca_11eb_94ee_0242ac1c0002row23_col20,#T_6c8bd0ca_aaca_11eb_94ee_0242ac1c0002row23_col21,#T_6c8bd0ca_aaca_11eb_94ee_0242ac1c0002row24_col3,#T_6c8bd0ca_aaca_11eb_94ee_0242ac1c0002row24_col4,#T_6c8bd0ca_aaca_11eb_94ee_0242ac1c0002row24_col7,#T_6c8bd0ca_aaca_11eb_94ee_0242ac1c0002row24_col22{\n",
              "            background-color:  #fefeff;\n",
              "            color:  #000000;\n",
              "        }#T_6c8bd0ca_aaca_11eb_94ee_0242ac1c0002row0_col2,#T_6c8bd0ca_aaca_11eb_94ee_0242ac1c0002row2_col0,#T_6c8bd0ca_aaca_11eb_94ee_0242ac1c0002row2_col14,#T_6c8bd0ca_aaca_11eb_94ee_0242ac1c0002row5_col12,#T_6c8bd0ca_aaca_11eb_94ee_0242ac1c0002row6_col16,#T_6c8bd0ca_aaca_11eb_94ee_0242ac1c0002row7_col14,#T_6c8bd0ca_aaca_11eb_94ee_0242ac1c0002row8_col12,#T_6c8bd0ca_aaca_11eb_94ee_0242ac1c0002row12_col5,#T_6c8bd0ca_aaca_11eb_94ee_0242ac1c0002row12_col8,#T_6c8bd0ca_aaca_11eb_94ee_0242ac1c0002row14_col2,#T_6c8bd0ca_aaca_11eb_94ee_0242ac1c0002row14_col7,#T_6c8bd0ca_aaca_11eb_94ee_0242ac1c0002row14_col25,#T_6c8bd0ca_aaca_11eb_94ee_0242ac1c0002row15_col24,#T_6c8bd0ca_aaca_11eb_94ee_0242ac1c0002row16_col6,#T_6c8bd0ca_aaca_11eb_94ee_0242ac1c0002row20_col21,#T_6c8bd0ca_aaca_11eb_94ee_0242ac1c0002row21_col20,#T_6c8bd0ca_aaca_11eb_94ee_0242ac1c0002row24_col15,#T_6c8bd0ca_aaca_11eb_94ee_0242ac1c0002row25_col14{\n",
              "            background-color:  #fff2f2;\n",
              "            color:  #000000;\n",
              "        }#T_6c8bd0ca_aaca_11eb_94ee_0242ac1c0002row0_col3,#T_6c8bd0ca_aaca_11eb_94ee_0242ac1c0002row0_col12,#T_6c8bd0ca_aaca_11eb_94ee_0242ac1c0002row1_col2,#T_6c8bd0ca_aaca_11eb_94ee_0242ac1c0002row1_col4,#T_6c8bd0ca_aaca_11eb_94ee_0242ac1c0002row1_col14,#T_6c8bd0ca_aaca_11eb_94ee_0242ac1c0002row1_col22,#T_6c8bd0ca_aaca_11eb_94ee_0242ac1c0002row2_col1,#T_6c8bd0ca_aaca_11eb_94ee_0242ac1c0002row2_col5,#T_6c8bd0ca_aaca_11eb_94ee_0242ac1c0002row2_col6,#T_6c8bd0ca_aaca_11eb_94ee_0242ac1c0002row2_col8,#T_6c8bd0ca_aaca_11eb_94ee_0242ac1c0002row2_col13,#T_6c8bd0ca_aaca_11eb_94ee_0242ac1c0002row2_col24,#T_6c8bd0ca_aaca_11eb_94ee_0242ac1c0002row3_col0,#T_6c8bd0ca_aaca_11eb_94ee_0242ac1c0002row3_col7,#T_6c8bd0ca_aaca_11eb_94ee_0242ac1c0002row3_col17,#T_6c8bd0ca_aaca_11eb_94ee_0242ac1c0002row3_col20,#T_6c8bd0ca_aaca_11eb_94ee_0242ac1c0002row4_col1,#T_6c8bd0ca_aaca_11eb_94ee_0242ac1c0002row4_col19,#T_6c8bd0ca_aaca_11eb_94ee_0242ac1c0002row4_col25,#T_6c8bd0ca_aaca_11eb_94ee_0242ac1c0002row5_col2,#T_6c8bd0ca_aaca_11eb_94ee_0242ac1c0002row5_col6,#T_6c8bd0ca_aaca_11eb_94ee_0242ac1c0002row5_col7,#T_6c8bd0ca_aaca_11eb_94ee_0242ac1c0002row5_col14,#T_6c8bd0ca_aaca_11eb_94ee_0242ac1c0002row5_col23,#T_6c8bd0ca_aaca_11eb_94ee_0242ac1c0002row6_col2,#T_6c8bd0ca_aaca_11eb_94ee_0242ac1c0002row6_col5,#T_6c8bd0ca_aaca_11eb_94ee_0242ac1c0002row6_col9,#T_6c8bd0ca_aaca_11eb_94ee_0242ac1c0002row6_col11,#T_6c8bd0ca_aaca_11eb_94ee_0242ac1c0002row6_col23,#T_6c8bd0ca_aaca_11eb_94ee_0242ac1c0002row7_col3,#T_6c8bd0ca_aaca_11eb_94ee_0242ac1c0002row7_col5,#T_6c8bd0ca_aaca_11eb_94ee_0242ac1c0002row7_col15,#T_6c8bd0ca_aaca_11eb_94ee_0242ac1c0002row7_col25,#T_6c8bd0ca_aaca_11eb_94ee_0242ac1c0002row8_col2,#T_6c8bd0ca_aaca_11eb_94ee_0242ac1c0002row9_col6,#T_6c8bd0ca_aaca_11eb_94ee_0242ac1c0002row9_col14,#T_6c8bd0ca_aaca_11eb_94ee_0242ac1c0002row9_col23,#T_6c8bd0ca_aaca_11eb_94ee_0242ac1c0002row10_col17,#T_6c8bd0ca_aaca_11eb_94ee_0242ac1c0002row11_col6,#T_6c8bd0ca_aaca_11eb_94ee_0242ac1c0002row11_col15,#T_6c8bd0ca_aaca_11eb_94ee_0242ac1c0002row12_col0,#T_6c8bd0ca_aaca_11eb_94ee_0242ac1c0002row12_col17,#T_6c8bd0ca_aaca_11eb_94ee_0242ac1c0002row12_col25,#T_6c8bd0ca_aaca_11eb_94ee_0242ac1c0002row13_col2,#T_6c8bd0ca_aaca_11eb_94ee_0242ac1c0002row13_col16,#T_6c8bd0ca_aaca_11eb_94ee_0242ac1c0002row14_col1,#T_6c8bd0ca_aaca_11eb_94ee_0242ac1c0002row14_col5,#T_6c8bd0ca_aaca_11eb_94ee_0242ac1c0002row14_col9,#T_6c8bd0ca_aaca_11eb_94ee_0242ac1c0002row14_col18,#T_6c8bd0ca_aaca_11eb_94ee_0242ac1c0002row14_col23,#T_6c8bd0ca_aaca_11eb_94ee_0242ac1c0002row15_col7,#T_6c8bd0ca_aaca_11eb_94ee_0242ac1c0002row15_col11,#T_6c8bd0ca_aaca_11eb_94ee_0242ac1c0002row16_col13,#T_6c8bd0ca_aaca_11eb_94ee_0242ac1c0002row16_col18,#T_6c8bd0ca_aaca_11eb_94ee_0242ac1c0002row16_col21,#T_6c8bd0ca_aaca_11eb_94ee_0242ac1c0002row16_col22,#T_6c8bd0ca_aaca_11eb_94ee_0242ac1c0002row16_col23,#T_6c8bd0ca_aaca_11eb_94ee_0242ac1c0002row17_col3,#T_6c8bd0ca_aaca_11eb_94ee_0242ac1c0002row17_col10,#T_6c8bd0ca_aaca_11eb_94ee_0242ac1c0002row17_col12,#T_6c8bd0ca_aaca_11eb_94ee_0242ac1c0002row18_col14,#T_6c8bd0ca_aaca_11eb_94ee_0242ac1c0002row18_col16,#T_6c8bd0ca_aaca_11eb_94ee_0242ac1c0002row18_col24,#T_6c8bd0ca_aaca_11eb_94ee_0242ac1c0002row19_col4,#T_6c8bd0ca_aaca_11eb_94ee_0242ac1c0002row20_col3,#T_6c8bd0ca_aaca_11eb_94ee_0242ac1c0002row21_col16,#T_6c8bd0ca_aaca_11eb_94ee_0242ac1c0002row22_col1,#T_6c8bd0ca_aaca_11eb_94ee_0242ac1c0002row22_col16,#T_6c8bd0ca_aaca_11eb_94ee_0242ac1c0002row23_col5,#T_6c8bd0ca_aaca_11eb_94ee_0242ac1c0002row23_col6,#T_6c8bd0ca_aaca_11eb_94ee_0242ac1c0002row23_col9,#T_6c8bd0ca_aaca_11eb_94ee_0242ac1c0002row23_col14,#T_6c8bd0ca_aaca_11eb_94ee_0242ac1c0002row23_col16,#T_6c8bd0ca_aaca_11eb_94ee_0242ac1c0002row23_col25,#T_6c8bd0ca_aaca_11eb_94ee_0242ac1c0002row24_col2,#T_6c8bd0ca_aaca_11eb_94ee_0242ac1c0002row24_col18,#T_6c8bd0ca_aaca_11eb_94ee_0242ac1c0002row25_col4,#T_6c8bd0ca_aaca_11eb_94ee_0242ac1c0002row25_col7,#T_6c8bd0ca_aaca_11eb_94ee_0242ac1c0002row25_col12,#T_6c8bd0ca_aaca_11eb_94ee_0242ac1c0002row25_col23{\n",
              "            background-color:  #fffcfc;\n",
              "            color:  #000000;\n",
              "        }#T_6c8bd0ca_aaca_11eb_94ee_0242ac1c0002row0_col5,#T_6c8bd0ca_aaca_11eb_94ee_0242ac1c0002row5_col0,#T_6c8bd0ca_aaca_11eb_94ee_0242ac1c0002row14_col15,#T_6c8bd0ca_aaca_11eb_94ee_0242ac1c0002row15_col14{\n",
              "            background-color:  #ffeeee;\n",
              "            color:  #000000;\n",
              "        }#T_6c8bd0ca_aaca_11eb_94ee_0242ac1c0002row0_col6,#T_6c8bd0ca_aaca_11eb_94ee_0242ac1c0002row0_col9,#T_6c8bd0ca_aaca_11eb_94ee_0242ac1c0002row2_col20,#T_6c8bd0ca_aaca_11eb_94ee_0242ac1c0002row2_col25,#T_6c8bd0ca_aaca_11eb_94ee_0242ac1c0002row3_col4,#T_6c8bd0ca_aaca_11eb_94ee_0242ac1c0002row3_col13,#T_6c8bd0ca_aaca_11eb_94ee_0242ac1c0002row3_col15,#T_6c8bd0ca_aaca_11eb_94ee_0242ac1c0002row3_col16,#T_6c8bd0ca_aaca_11eb_94ee_0242ac1c0002row3_col23,#T_6c8bd0ca_aaca_11eb_94ee_0242ac1c0002row4_col3,#T_6c8bd0ca_aaca_11eb_94ee_0242ac1c0002row4_col8,#T_6c8bd0ca_aaca_11eb_94ee_0242ac1c0002row4_col10,#T_6c8bd0ca_aaca_11eb_94ee_0242ac1c0002row4_col11,#T_6c8bd0ca_aaca_11eb_94ee_0242ac1c0002row4_col15,#T_6c8bd0ca_aaca_11eb_94ee_0242ac1c0002row5_col24,#T_6c8bd0ca_aaca_11eb_94ee_0242ac1c0002row6_col0,#T_6c8bd0ca_aaca_11eb_94ee_0242ac1c0002row6_col10,#T_6c8bd0ca_aaca_11eb_94ee_0242ac1c0002row7_col16,#T_6c8bd0ca_aaca_11eb_94ee_0242ac1c0002row7_col18,#T_6c8bd0ca_aaca_11eb_94ee_0242ac1c0002row8_col4,#T_6c8bd0ca_aaca_11eb_94ee_0242ac1c0002row8_col21,#T_6c8bd0ca_aaca_11eb_94ee_0242ac1c0002row9_col0,#T_6c8bd0ca_aaca_11eb_94ee_0242ac1c0002row9_col15,#T_6c8bd0ca_aaca_11eb_94ee_0242ac1c0002row9_col19,#T_6c8bd0ca_aaca_11eb_94ee_0242ac1c0002row9_col20,#T_6c8bd0ca_aaca_11eb_94ee_0242ac1c0002row10_col4,#T_6c8bd0ca_aaca_11eb_94ee_0242ac1c0002row10_col6,#T_6c8bd0ca_aaca_11eb_94ee_0242ac1c0002row10_col19,#T_6c8bd0ca_aaca_11eb_94ee_0242ac1c0002row10_col24,#T_6c8bd0ca_aaca_11eb_94ee_0242ac1c0002row11_col4,#T_6c8bd0ca_aaca_11eb_94ee_0242ac1c0002row12_col20,#T_6c8bd0ca_aaca_11eb_94ee_0242ac1c0002row13_col3,#T_6c8bd0ca_aaca_11eb_94ee_0242ac1c0002row15_col3,#T_6c8bd0ca_aaca_11eb_94ee_0242ac1c0002row15_col4,#T_6c8bd0ca_aaca_11eb_94ee_0242ac1c0002row15_col9,#T_6c8bd0ca_aaca_11eb_94ee_0242ac1c0002row15_col16,#T_6c8bd0ca_aaca_11eb_94ee_0242ac1c0002row16_col3,#T_6c8bd0ca_aaca_11eb_94ee_0242ac1c0002row16_col7,#T_6c8bd0ca_aaca_11eb_94ee_0242ac1c0002row16_col15,#T_6c8bd0ca_aaca_11eb_94ee_0242ac1c0002row17_col24,#T_6c8bd0ca_aaca_11eb_94ee_0242ac1c0002row18_col7,#T_6c8bd0ca_aaca_11eb_94ee_0242ac1c0002row19_col9,#T_6c8bd0ca_aaca_11eb_94ee_0242ac1c0002row19_col10,#T_6c8bd0ca_aaca_11eb_94ee_0242ac1c0002row19_col23,#T_6c8bd0ca_aaca_11eb_94ee_0242ac1c0002row20_col2,#T_6c8bd0ca_aaca_11eb_94ee_0242ac1c0002row20_col9,#T_6c8bd0ca_aaca_11eb_94ee_0242ac1c0002row20_col12,#T_6c8bd0ca_aaca_11eb_94ee_0242ac1c0002row20_col24,#T_6c8bd0ca_aaca_11eb_94ee_0242ac1c0002row21_col8,#T_6c8bd0ca_aaca_11eb_94ee_0242ac1c0002row21_col24,#T_6c8bd0ca_aaca_11eb_94ee_0242ac1c0002row21_col25,#T_6c8bd0ca_aaca_11eb_94ee_0242ac1c0002row23_col3,#T_6c8bd0ca_aaca_11eb_94ee_0242ac1c0002row23_col19,#T_6c8bd0ca_aaca_11eb_94ee_0242ac1c0002row24_col5,#T_6c8bd0ca_aaca_11eb_94ee_0242ac1c0002row24_col10,#T_6c8bd0ca_aaca_11eb_94ee_0242ac1c0002row24_col17,#T_6c8bd0ca_aaca_11eb_94ee_0242ac1c0002row24_col20,#T_6c8bd0ca_aaca_11eb_94ee_0242ac1c0002row24_col21,#T_6c8bd0ca_aaca_11eb_94ee_0242ac1c0002row25_col2,#T_6c8bd0ca_aaca_11eb_94ee_0242ac1c0002row25_col21{\n",
              "            background-color:  #fffefe;\n",
              "            color:  #000000;\n",
              "        }#T_6c8bd0ca_aaca_11eb_94ee_0242ac1c0002row0_col7,#T_6c8bd0ca_aaca_11eb_94ee_0242ac1c0002row1_col3,#T_6c8bd0ca_aaca_11eb_94ee_0242ac1c0002row1_col6,#T_6c8bd0ca_aaca_11eb_94ee_0242ac1c0002row2_col16,#T_6c8bd0ca_aaca_11eb_94ee_0242ac1c0002row3_col1,#T_6c8bd0ca_aaca_11eb_94ee_0242ac1c0002row3_col12,#T_6c8bd0ca_aaca_11eb_94ee_0242ac1c0002row3_col21,#T_6c8bd0ca_aaca_11eb_94ee_0242ac1c0002row5_col10,#T_6c8bd0ca_aaca_11eb_94ee_0242ac1c0002row6_col1,#T_6c8bd0ca_aaca_11eb_94ee_0242ac1c0002row6_col18,#T_6c8bd0ca_aaca_11eb_94ee_0242ac1c0002row6_col19,#T_6c8bd0ca_aaca_11eb_94ee_0242ac1c0002row7_col0,#T_6c8bd0ca_aaca_11eb_94ee_0242ac1c0002row7_col9,#T_6c8bd0ca_aaca_11eb_94ee_0242ac1c0002row7_col11,#T_6c8bd0ca_aaca_11eb_94ee_0242ac1c0002row7_col22,#T_6c8bd0ca_aaca_11eb_94ee_0242ac1c0002row7_col23,#T_6c8bd0ca_aaca_11eb_94ee_0242ac1c0002row8_col25,#T_6c8bd0ca_aaca_11eb_94ee_0242ac1c0002row9_col7,#T_6c8bd0ca_aaca_11eb_94ee_0242ac1c0002row10_col5,#T_6c8bd0ca_aaca_11eb_94ee_0242ac1c0002row11_col7,#T_6c8bd0ca_aaca_11eb_94ee_0242ac1c0002row12_col3,#T_6c8bd0ca_aaca_11eb_94ee_0242ac1c0002row13_col17,#T_6c8bd0ca_aaca_11eb_94ee_0242ac1c0002row16_col2,#T_6c8bd0ca_aaca_11eb_94ee_0242ac1c0002row17_col13,#T_6c8bd0ca_aaca_11eb_94ee_0242ac1c0002row18_col6,#T_6c8bd0ca_aaca_11eb_94ee_0242ac1c0002row19_col6,#T_6c8bd0ca_aaca_11eb_94ee_0242ac1c0002row19_col24,#T_6c8bd0ca_aaca_11eb_94ee_0242ac1c0002row19_col25,#T_6c8bd0ca_aaca_11eb_94ee_0242ac1c0002row21_col3,#T_6c8bd0ca_aaca_11eb_94ee_0242ac1c0002row22_col7,#T_6c8bd0ca_aaca_11eb_94ee_0242ac1c0002row23_col7,#T_6c8bd0ca_aaca_11eb_94ee_0242ac1c0002row24_col19,#T_6c8bd0ca_aaca_11eb_94ee_0242ac1c0002row25_col8,#T_6c8bd0ca_aaca_11eb_94ee_0242ac1c0002row25_col19{\n",
              "            background-color:  #f6f6ff;\n",
              "            color:  #000000;\n",
              "        }#T_6c8bd0ca_aaca_11eb_94ee_0242ac1c0002row0_col8,#T_6c8bd0ca_aaca_11eb_94ee_0242ac1c0002row0_col13,#T_6c8bd0ca_aaca_11eb_94ee_0242ac1c0002row0_col14,#T_6c8bd0ca_aaca_11eb_94ee_0242ac1c0002row0_col23,#T_6c8bd0ca_aaca_11eb_94ee_0242ac1c0002row1_col11,#T_6c8bd0ca_aaca_11eb_94ee_0242ac1c0002row1_col13,#T_6c8bd0ca_aaca_11eb_94ee_0242ac1c0002row1_col20,#T_6c8bd0ca_aaca_11eb_94ee_0242ac1c0002row1_col21,#T_6c8bd0ca_aaca_11eb_94ee_0242ac1c0002row2_col12,#T_6c8bd0ca_aaca_11eb_94ee_0242ac1c0002row2_col22,#T_6c8bd0ca_aaca_11eb_94ee_0242ac1c0002row3_col8,#T_6c8bd0ca_aaca_11eb_94ee_0242ac1c0002row4_col14,#T_6c8bd0ca_aaca_11eb_94ee_0242ac1c0002row4_col21,#T_6c8bd0ca_aaca_11eb_94ee_0242ac1c0002row5_col17,#T_6c8bd0ca_aaca_11eb_94ee_0242ac1c0002row5_col22,#T_6c8bd0ca_aaca_11eb_94ee_0242ac1c0002row6_col22,#T_6c8bd0ca_aaca_11eb_94ee_0242ac1c0002row7_col21,#T_6c8bd0ca_aaca_11eb_94ee_0242ac1c0002row8_col0,#T_6c8bd0ca_aaca_11eb_94ee_0242ac1c0002row8_col3,#T_6c8bd0ca_aaca_11eb_94ee_0242ac1c0002row8_col10,#T_6c8bd0ca_aaca_11eb_94ee_0242ac1c0002row9_col12,#T_6c8bd0ca_aaca_11eb_94ee_0242ac1c0002row9_col25,#T_6c8bd0ca_aaca_11eb_94ee_0242ac1c0002row10_col8,#T_6c8bd0ca_aaca_11eb_94ee_0242ac1c0002row10_col20,#T_6c8bd0ca_aaca_11eb_94ee_0242ac1c0002row10_col22,#T_6c8bd0ca_aaca_11eb_94ee_0242ac1c0002row11_col1,#T_6c8bd0ca_aaca_11eb_94ee_0242ac1c0002row11_col14,#T_6c8bd0ca_aaca_11eb_94ee_0242ac1c0002row11_col17,#T_6c8bd0ca_aaca_11eb_94ee_0242ac1c0002row11_col21,#T_6c8bd0ca_aaca_11eb_94ee_0242ac1c0002row11_col22,#T_6c8bd0ca_aaca_11eb_94ee_0242ac1c0002row11_col24,#T_6c8bd0ca_aaca_11eb_94ee_0242ac1c0002row12_col2,#T_6c8bd0ca_aaca_11eb_94ee_0242ac1c0002row12_col9,#T_6c8bd0ca_aaca_11eb_94ee_0242ac1c0002row12_col16,#T_6c8bd0ca_aaca_11eb_94ee_0242ac1c0002row13_col0,#T_6c8bd0ca_aaca_11eb_94ee_0242ac1c0002row13_col1,#T_6c8bd0ca_aaca_11eb_94ee_0242ac1c0002row13_col21,#T_6c8bd0ca_aaca_11eb_94ee_0242ac1c0002row13_col23,#T_6c8bd0ca_aaca_11eb_94ee_0242ac1c0002row14_col0,#T_6c8bd0ca_aaca_11eb_94ee_0242ac1c0002row14_col4,#T_6c8bd0ca_aaca_11eb_94ee_0242ac1c0002row14_col11,#T_6c8bd0ca_aaca_11eb_94ee_0242ac1c0002row15_col20,#T_6c8bd0ca_aaca_11eb_94ee_0242ac1c0002row16_col12,#T_6c8bd0ca_aaca_11eb_94ee_0242ac1c0002row17_col5,#T_6c8bd0ca_aaca_11eb_94ee_0242ac1c0002row17_col11,#T_6c8bd0ca_aaca_11eb_94ee_0242ac1c0002row20_col1,#T_6c8bd0ca_aaca_11eb_94ee_0242ac1c0002row20_col10,#T_6c8bd0ca_aaca_11eb_94ee_0242ac1c0002row20_col15,#T_6c8bd0ca_aaca_11eb_94ee_0242ac1c0002row21_col1,#T_6c8bd0ca_aaca_11eb_94ee_0242ac1c0002row21_col4,#T_6c8bd0ca_aaca_11eb_94ee_0242ac1c0002row21_col7,#T_6c8bd0ca_aaca_11eb_94ee_0242ac1c0002row21_col11,#T_6c8bd0ca_aaca_11eb_94ee_0242ac1c0002row21_col13,#T_6c8bd0ca_aaca_11eb_94ee_0242ac1c0002row22_col2,#T_6c8bd0ca_aaca_11eb_94ee_0242ac1c0002row22_col5,#T_6c8bd0ca_aaca_11eb_94ee_0242ac1c0002row22_col6,#T_6c8bd0ca_aaca_11eb_94ee_0242ac1c0002row22_col10,#T_6c8bd0ca_aaca_11eb_94ee_0242ac1c0002row22_col11,#T_6c8bd0ca_aaca_11eb_94ee_0242ac1c0002row22_col25,#T_6c8bd0ca_aaca_11eb_94ee_0242ac1c0002row23_col0,#T_6c8bd0ca_aaca_11eb_94ee_0242ac1c0002row23_col13,#T_6c8bd0ca_aaca_11eb_94ee_0242ac1c0002row24_col11,#T_6c8bd0ca_aaca_11eb_94ee_0242ac1c0002row25_col9,#T_6c8bd0ca_aaca_11eb_94ee_0242ac1c0002row25_col22{\n",
              "            background-color:  #fafaff;\n",
              "            color:  #000000;\n",
              "        }#T_6c8bd0ca_aaca_11eb_94ee_0242ac1c0002row0_col11,#T_6c8bd0ca_aaca_11eb_94ee_0242ac1c0002row0_col15,#T_6c8bd0ca_aaca_11eb_94ee_0242ac1c0002row0_col16,#T_6c8bd0ca_aaca_11eb_94ee_0242ac1c0002row0_col17,#T_6c8bd0ca_aaca_11eb_94ee_0242ac1c0002row1_col10,#T_6c8bd0ca_aaca_11eb_94ee_0242ac1c0002row3_col9,#T_6c8bd0ca_aaca_11eb_94ee_0242ac1c0002row3_col19,#T_6c8bd0ca_aaca_11eb_94ee_0242ac1c0002row5_col8,#T_6c8bd0ca_aaca_11eb_94ee_0242ac1c0002row6_col7,#T_6c8bd0ca_aaca_11eb_94ee_0242ac1c0002row7_col6,#T_6c8bd0ca_aaca_11eb_94ee_0242ac1c0002row8_col5,#T_6c8bd0ca_aaca_11eb_94ee_0242ac1c0002row8_col9,#T_6c8bd0ca_aaca_11eb_94ee_0242ac1c0002row8_col11,#T_6c8bd0ca_aaca_11eb_94ee_0242ac1c0002row8_col15,#T_6c8bd0ca_aaca_11eb_94ee_0242ac1c0002row8_col23,#T_6c8bd0ca_aaca_11eb_94ee_0242ac1c0002row8_col24,#T_6c8bd0ca_aaca_11eb_94ee_0242ac1c0002row9_col3,#T_6c8bd0ca_aaca_11eb_94ee_0242ac1c0002row9_col8,#T_6c8bd0ca_aaca_11eb_94ee_0242ac1c0002row10_col1,#T_6c8bd0ca_aaca_11eb_94ee_0242ac1c0002row10_col11,#T_6c8bd0ca_aaca_11eb_94ee_0242ac1c0002row11_col0,#T_6c8bd0ca_aaca_11eb_94ee_0242ac1c0002row11_col8,#T_6c8bd0ca_aaca_11eb_94ee_0242ac1c0002row11_col10,#T_6c8bd0ca_aaca_11eb_94ee_0242ac1c0002row11_col13,#T_6c8bd0ca_aaca_11eb_94ee_0242ac1c0002row11_col23,#T_6c8bd0ca_aaca_11eb_94ee_0242ac1c0002row12_col18,#T_6c8bd0ca_aaca_11eb_94ee_0242ac1c0002row12_col23,#T_6c8bd0ca_aaca_11eb_94ee_0242ac1c0002row12_col24,#T_6c8bd0ca_aaca_11eb_94ee_0242ac1c0002row13_col11,#T_6c8bd0ca_aaca_11eb_94ee_0242ac1c0002row14_col20,#T_6c8bd0ca_aaca_11eb_94ee_0242ac1c0002row15_col0,#T_6c8bd0ca_aaca_11eb_94ee_0242ac1c0002row15_col8,#T_6c8bd0ca_aaca_11eb_94ee_0242ac1c0002row16_col0,#T_6c8bd0ca_aaca_11eb_94ee_0242ac1c0002row17_col0,#T_6c8bd0ca_aaca_11eb_94ee_0242ac1c0002row18_col12,#T_6c8bd0ca_aaca_11eb_94ee_0242ac1c0002row18_col19,#T_6c8bd0ca_aaca_11eb_94ee_0242ac1c0002row18_col20,#T_6c8bd0ca_aaca_11eb_94ee_0242ac1c0002row19_col3,#T_6c8bd0ca_aaca_11eb_94ee_0242ac1c0002row19_col18,#T_6c8bd0ca_aaca_11eb_94ee_0242ac1c0002row20_col14,#T_6c8bd0ca_aaca_11eb_94ee_0242ac1c0002row20_col18,#T_6c8bd0ca_aaca_11eb_94ee_0242ac1c0002row23_col8,#T_6c8bd0ca_aaca_11eb_94ee_0242ac1c0002row23_col11,#T_6c8bd0ca_aaca_11eb_94ee_0242ac1c0002row23_col12,#T_6c8bd0ca_aaca_11eb_94ee_0242ac1c0002row24_col8,#T_6c8bd0ca_aaca_11eb_94ee_0242ac1c0002row24_col12{\n",
              "            background-color:  #f8f8ff;\n",
              "            color:  #000000;\n",
              "        }#T_6c8bd0ca_aaca_11eb_94ee_0242ac1c0002row0_col18,#T_6c8bd0ca_aaca_11eb_94ee_0242ac1c0002row0_col24,#T_6c8bd0ca_aaca_11eb_94ee_0242ac1c0002row1_col5,#T_6c8bd0ca_aaca_11eb_94ee_0242ac1c0002row2_col3,#T_6c8bd0ca_aaca_11eb_94ee_0242ac1c0002row2_col9,#T_6c8bd0ca_aaca_11eb_94ee_0242ac1c0002row2_col10,#T_6c8bd0ca_aaca_11eb_94ee_0242ac1c0002row3_col2,#T_6c8bd0ca_aaca_11eb_94ee_0242ac1c0002row4_col6,#T_6c8bd0ca_aaca_11eb_94ee_0242ac1c0002row4_col22,#T_6c8bd0ca_aaca_11eb_94ee_0242ac1c0002row5_col1,#T_6c8bd0ca_aaca_11eb_94ee_0242ac1c0002row6_col4,#T_6c8bd0ca_aaca_11eb_94ee_0242ac1c0002row6_col8,#T_6c8bd0ca_aaca_11eb_94ee_0242ac1c0002row7_col17,#T_6c8bd0ca_aaca_11eb_94ee_0242ac1c0002row8_col6,#T_6c8bd0ca_aaca_11eb_94ee_0242ac1c0002row8_col17,#T_6c8bd0ca_aaca_11eb_94ee_0242ac1c0002row9_col2,#T_6c8bd0ca_aaca_11eb_94ee_0242ac1c0002row9_col22,#T_6c8bd0ca_aaca_11eb_94ee_0242ac1c0002row10_col2,#T_6c8bd0ca_aaca_11eb_94ee_0242ac1c0002row10_col16,#T_6c8bd0ca_aaca_11eb_94ee_0242ac1c0002row10_col18,#T_6c8bd0ca_aaca_11eb_94ee_0242ac1c0002row11_col18,#T_6c8bd0ca_aaca_11eb_94ee_0242ac1c0002row12_col14,#T_6c8bd0ca_aaca_11eb_94ee_0242ac1c0002row13_col14,#T_6c8bd0ca_aaca_11eb_94ee_0242ac1c0002row13_col20,#T_6c8bd0ca_aaca_11eb_94ee_0242ac1c0002row14_col12,#T_6c8bd0ca_aaca_11eb_94ee_0242ac1c0002row14_col13,#T_6c8bd0ca_aaca_11eb_94ee_0242ac1c0002row14_col19,#T_6c8bd0ca_aaca_11eb_94ee_0242ac1c0002row15_col21,#T_6c8bd0ca_aaca_11eb_94ee_0242ac1c0002row16_col10,#T_6c8bd0ca_aaca_11eb_94ee_0242ac1c0002row16_col19,#T_6c8bd0ca_aaca_11eb_94ee_0242ac1c0002row17_col7,#T_6c8bd0ca_aaca_11eb_94ee_0242ac1c0002row17_col8,#T_6c8bd0ca_aaca_11eb_94ee_0242ac1c0002row17_col23,#T_6c8bd0ca_aaca_11eb_94ee_0242ac1c0002row18_col0,#T_6c8bd0ca_aaca_11eb_94ee_0242ac1c0002row18_col10,#T_6c8bd0ca_aaca_11eb_94ee_0242ac1c0002row18_col11,#T_6c8bd0ca_aaca_11eb_94ee_0242ac1c0002row18_col22,#T_6c8bd0ca_aaca_11eb_94ee_0242ac1c0002row19_col14,#T_6c8bd0ca_aaca_11eb_94ee_0242ac1c0002row19_col16,#T_6c8bd0ca_aaca_11eb_94ee_0242ac1c0002row20_col13,#T_6c8bd0ca_aaca_11eb_94ee_0242ac1c0002row21_col15,#T_6c8bd0ca_aaca_11eb_94ee_0242ac1c0002row22_col4,#T_6c8bd0ca_aaca_11eb_94ee_0242ac1c0002row22_col9,#T_6c8bd0ca_aaca_11eb_94ee_0242ac1c0002row22_col18,#T_6c8bd0ca_aaca_11eb_94ee_0242ac1c0002row23_col17,#T_6c8bd0ca_aaca_11eb_94ee_0242ac1c0002row24_col0,#T_6c8bd0ca_aaca_11eb_94ee_0242ac1c0002row24_col25,#T_6c8bd0ca_aaca_11eb_94ee_0242ac1c0002row25_col24{\n",
              "            background-color:  #fff8f8;\n",
              "            color:  #000000;\n",
              "        }#T_6c8bd0ca_aaca_11eb_94ee_0242ac1c0002row0_col19,#T_6c8bd0ca_aaca_11eb_94ee_0242ac1c0002row1_col8,#T_6c8bd0ca_aaca_11eb_94ee_0242ac1c0002row1_col9,#T_6c8bd0ca_aaca_11eb_94ee_0242ac1c0002row1_col12,#T_6c8bd0ca_aaca_11eb_94ee_0242ac1c0002row1_col17,#T_6c8bd0ca_aaca_11eb_94ee_0242ac1c0002row2_col4,#T_6c8bd0ca_aaca_11eb_94ee_0242ac1c0002row2_col7,#T_6c8bd0ca_aaca_11eb_94ee_0242ac1c0002row4_col2,#T_6c8bd0ca_aaca_11eb_94ee_0242ac1c0002row5_col9,#T_6c8bd0ca_aaca_11eb_94ee_0242ac1c0002row5_col19,#T_6c8bd0ca_aaca_11eb_94ee_0242ac1c0002row5_col25,#T_6c8bd0ca_aaca_11eb_94ee_0242ac1c0002row6_col12,#T_6c8bd0ca_aaca_11eb_94ee_0242ac1c0002row6_col15,#T_6c8bd0ca_aaca_11eb_94ee_0242ac1c0002row6_col25,#T_6c8bd0ca_aaca_11eb_94ee_0242ac1c0002row7_col2,#T_6c8bd0ca_aaca_11eb_94ee_0242ac1c0002row8_col1,#T_6c8bd0ca_aaca_11eb_94ee_0242ac1c0002row8_col14,#T_6c8bd0ca_aaca_11eb_94ee_0242ac1c0002row8_col22,#T_6c8bd0ca_aaca_11eb_94ee_0242ac1c0002row9_col1,#T_6c8bd0ca_aaca_11eb_94ee_0242ac1c0002row9_col5,#T_6c8bd0ca_aaca_11eb_94ee_0242ac1c0002row10_col23,#T_6c8bd0ca_aaca_11eb_94ee_0242ac1c0002row11_col16,#T_6c8bd0ca_aaca_11eb_94ee_0242ac1c0002row11_col20,#T_6c8bd0ca_aaca_11eb_94ee_0242ac1c0002row12_col1,#T_6c8bd0ca_aaca_11eb_94ee_0242ac1c0002row12_col6,#T_6c8bd0ca_aaca_11eb_94ee_0242ac1c0002row12_col19,#T_6c8bd0ca_aaca_11eb_94ee_0242ac1c0002row13_col15,#T_6c8bd0ca_aaca_11eb_94ee_0242ac1c0002row14_col8,#T_6c8bd0ca_aaca_11eb_94ee_0242ac1c0002row15_col6,#T_6c8bd0ca_aaca_11eb_94ee_0242ac1c0002row15_col13,#T_6c8bd0ca_aaca_11eb_94ee_0242ac1c0002row15_col18,#T_6c8bd0ca_aaca_11eb_94ee_0242ac1c0002row16_col11,#T_6c8bd0ca_aaca_11eb_94ee_0242ac1c0002row17_col1,#T_6c8bd0ca_aaca_11eb_94ee_0242ac1c0002row17_col18,#T_6c8bd0ca_aaca_11eb_94ee_0242ac1c0002row17_col20,#T_6c8bd0ca_aaca_11eb_94ee_0242ac1c0002row17_col21,#T_6c8bd0ca_aaca_11eb_94ee_0242ac1c0002row17_col25,#T_6c8bd0ca_aaca_11eb_94ee_0242ac1c0002row18_col15,#T_6c8bd0ca_aaca_11eb_94ee_0242ac1c0002row18_col17,#T_6c8bd0ca_aaca_11eb_94ee_0242ac1c0002row19_col0,#T_6c8bd0ca_aaca_11eb_94ee_0242ac1c0002row19_col5,#T_6c8bd0ca_aaca_11eb_94ee_0242ac1c0002row19_col12,#T_6c8bd0ca_aaca_11eb_94ee_0242ac1c0002row20_col11,#T_6c8bd0ca_aaca_11eb_94ee_0242ac1c0002row20_col17,#T_6c8bd0ca_aaca_11eb_94ee_0242ac1c0002row20_col22,#T_6c8bd0ca_aaca_11eb_94ee_0242ac1c0002row21_col17,#T_6c8bd0ca_aaca_11eb_94ee_0242ac1c0002row22_col8,#T_6c8bd0ca_aaca_11eb_94ee_0242ac1c0002row22_col20,#T_6c8bd0ca_aaca_11eb_94ee_0242ac1c0002row23_col10,#T_6c8bd0ca_aaca_11eb_94ee_0242ac1c0002row25_col5,#T_6c8bd0ca_aaca_11eb_94ee_0242ac1c0002row25_col6,#T_6c8bd0ca_aaca_11eb_94ee_0242ac1c0002row25_col17{\n",
              "            background-color:  #fffafa;\n",
              "            color:  #000000;\n",
              "        }#T_6c8bd0ca_aaca_11eb_94ee_0242ac1c0002row0_col21,#T_6c8bd0ca_aaca_11eb_94ee_0242ac1c0002row1_col16,#T_6c8bd0ca_aaca_11eb_94ee_0242ac1c0002row1_col19,#T_6c8bd0ca_aaca_11eb_94ee_0242ac1c0002row1_col23,#T_6c8bd0ca_aaca_11eb_94ee_0242ac1c0002row1_col24,#T_6c8bd0ca_aaca_11eb_94ee_0242ac1c0002row2_col11,#T_6c8bd0ca_aaca_11eb_94ee_0242ac1c0002row2_col19,#T_6c8bd0ca_aaca_11eb_94ee_0242ac1c0002row2_col21,#T_6c8bd0ca_aaca_11eb_94ee_0242ac1c0002row3_col6,#T_6c8bd0ca_aaca_11eb_94ee_0242ac1c0002row3_col14,#T_6c8bd0ca_aaca_11eb_94ee_0242ac1c0002row3_col18,#T_6c8bd0ca_aaca_11eb_94ee_0242ac1c0002row3_col22,#T_6c8bd0ca_aaca_11eb_94ee_0242ac1c0002row4_col7,#T_6c8bd0ca_aaca_11eb_94ee_0242ac1c0002row4_col20,#T_6c8bd0ca_aaca_11eb_94ee_0242ac1c0002row4_col23,#T_6c8bd0ca_aaca_11eb_94ee_0242ac1c0002row5_col15,#T_6c8bd0ca_aaca_11eb_94ee_0242ac1c0002row5_col16,#T_6c8bd0ca_aaca_11eb_94ee_0242ac1c0002row6_col3,#T_6c8bd0ca_aaca_11eb_94ee_0242ac1c0002row6_col17,#T_6c8bd0ca_aaca_11eb_94ee_0242ac1c0002row7_col4,#T_6c8bd0ca_aaca_11eb_94ee_0242ac1c0002row7_col8,#T_6c8bd0ca_aaca_11eb_94ee_0242ac1c0002row7_col20,#T_6c8bd0ca_aaca_11eb_94ee_0242ac1c0002row8_col7,#T_6c8bd0ca_aaca_11eb_94ee_0242ac1c0002row8_col18,#T_6c8bd0ca_aaca_11eb_94ee_0242ac1c0002row8_col20,#T_6c8bd0ca_aaca_11eb_94ee_0242ac1c0002row9_col18,#T_6c8bd0ca_aaca_11eb_94ee_0242ac1c0002row9_col24,#T_6c8bd0ca_aaca_11eb_94ee_0242ac1c0002row10_col12,#T_6c8bd0ca_aaca_11eb_94ee_0242ac1c0002row10_col21,#T_6c8bd0ca_aaca_11eb_94ee_0242ac1c0002row11_col2,#T_6c8bd0ca_aaca_11eb_94ee_0242ac1c0002row11_col12,#T_6c8bd0ca_aaca_11eb_94ee_0242ac1c0002row11_col19,#T_6c8bd0ca_aaca_11eb_94ee_0242ac1c0002row12_col10,#T_6c8bd0ca_aaca_11eb_94ee_0242ac1c0002row12_col11,#T_6c8bd0ca_aaca_11eb_94ee_0242ac1c0002row12_col21,#T_6c8bd0ca_aaca_11eb_94ee_0242ac1c0002row13_col19,#T_6c8bd0ca_aaca_11eb_94ee_0242ac1c0002row13_col25,#T_6c8bd0ca_aaca_11eb_94ee_0242ac1c0002row14_col3,#T_6c8bd0ca_aaca_11eb_94ee_0242ac1c0002row14_col16,#T_6c8bd0ca_aaca_11eb_94ee_0242ac1c0002row14_col21,#T_6c8bd0ca_aaca_11eb_94ee_0242ac1c0002row14_col24,#T_6c8bd0ca_aaca_11eb_94ee_0242ac1c0002row15_col5,#T_6c8bd0ca_aaca_11eb_94ee_0242ac1c0002row15_col22,#T_6c8bd0ca_aaca_11eb_94ee_0242ac1c0002row16_col1,#T_6c8bd0ca_aaca_11eb_94ee_0242ac1c0002row16_col5,#T_6c8bd0ca_aaca_11eb_94ee_0242ac1c0002row16_col14,#T_6c8bd0ca_aaca_11eb_94ee_0242ac1c0002row16_col24,#T_6c8bd0ca_aaca_11eb_94ee_0242ac1c0002row17_col6,#T_6c8bd0ca_aaca_11eb_94ee_0242ac1c0002row18_col3,#T_6c8bd0ca_aaca_11eb_94ee_0242ac1c0002row18_col8,#T_6c8bd0ca_aaca_11eb_94ee_0242ac1c0002row18_col9,#T_6c8bd0ca_aaca_11eb_94ee_0242ac1c0002row18_col23,#T_6c8bd0ca_aaca_11eb_94ee_0242ac1c0002row19_col1,#T_6c8bd0ca_aaca_11eb_94ee_0242ac1c0002row19_col2,#T_6c8bd0ca_aaca_11eb_94ee_0242ac1c0002row19_col11,#T_6c8bd0ca_aaca_11eb_94ee_0242ac1c0002row19_col13,#T_6c8bd0ca_aaca_11eb_94ee_0242ac1c0002row20_col4,#T_6c8bd0ca_aaca_11eb_94ee_0242ac1c0002row20_col7,#T_6c8bd0ca_aaca_11eb_94ee_0242ac1c0002row20_col8,#T_6c8bd0ca_aaca_11eb_94ee_0242ac1c0002row20_col25,#T_6c8bd0ca_aaca_11eb_94ee_0242ac1c0002row21_col0,#T_6c8bd0ca_aaca_11eb_94ee_0242ac1c0002row21_col2,#T_6c8bd0ca_aaca_11eb_94ee_0242ac1c0002row21_col10,#T_6c8bd0ca_aaca_11eb_94ee_0242ac1c0002row21_col12,#T_6c8bd0ca_aaca_11eb_94ee_0242ac1c0002row21_col14,#T_6c8bd0ca_aaca_11eb_94ee_0242ac1c0002row22_col3,#T_6c8bd0ca_aaca_11eb_94ee_0242ac1c0002row22_col15,#T_6c8bd0ca_aaca_11eb_94ee_0242ac1c0002row22_col23,#T_6c8bd0ca_aaca_11eb_94ee_0242ac1c0002row23_col1,#T_6c8bd0ca_aaca_11eb_94ee_0242ac1c0002row23_col4,#T_6c8bd0ca_aaca_11eb_94ee_0242ac1c0002row23_col18,#T_6c8bd0ca_aaca_11eb_94ee_0242ac1c0002row23_col22,#T_6c8bd0ca_aaca_11eb_94ee_0242ac1c0002row23_col24,#T_6c8bd0ca_aaca_11eb_94ee_0242ac1c0002row24_col1,#T_6c8bd0ca_aaca_11eb_94ee_0242ac1c0002row24_col9,#T_6c8bd0ca_aaca_11eb_94ee_0242ac1c0002row24_col14,#T_6c8bd0ca_aaca_11eb_94ee_0242ac1c0002row24_col16,#T_6c8bd0ca_aaca_11eb_94ee_0242ac1c0002row24_col23,#T_6c8bd0ca_aaca_11eb_94ee_0242ac1c0002row25_col13,#T_6c8bd0ca_aaca_11eb_94ee_0242ac1c0002row25_col20{\n",
              "            background-color:  #fcfcff;\n",
              "            color:  #000000;\n",
              "        }#T_6c8bd0ca_aaca_11eb_94ee_0242ac1c0002row0_col25,#T_6c8bd0ca_aaca_11eb_94ee_0242ac1c0002row4_col5,#T_6c8bd0ca_aaca_11eb_94ee_0242ac1c0002row5_col4,#T_6c8bd0ca_aaca_11eb_94ee_0242ac1c0002row5_col13,#T_6c8bd0ca_aaca_11eb_94ee_0242ac1c0002row5_col18,#T_6c8bd0ca_aaca_11eb_94ee_0242ac1c0002row6_col21,#T_6c8bd0ca_aaca_11eb_94ee_0242ac1c0002row9_col17,#T_6c8bd0ca_aaca_11eb_94ee_0242ac1c0002row13_col5,#T_6c8bd0ca_aaca_11eb_94ee_0242ac1c0002row14_col22,#T_6c8bd0ca_aaca_11eb_94ee_0242ac1c0002row15_col19,#T_6c8bd0ca_aaca_11eb_94ee_0242ac1c0002row16_col17,#T_6c8bd0ca_aaca_11eb_94ee_0242ac1c0002row17_col9,#T_6c8bd0ca_aaca_11eb_94ee_0242ac1c0002row17_col16,#T_6c8bd0ca_aaca_11eb_94ee_0242ac1c0002row18_col5,#T_6c8bd0ca_aaca_11eb_94ee_0242ac1c0002row18_col21,#T_6c8bd0ca_aaca_11eb_94ee_0242ac1c0002row19_col15,#T_6c8bd0ca_aaca_11eb_94ee_0242ac1c0002row21_col6,#T_6c8bd0ca_aaca_11eb_94ee_0242ac1c0002row21_col18,#T_6c8bd0ca_aaca_11eb_94ee_0242ac1c0002row22_col14,#T_6c8bd0ca_aaca_11eb_94ee_0242ac1c0002row25_col0{\n",
              "            background-color:  #f4f4ff;\n",
              "            color:  #000000;\n",
              "        }#T_6c8bd0ca_aaca_11eb_94ee_0242ac1c0002row1_col7,#T_6c8bd0ca_aaca_11eb_94ee_0242ac1c0002row3_col10,#T_6c8bd0ca_aaca_11eb_94ee_0242ac1c0002row3_col11,#T_6c8bd0ca_aaca_11eb_94ee_0242ac1c0002row3_col25,#T_6c8bd0ca_aaca_11eb_94ee_0242ac1c0002row6_col20,#T_6c8bd0ca_aaca_11eb_94ee_0242ac1c0002row6_col24,#T_6c8bd0ca_aaca_11eb_94ee_0242ac1c0002row7_col1,#T_6c8bd0ca_aaca_11eb_94ee_0242ac1c0002row10_col3,#T_6c8bd0ca_aaca_11eb_94ee_0242ac1c0002row10_col14,#T_6c8bd0ca_aaca_11eb_94ee_0242ac1c0002row11_col3,#T_6c8bd0ca_aaca_11eb_94ee_0242ac1c0002row14_col10,#T_6c8bd0ca_aaca_11eb_94ee_0242ac1c0002row16_col20,#T_6c8bd0ca_aaca_11eb_94ee_0242ac1c0002row18_col25,#T_6c8bd0ca_aaca_11eb_94ee_0242ac1c0002row19_col20,#T_6c8bd0ca_aaca_11eb_94ee_0242ac1c0002row20_col6,#T_6c8bd0ca_aaca_11eb_94ee_0242ac1c0002row20_col16,#T_6c8bd0ca_aaca_11eb_94ee_0242ac1c0002row20_col19,#T_6c8bd0ca_aaca_11eb_94ee_0242ac1c0002row24_col6,#T_6c8bd0ca_aaca_11eb_94ee_0242ac1c0002row25_col3,#T_6c8bd0ca_aaca_11eb_94ee_0242ac1c0002row25_col18{\n",
              "            background-color:  #fff4f4;\n",
              "            color:  #000000;\n",
              "        }#T_6c8bd0ca_aaca_11eb_94ee_0242ac1c0002row1_col18,#T_6c8bd0ca_aaca_11eb_94ee_0242ac1c0002row2_col23,#T_6c8bd0ca_aaca_11eb_94ee_0242ac1c0002row4_col13,#T_6c8bd0ca_aaca_11eb_94ee_0242ac1c0002row4_col16,#T_6c8bd0ca_aaca_11eb_94ee_0242ac1c0002row4_col17,#T_6c8bd0ca_aaca_11eb_94ee_0242ac1c0002row7_col10,#T_6c8bd0ca_aaca_11eb_94ee_0242ac1c0002row8_col16,#T_6c8bd0ca_aaca_11eb_94ee_0242ac1c0002row9_col16,#T_6c8bd0ca_aaca_11eb_94ee_0242ac1c0002row9_col21,#T_6c8bd0ca_aaca_11eb_94ee_0242ac1c0002row10_col7,#T_6c8bd0ca_aaca_11eb_94ee_0242ac1c0002row12_col15,#T_6c8bd0ca_aaca_11eb_94ee_0242ac1c0002row13_col4,#T_6c8bd0ca_aaca_11eb_94ee_0242ac1c0002row14_col17,#T_6c8bd0ca_aaca_11eb_94ee_0242ac1c0002row15_col12,#T_6c8bd0ca_aaca_11eb_94ee_0242ac1c0002row15_col17,#T_6c8bd0ca_aaca_11eb_94ee_0242ac1c0002row15_col23,#T_6c8bd0ca_aaca_11eb_94ee_0242ac1c0002row16_col4,#T_6c8bd0ca_aaca_11eb_94ee_0242ac1c0002row16_col8,#T_6c8bd0ca_aaca_11eb_94ee_0242ac1c0002row16_col9,#T_6c8bd0ca_aaca_11eb_94ee_0242ac1c0002row17_col4,#T_6c8bd0ca_aaca_11eb_94ee_0242ac1c0002row17_col14,#T_6c8bd0ca_aaca_11eb_94ee_0242ac1c0002row17_col15,#T_6c8bd0ca_aaca_11eb_94ee_0242ac1c0002row17_col22,#T_6c8bd0ca_aaca_11eb_94ee_0242ac1c0002row18_col1,#T_6c8bd0ca_aaca_11eb_94ee_0242ac1c0002row19_col22,#T_6c8bd0ca_aaca_11eb_94ee_0242ac1c0002row21_col9,#T_6c8bd0ca_aaca_11eb_94ee_0242ac1c0002row22_col17,#T_6c8bd0ca_aaca_11eb_94ee_0242ac1c0002row22_col19,#T_6c8bd0ca_aaca_11eb_94ee_0242ac1c0002row23_col2,#T_6c8bd0ca_aaca_11eb_94ee_0242ac1c0002row23_col15{\n",
              "            background-color:  #fff6f6;\n",
              "            color:  #000000;\n",
              "        }#T_6c8bd0ca_aaca_11eb_94ee_0242ac1c0002row1_col25,#T_6c8bd0ca_aaca_11eb_94ee_0242ac1c0002row25_col1{\n",
              "            background-color:  #ffdcdc;\n",
              "            color:  #000000;\n",
              "        }#T_6c8bd0ca_aaca_11eb_94ee_0242ac1c0002row4_col9,#T_6c8bd0ca_aaca_11eb_94ee_0242ac1c0002row9_col4{\n",
              "            background-color:  #eeeeff;\n",
              "            color:  #000000;\n",
              "        }#T_6c8bd0ca_aaca_11eb_94ee_0242ac1c0002row4_col18,#T_6c8bd0ca_aaca_11eb_94ee_0242ac1c0002row18_col4{\n",
              "            background-color:  #fff0f0;\n",
              "            color:  #000000;\n",
              "        }#T_6c8bd0ca_aaca_11eb_94ee_0242ac1c0002row5_col11,#T_6c8bd0ca_aaca_11eb_94ee_0242ac1c0002row11_col5{\n",
              "            background-color:  #ffeaea;\n",
              "            color:  #000000;\n",
              "        }#T_6c8bd0ca_aaca_11eb_94ee_0242ac1c0002row5_col21,#T_6c8bd0ca_aaca_11eb_94ee_0242ac1c0002row6_col14,#T_6c8bd0ca_aaca_11eb_94ee_0242ac1c0002row9_col10,#T_6c8bd0ca_aaca_11eb_94ee_0242ac1c0002row9_col13,#T_6c8bd0ca_aaca_11eb_94ee_0242ac1c0002row10_col9,#T_6c8bd0ca_aaca_11eb_94ee_0242ac1c0002row13_col9,#T_6c8bd0ca_aaca_11eb_94ee_0242ac1c0002row13_col22,#T_6c8bd0ca_aaca_11eb_94ee_0242ac1c0002row13_col24,#T_6c8bd0ca_aaca_11eb_94ee_0242ac1c0002row14_col6,#T_6c8bd0ca_aaca_11eb_94ee_0242ac1c0002row21_col5,#T_6c8bd0ca_aaca_11eb_94ee_0242ac1c0002row22_col13,#T_6c8bd0ca_aaca_11eb_94ee_0242ac1c0002row24_col13{\n",
              "            background-color:  #f2f2ff;\n",
              "            color:  #000000;\n",
              "        }#T_6c8bd0ca_aaca_11eb_94ee_0242ac1c0002row10_col25,#T_6c8bd0ca_aaca_11eb_94ee_0242ac1c0002row25_col10{\n",
              "            background-color:  #ff9898;\n",
              "            color:  #000000;\n",
              "        }#T_6c8bd0ca_aaca_11eb_94ee_0242ac1c0002row11_col25,#T_6c8bd0ca_aaca_11eb_94ee_0242ac1c0002row25_col11{\n",
              "            background-color:  #ff7676;\n",
              "            color:  #000000;\n",
              "        }#T_6c8bd0ca_aaca_11eb_94ee_0242ac1c0002row15_col25,#T_6c8bd0ca_aaca_11eb_94ee_0242ac1c0002row25_col15{\n",
              "            background-color:  #ff4848;\n",
              "            color:  #000000;\n",
              "        }#T_6c8bd0ca_aaca_11eb_94ee_0242ac1c0002row16_col25,#T_6c8bd0ca_aaca_11eb_94ee_0242ac1c0002row25_col16{\n",
              "            background-color:  #ffe4e4;\n",
              "            color:  #000000;\n",
              "        }#T_6c8bd0ca_aaca_11eb_94ee_0242ac1c0002row17_col19,#T_6c8bd0ca_aaca_11eb_94ee_0242ac1c0002row19_col17{\n",
              "            background-color:  #ffecec;\n",
              "            color:  #000000;\n",
              "        }</style><table id=\"T_6c8bd0ca_aaca_11eb_94ee_0242ac1c0002\" ><thead>    <tr>        <th class=\"blank level0\" ></th>        <th class=\"col_heading level0 col0\" >x_{1}</th>        <th class=\"col_heading level0 col1\" >x_{2}</th>        <th class=\"col_heading level0 col2\" >x_{3}</th>        <th class=\"col_heading level0 col3\" >x_{4}</th>        <th class=\"col_heading level0 col4\" >x_{5}</th>        <th class=\"col_heading level0 col5\" >x_{6}</th>        <th class=\"col_heading level0 col6\" >x_{7}</th>        <th class=\"col_heading level0 col7\" >x_{8}</th>        <th class=\"col_heading level0 col8\" >x_{9}</th>        <th class=\"col_heading level0 col9\" >x_{10}</th>        <th class=\"col_heading level0 col10\" >x_{11}</th>        <th class=\"col_heading level0 col11\" >x_{12}</th>        <th class=\"col_heading level0 col12\" >x_{13}</th>        <th class=\"col_heading level0 col13\" >x_{14}</th>        <th class=\"col_heading level0 col14\" >x_{15}</th>        <th class=\"col_heading level0 col15\" >x_{16}</th>        <th class=\"col_heading level0 col16\" >x_{17}</th>        <th class=\"col_heading level0 col17\" >x_{18}</th>        <th class=\"col_heading level0 col18\" >x_{19}</th>        <th class=\"col_heading level0 col19\" >x_{20}</th>        <th class=\"col_heading level0 col20\" >x_{21}</th>        <th class=\"col_heading level0 col21\" >x_{22}</th>        <th class=\"col_heading level0 col22\" >x_{23}</th>        <th class=\"col_heading level0 col23\" >x_{24}</th>        <th class=\"col_heading level0 col24\" >x_{25}</th>        <th class=\"col_heading level0 col25\" >y</th>    </tr></thead><tbody>\n",
              "                <tr>\n",
              "                        <th id=\"T_6c8bd0ca_aaca_11eb_94ee_0242ac1c0002level0_row0\" class=\"row_heading level0 row0\" >x_{1}</th>\n",
              "                        <td id=\"T_6c8bd0ca_aaca_11eb_94ee_0242ac1c0002row0_col0\" class=\"data row0 col0\" >1.00</td>\n",
              "                        <td id=\"T_6c8bd0ca_aaca_11eb_94ee_0242ac1c0002row0_col1\" class=\"data row0 col1\" >-0.01</td>\n",
              "                        <td id=\"T_6c8bd0ca_aaca_11eb_94ee_0242ac1c0002row0_col2\" class=\"data row0 col2\" >0.05</td>\n",
              "                        <td id=\"T_6c8bd0ca_aaca_11eb_94ee_0242ac1c0002row0_col3\" class=\"data row0 col3\" >0.01</td>\n",
              "                        <td id=\"T_6c8bd0ca_aaca_11eb_94ee_0242ac1c0002row0_col4\" class=\"data row0 col4\" >-0.01</td>\n",
              "                        <td id=\"T_6c8bd0ca_aaca_11eb_94ee_0242ac1c0002row0_col5\" class=\"data row0 col5\" >0.06</td>\n",
              "                        <td id=\"T_6c8bd0ca_aaca_11eb_94ee_0242ac1c0002row0_col6\" class=\"data row0 col6\" >0.00</td>\n",
              "                        <td id=\"T_6c8bd0ca_aaca_11eb_94ee_0242ac1c0002row0_col7\" class=\"data row0 col7\" >-0.03</td>\n",
              "                        <td id=\"T_6c8bd0ca_aaca_11eb_94ee_0242ac1c0002row0_col8\" class=\"data row0 col8\" >-0.02</td>\n",
              "                        <td id=\"T_6c8bd0ca_aaca_11eb_94ee_0242ac1c0002row0_col9\" class=\"data row0 col9\" >0.00</td>\n",
              "                        <td id=\"T_6c8bd0ca_aaca_11eb_94ee_0242ac1c0002row0_col10\" class=\"data row0 col10\" >-0.00</td>\n",
              "                        <td id=\"T_6c8bd0ca_aaca_11eb_94ee_0242ac1c0002row0_col11\" class=\"data row0 col11\" >-0.03</td>\n",
              "                        <td id=\"T_6c8bd0ca_aaca_11eb_94ee_0242ac1c0002row0_col12\" class=\"data row0 col12\" >0.01</td>\n",
              "                        <td id=\"T_6c8bd0ca_aaca_11eb_94ee_0242ac1c0002row0_col13\" class=\"data row0 col13\" >-0.02</td>\n",
              "                        <td id=\"T_6c8bd0ca_aaca_11eb_94ee_0242ac1c0002row0_col14\" class=\"data row0 col14\" >-0.02</td>\n",
              "                        <td id=\"T_6c8bd0ca_aaca_11eb_94ee_0242ac1c0002row0_col15\" class=\"data row0 col15\" >-0.03</td>\n",
              "                        <td id=\"T_6c8bd0ca_aaca_11eb_94ee_0242ac1c0002row0_col16\" class=\"data row0 col16\" >-0.03</td>\n",
              "                        <td id=\"T_6c8bd0ca_aaca_11eb_94ee_0242ac1c0002row0_col17\" class=\"data row0 col17\" >-0.03</td>\n",
              "                        <td id=\"T_6c8bd0ca_aaca_11eb_94ee_0242ac1c0002row0_col18\" class=\"data row0 col18\" >0.02</td>\n",
              "                        <td id=\"T_6c8bd0ca_aaca_11eb_94ee_0242ac1c0002row0_col19\" class=\"data row0 col19\" >0.02</td>\n",
              "                        <td id=\"T_6c8bd0ca_aaca_11eb_94ee_0242ac1c0002row0_col20\" class=\"data row0 col20\" >-0.00</td>\n",
              "                        <td id=\"T_6c8bd0ca_aaca_11eb_94ee_0242ac1c0002row0_col21\" class=\"data row0 col21\" >-0.01</td>\n",
              "                        <td id=\"T_6c8bd0ca_aaca_11eb_94ee_0242ac1c0002row0_col22\" class=\"data row0 col22\" >-0.00</td>\n",
              "                        <td id=\"T_6c8bd0ca_aaca_11eb_94ee_0242ac1c0002row0_col23\" class=\"data row0 col23\" >-0.02</td>\n",
              "                        <td id=\"T_6c8bd0ca_aaca_11eb_94ee_0242ac1c0002row0_col24\" class=\"data row0 col24\" >0.02</td>\n",
              "                        <td id=\"T_6c8bd0ca_aaca_11eb_94ee_0242ac1c0002row0_col25\" class=\"data row0 col25\" >-0.04</td>\n",
              "            </tr>\n",
              "            <tr>\n",
              "                        <th id=\"T_6c8bd0ca_aaca_11eb_94ee_0242ac1c0002level0_row1\" class=\"row_heading level0 row1\" >x_{2}</th>\n",
              "                        <td id=\"T_6c8bd0ca_aaca_11eb_94ee_0242ac1c0002row1_col0\" class=\"data row1 col0\" >-0.01</td>\n",
              "                        <td id=\"T_6c8bd0ca_aaca_11eb_94ee_0242ac1c0002row1_col1\" class=\"data row1 col1\" >1.00</td>\n",
              "                        <td id=\"T_6c8bd0ca_aaca_11eb_94ee_0242ac1c0002row1_col2\" class=\"data row1 col2\" >0.01</td>\n",
              "                        <td id=\"T_6c8bd0ca_aaca_11eb_94ee_0242ac1c0002row1_col3\" class=\"data row1 col3\" >-0.04</td>\n",
              "                        <td id=\"T_6c8bd0ca_aaca_11eb_94ee_0242ac1c0002row1_col4\" class=\"data row1 col4\" >0.01</td>\n",
              "                        <td id=\"T_6c8bd0ca_aaca_11eb_94ee_0242ac1c0002row1_col5\" class=\"data row1 col5\" >0.03</td>\n",
              "                        <td id=\"T_6c8bd0ca_aaca_11eb_94ee_0242ac1c0002row1_col6\" class=\"data row1 col6\" >-0.03</td>\n",
              "                        <td id=\"T_6c8bd0ca_aaca_11eb_94ee_0242ac1c0002row1_col7\" class=\"data row1 col7\" >0.04</td>\n",
              "                        <td id=\"T_6c8bd0ca_aaca_11eb_94ee_0242ac1c0002row1_col8\" class=\"data row1 col8\" >0.02</td>\n",
              "                        <td id=\"T_6c8bd0ca_aaca_11eb_94ee_0242ac1c0002row1_col9\" class=\"data row1 col9\" >0.02</td>\n",
              "                        <td id=\"T_6c8bd0ca_aaca_11eb_94ee_0242ac1c0002row1_col10\" class=\"data row1 col10\" >-0.02</td>\n",
              "                        <td id=\"T_6c8bd0ca_aaca_11eb_94ee_0242ac1c0002row1_col11\" class=\"data row1 col11\" >-0.02</td>\n",
              "                        <td id=\"T_6c8bd0ca_aaca_11eb_94ee_0242ac1c0002row1_col12\" class=\"data row1 col12\" >0.02</td>\n",
              "                        <td id=\"T_6c8bd0ca_aaca_11eb_94ee_0242ac1c0002row1_col13\" class=\"data row1 col13\" >-0.02</td>\n",
              "                        <td id=\"T_6c8bd0ca_aaca_11eb_94ee_0242ac1c0002row1_col14\" class=\"data row1 col14\" >0.01</td>\n",
              "                        <td id=\"T_6c8bd0ca_aaca_11eb_94ee_0242ac1c0002row1_col15\" class=\"data row1 col15\" >-0.00</td>\n",
              "                        <td id=\"T_6c8bd0ca_aaca_11eb_94ee_0242ac1c0002row1_col16\" class=\"data row1 col16\" >-0.01</td>\n",
              "                        <td id=\"T_6c8bd0ca_aaca_11eb_94ee_0242ac1c0002row1_col17\" class=\"data row1 col17\" >0.02</td>\n",
              "                        <td id=\"T_6c8bd0ca_aaca_11eb_94ee_0242ac1c0002row1_col18\" class=\"data row1 col18\" >0.03</td>\n",
              "                        <td id=\"T_6c8bd0ca_aaca_11eb_94ee_0242ac1c0002row1_col19\" class=\"data row1 col19\" >-0.01</td>\n",
              "                        <td id=\"T_6c8bd0ca_aaca_11eb_94ee_0242ac1c0002row1_col20\" class=\"data row1 col20\" >-0.02</td>\n",
              "                        <td id=\"T_6c8bd0ca_aaca_11eb_94ee_0242ac1c0002row1_col21\" class=\"data row1 col21\" >-0.02</td>\n",
              "                        <td id=\"T_6c8bd0ca_aaca_11eb_94ee_0242ac1c0002row1_col22\" class=\"data row1 col22\" >0.01</td>\n",
              "                        <td id=\"T_6c8bd0ca_aaca_11eb_94ee_0242ac1c0002row1_col23\" class=\"data row1 col23\" >-0.01</td>\n",
              "                        <td id=\"T_6c8bd0ca_aaca_11eb_94ee_0242ac1c0002row1_col24\" class=\"data row1 col24\" >-0.01</td>\n",
              "                        <td id=\"T_6c8bd0ca_aaca_11eb_94ee_0242ac1c0002row1_col25\" class=\"data row1 col25\" >0.14</td>\n",
              "            </tr>\n",
              "            <tr>\n",
              "                        <th id=\"T_6c8bd0ca_aaca_11eb_94ee_0242ac1c0002level0_row2\" class=\"row_heading level0 row2\" >x_{3}</th>\n",
              "                        <td id=\"T_6c8bd0ca_aaca_11eb_94ee_0242ac1c0002row2_col0\" class=\"data row2 col0\" >0.05</td>\n",
              "                        <td id=\"T_6c8bd0ca_aaca_11eb_94ee_0242ac1c0002row2_col1\" class=\"data row2 col1\" >0.01</td>\n",
              "                        <td id=\"T_6c8bd0ca_aaca_11eb_94ee_0242ac1c0002row2_col2\" class=\"data row2 col2\" >1.00</td>\n",
              "                        <td id=\"T_6c8bd0ca_aaca_11eb_94ee_0242ac1c0002row2_col3\" class=\"data row2 col3\" >0.02</td>\n",
              "                        <td id=\"T_6c8bd0ca_aaca_11eb_94ee_0242ac1c0002row2_col4\" class=\"data row2 col4\" >0.02</td>\n",
              "                        <td id=\"T_6c8bd0ca_aaca_11eb_94ee_0242ac1c0002row2_col5\" class=\"data row2 col5\" >0.01</td>\n",
              "                        <td id=\"T_6c8bd0ca_aaca_11eb_94ee_0242ac1c0002row2_col6\" class=\"data row2 col6\" >0.01</td>\n",
              "                        <td id=\"T_6c8bd0ca_aaca_11eb_94ee_0242ac1c0002row2_col7\" class=\"data row2 col7\" >0.02</td>\n",
              "                        <td id=\"T_6c8bd0ca_aaca_11eb_94ee_0242ac1c0002row2_col8\" class=\"data row2 col8\" >0.01</td>\n",
              "                        <td id=\"T_6c8bd0ca_aaca_11eb_94ee_0242ac1c0002row2_col9\" class=\"data row2 col9\" >0.03</td>\n",
              "                        <td id=\"T_6c8bd0ca_aaca_11eb_94ee_0242ac1c0002row2_col10\" class=\"data row2 col10\" >0.03</td>\n",
              "                        <td id=\"T_6c8bd0ca_aaca_11eb_94ee_0242ac1c0002row2_col11\" class=\"data row2 col11\" >-0.01</td>\n",
              "                        <td id=\"T_6c8bd0ca_aaca_11eb_94ee_0242ac1c0002row2_col12\" class=\"data row2 col12\" >-0.02</td>\n",
              "                        <td id=\"T_6c8bd0ca_aaca_11eb_94ee_0242ac1c0002row2_col13\" class=\"data row2 col13\" >0.01</td>\n",
              "                        <td id=\"T_6c8bd0ca_aaca_11eb_94ee_0242ac1c0002row2_col14\" class=\"data row2 col14\" >0.05</td>\n",
              "                        <td id=\"T_6c8bd0ca_aaca_11eb_94ee_0242ac1c0002row2_col15\" class=\"data row2 col15\" >-0.00</td>\n",
              "                        <td id=\"T_6c8bd0ca_aaca_11eb_94ee_0242ac1c0002row2_col16\" class=\"data row2 col16\" >-0.04</td>\n",
              "                        <td id=\"T_6c8bd0ca_aaca_11eb_94ee_0242ac1c0002row2_col17\" class=\"data row2 col17\" >-0.00</td>\n",
              "                        <td id=\"T_6c8bd0ca_aaca_11eb_94ee_0242ac1c0002row2_col18\" class=\"data row2 col18\" >-0.01</td>\n",
              "                        <td id=\"T_6c8bd0ca_aaca_11eb_94ee_0242ac1c0002row2_col19\" class=\"data row2 col19\" >-0.01</td>\n",
              "                        <td id=\"T_6c8bd0ca_aaca_11eb_94ee_0242ac1c0002row2_col20\" class=\"data row2 col20\" >0.00</td>\n",
              "                        <td id=\"T_6c8bd0ca_aaca_11eb_94ee_0242ac1c0002row2_col21\" class=\"data row2 col21\" >-0.01</td>\n",
              "                        <td id=\"T_6c8bd0ca_aaca_11eb_94ee_0242ac1c0002row2_col22\" class=\"data row2 col22\" >-0.02</td>\n",
              "                        <td id=\"T_6c8bd0ca_aaca_11eb_94ee_0242ac1c0002row2_col23\" class=\"data row2 col23\" >0.04</td>\n",
              "                        <td id=\"T_6c8bd0ca_aaca_11eb_94ee_0242ac1c0002row2_col24\" class=\"data row2 col24\" >0.01</td>\n",
              "                        <td id=\"T_6c8bd0ca_aaca_11eb_94ee_0242ac1c0002row2_col25\" class=\"data row2 col25\" >0.00</td>\n",
              "            </tr>\n",
              "            <tr>\n",
              "                        <th id=\"T_6c8bd0ca_aaca_11eb_94ee_0242ac1c0002level0_row3\" class=\"row_heading level0 row3\" >x_{4}</th>\n",
              "                        <td id=\"T_6c8bd0ca_aaca_11eb_94ee_0242ac1c0002row3_col0\" class=\"data row3 col0\" >0.01</td>\n",
              "                        <td id=\"T_6c8bd0ca_aaca_11eb_94ee_0242ac1c0002row3_col1\" class=\"data row3 col1\" >-0.04</td>\n",
              "                        <td id=\"T_6c8bd0ca_aaca_11eb_94ee_0242ac1c0002row3_col2\" class=\"data row3 col2\" >0.02</td>\n",
              "                        <td id=\"T_6c8bd0ca_aaca_11eb_94ee_0242ac1c0002row3_col3\" class=\"data row3 col3\" >1.00</td>\n",
              "                        <td id=\"T_6c8bd0ca_aaca_11eb_94ee_0242ac1c0002row3_col4\" class=\"data row3 col4\" >0.00</td>\n",
              "                        <td id=\"T_6c8bd0ca_aaca_11eb_94ee_0242ac1c0002row3_col5\" class=\"data row3 col5\" >-0.01</td>\n",
              "                        <td id=\"T_6c8bd0ca_aaca_11eb_94ee_0242ac1c0002row3_col6\" class=\"data row3 col6\" >-0.01</td>\n",
              "                        <td id=\"T_6c8bd0ca_aaca_11eb_94ee_0242ac1c0002row3_col7\" class=\"data row3 col7\" >0.01</td>\n",
              "                        <td id=\"T_6c8bd0ca_aaca_11eb_94ee_0242ac1c0002row3_col8\" class=\"data row3 col8\" >-0.02</td>\n",
              "                        <td id=\"T_6c8bd0ca_aaca_11eb_94ee_0242ac1c0002row3_col9\" class=\"data row3 col9\" >-0.03</td>\n",
              "                        <td id=\"T_6c8bd0ca_aaca_11eb_94ee_0242ac1c0002row3_col10\" class=\"data row3 col10\" >0.04</td>\n",
              "                        <td id=\"T_6c8bd0ca_aaca_11eb_94ee_0242ac1c0002row3_col11\" class=\"data row3 col11\" >0.05</td>\n",
              "                        <td id=\"T_6c8bd0ca_aaca_11eb_94ee_0242ac1c0002row3_col12\" class=\"data row3 col12\" >-0.03</td>\n",
              "                        <td id=\"T_6c8bd0ca_aaca_11eb_94ee_0242ac1c0002row3_col13\" class=\"data row3 col13\" >0.01</td>\n",
              "                        <td id=\"T_6c8bd0ca_aaca_11eb_94ee_0242ac1c0002row3_col14\" class=\"data row3 col14\" >-0.01</td>\n",
              "                        <td id=\"T_6c8bd0ca_aaca_11eb_94ee_0242ac1c0002row3_col15\" class=\"data row3 col15\" >0.00</td>\n",
              "                        <td id=\"T_6c8bd0ca_aaca_11eb_94ee_0242ac1c0002row3_col16\" class=\"data row3 col16\" >0.00</td>\n",
              "                        <td id=\"T_6c8bd0ca_aaca_11eb_94ee_0242ac1c0002row3_col17\" class=\"data row3 col17\" >0.01</td>\n",
              "                        <td id=\"T_6c8bd0ca_aaca_11eb_94ee_0242ac1c0002row3_col18\" class=\"data row3 col18\" >-0.01</td>\n",
              "                        <td id=\"T_6c8bd0ca_aaca_11eb_94ee_0242ac1c0002row3_col19\" class=\"data row3 col19\" >-0.03</td>\n",
              "                        <td id=\"T_6c8bd0ca_aaca_11eb_94ee_0242ac1c0002row3_col20\" class=\"data row3 col20\" >0.01</td>\n",
              "                        <td id=\"T_6c8bd0ca_aaca_11eb_94ee_0242ac1c0002row3_col21\" class=\"data row3 col21\" >-0.04</td>\n",
              "                        <td id=\"T_6c8bd0ca_aaca_11eb_94ee_0242ac1c0002row3_col22\" class=\"data row3 col22\" >-0.01</td>\n",
              "                        <td id=\"T_6c8bd0ca_aaca_11eb_94ee_0242ac1c0002row3_col23\" class=\"data row3 col23\" >0.00</td>\n",
              "                        <td id=\"T_6c8bd0ca_aaca_11eb_94ee_0242ac1c0002row3_col24\" class=\"data row3 col24\" >-0.00</td>\n",
              "                        <td id=\"T_6c8bd0ca_aaca_11eb_94ee_0242ac1c0002row3_col25\" class=\"data row3 col25\" >0.04</td>\n",
              "            </tr>\n",
              "            <tr>\n",
              "                        <th id=\"T_6c8bd0ca_aaca_11eb_94ee_0242ac1c0002level0_row4\" class=\"row_heading level0 row4\" >x_{5}</th>\n",
              "                        <td id=\"T_6c8bd0ca_aaca_11eb_94ee_0242ac1c0002row4_col0\" class=\"data row4 col0\" >-0.01</td>\n",
              "                        <td id=\"T_6c8bd0ca_aaca_11eb_94ee_0242ac1c0002row4_col1\" class=\"data row4 col1\" >0.01</td>\n",
              "                        <td id=\"T_6c8bd0ca_aaca_11eb_94ee_0242ac1c0002row4_col2\" class=\"data row4 col2\" >0.02</td>\n",
              "                        <td id=\"T_6c8bd0ca_aaca_11eb_94ee_0242ac1c0002row4_col3\" class=\"data row4 col3\" >0.00</td>\n",
              "                        <td id=\"T_6c8bd0ca_aaca_11eb_94ee_0242ac1c0002row4_col4\" class=\"data row4 col4\" >1.00</td>\n",
              "                        <td id=\"T_6c8bd0ca_aaca_11eb_94ee_0242ac1c0002row4_col5\" class=\"data row4 col5\" >-0.05</td>\n",
              "                        <td id=\"T_6c8bd0ca_aaca_11eb_94ee_0242ac1c0002row4_col6\" class=\"data row4 col6\" >0.02</td>\n",
              "                        <td id=\"T_6c8bd0ca_aaca_11eb_94ee_0242ac1c0002row4_col7\" class=\"data row4 col7\" >-0.01</td>\n",
              "                        <td id=\"T_6c8bd0ca_aaca_11eb_94ee_0242ac1c0002row4_col8\" class=\"data row4 col8\" >0.00</td>\n",
              "                        <td id=\"T_6c8bd0ca_aaca_11eb_94ee_0242ac1c0002row4_col9\" class=\"data row4 col9\" >-0.06</td>\n",
              "                        <td id=\"T_6c8bd0ca_aaca_11eb_94ee_0242ac1c0002row4_col10\" class=\"data row4 col10\" >0.00</td>\n",
              "                        <td id=\"T_6c8bd0ca_aaca_11eb_94ee_0242ac1c0002row4_col11\" class=\"data row4 col11\" >0.01</td>\n",
              "                        <td id=\"T_6c8bd0ca_aaca_11eb_94ee_0242ac1c0002row4_col12\" class=\"data row4 col12\" >-0.01</td>\n",
              "                        <td id=\"T_6c8bd0ca_aaca_11eb_94ee_0242ac1c0002row4_col13\" class=\"data row4 col13\" >0.03</td>\n",
              "                        <td id=\"T_6c8bd0ca_aaca_11eb_94ee_0242ac1c0002row4_col14\" class=\"data row4 col14\" >-0.02</td>\n",
              "                        <td id=\"T_6c8bd0ca_aaca_11eb_94ee_0242ac1c0002row4_col15\" class=\"data row4 col15\" >0.01</td>\n",
              "                        <td id=\"T_6c8bd0ca_aaca_11eb_94ee_0242ac1c0002row4_col16\" class=\"data row4 col16\" >0.03</td>\n",
              "                        <td id=\"T_6c8bd0ca_aaca_11eb_94ee_0242ac1c0002row4_col17\" class=\"data row4 col17\" >0.03</td>\n",
              "                        <td id=\"T_6c8bd0ca_aaca_11eb_94ee_0242ac1c0002row4_col18\" class=\"data row4 col18\" >0.06</td>\n",
              "                        <td id=\"T_6c8bd0ca_aaca_11eb_94ee_0242ac1c0002row4_col19\" class=\"data row4 col19\" >0.01</td>\n",
              "                        <td id=\"T_6c8bd0ca_aaca_11eb_94ee_0242ac1c0002row4_col20\" class=\"data row4 col20\" >-0.01</td>\n",
              "                        <td id=\"T_6c8bd0ca_aaca_11eb_94ee_0242ac1c0002row4_col21\" class=\"data row4 col21\" >-0.02</td>\n",
              "                        <td id=\"T_6c8bd0ca_aaca_11eb_94ee_0242ac1c0002row4_col22\" class=\"data row4 col22\" >0.02</td>\n",
              "                        <td id=\"T_6c8bd0ca_aaca_11eb_94ee_0242ac1c0002row4_col23\" class=\"data row4 col23\" >-0.01</td>\n",
              "                        <td id=\"T_6c8bd0ca_aaca_11eb_94ee_0242ac1c0002row4_col24\" class=\"data row4 col24\" >-0.00</td>\n",
              "                        <td id=\"T_6c8bd0ca_aaca_11eb_94ee_0242ac1c0002row4_col25\" class=\"data row4 col25\" >0.01</td>\n",
              "            </tr>\n",
              "            <tr>\n",
              "                        <th id=\"T_6c8bd0ca_aaca_11eb_94ee_0242ac1c0002level0_row5\" class=\"row_heading level0 row5\" >x_{6}</th>\n",
              "                        <td id=\"T_6c8bd0ca_aaca_11eb_94ee_0242ac1c0002row5_col0\" class=\"data row5 col0\" >0.06</td>\n",
              "                        <td id=\"T_6c8bd0ca_aaca_11eb_94ee_0242ac1c0002row5_col1\" class=\"data row5 col1\" >0.03</td>\n",
              "                        <td id=\"T_6c8bd0ca_aaca_11eb_94ee_0242ac1c0002row5_col2\" class=\"data row5 col2\" >0.01</td>\n",
              "                        <td id=\"T_6c8bd0ca_aaca_11eb_94ee_0242ac1c0002row5_col3\" class=\"data row5 col3\" >-0.01</td>\n",
              "                        <td id=\"T_6c8bd0ca_aaca_11eb_94ee_0242ac1c0002row5_col4\" class=\"data row5 col4\" >-0.05</td>\n",
              "                        <td id=\"T_6c8bd0ca_aaca_11eb_94ee_0242ac1c0002row5_col5\" class=\"data row5 col5\" >1.00</td>\n",
              "                        <td id=\"T_6c8bd0ca_aaca_11eb_94ee_0242ac1c0002row5_col6\" class=\"data row5 col6\" >0.01</td>\n",
              "                        <td id=\"T_6c8bd0ca_aaca_11eb_94ee_0242ac1c0002row5_col7\" class=\"data row5 col7\" >0.01</td>\n",
              "                        <td id=\"T_6c8bd0ca_aaca_11eb_94ee_0242ac1c0002row5_col8\" class=\"data row5 col8\" >-0.03</td>\n",
              "                        <td id=\"T_6c8bd0ca_aaca_11eb_94ee_0242ac1c0002row5_col9\" class=\"data row5 col9\" >0.02</td>\n",
              "                        <td id=\"T_6c8bd0ca_aaca_11eb_94ee_0242ac1c0002row5_col10\" class=\"data row5 col10\" >-0.04</td>\n",
              "                        <td id=\"T_6c8bd0ca_aaca_11eb_94ee_0242ac1c0002row5_col11\" class=\"data row5 col11\" >0.08</td>\n",
              "                        <td id=\"T_6c8bd0ca_aaca_11eb_94ee_0242ac1c0002row5_col12\" class=\"data row5 col12\" >0.05</td>\n",
              "                        <td id=\"T_6c8bd0ca_aaca_11eb_94ee_0242ac1c0002row5_col13\" class=\"data row5 col13\" >-0.04</td>\n",
              "                        <td id=\"T_6c8bd0ca_aaca_11eb_94ee_0242ac1c0002row5_col14\" class=\"data row5 col14\" >0.01</td>\n",
              "                        <td id=\"T_6c8bd0ca_aaca_11eb_94ee_0242ac1c0002row5_col15\" class=\"data row5 col15\" >-0.01</td>\n",
              "                        <td id=\"T_6c8bd0ca_aaca_11eb_94ee_0242ac1c0002row5_col16\" class=\"data row5 col16\" >-0.01</td>\n",
              "                        <td id=\"T_6c8bd0ca_aaca_11eb_94ee_0242ac1c0002row5_col17\" class=\"data row5 col17\" >-0.02</td>\n",
              "                        <td id=\"T_6c8bd0ca_aaca_11eb_94ee_0242ac1c0002row5_col18\" class=\"data row5 col18\" >-0.04</td>\n",
              "                        <td id=\"T_6c8bd0ca_aaca_11eb_94ee_0242ac1c0002row5_col19\" class=\"data row5 col19\" >0.02</td>\n",
              "                        <td id=\"T_6c8bd0ca_aaca_11eb_94ee_0242ac1c0002row5_col20\" class=\"data row5 col20\" >-0.01</td>\n",
              "                        <td id=\"T_6c8bd0ca_aaca_11eb_94ee_0242ac1c0002row5_col21\" class=\"data row5 col21\" >-0.05</td>\n",
              "                        <td id=\"T_6c8bd0ca_aaca_11eb_94ee_0242ac1c0002row5_col22\" class=\"data row5 col22\" >-0.02</td>\n",
              "                        <td id=\"T_6c8bd0ca_aaca_11eb_94ee_0242ac1c0002row5_col23\" class=\"data row5 col23\" >0.01</td>\n",
              "                        <td id=\"T_6c8bd0ca_aaca_11eb_94ee_0242ac1c0002row5_col24\" class=\"data row5 col24\" >0.00</td>\n",
              "                        <td id=\"T_6c8bd0ca_aaca_11eb_94ee_0242ac1c0002row5_col25\" class=\"data row5 col25\" >0.02</td>\n",
              "            </tr>\n",
              "            <tr>\n",
              "                        <th id=\"T_6c8bd0ca_aaca_11eb_94ee_0242ac1c0002level0_row6\" class=\"row_heading level0 row6\" >x_{7}</th>\n",
              "                        <td id=\"T_6c8bd0ca_aaca_11eb_94ee_0242ac1c0002row6_col0\" class=\"data row6 col0\" >0.00</td>\n",
              "                        <td id=\"T_6c8bd0ca_aaca_11eb_94ee_0242ac1c0002row6_col1\" class=\"data row6 col1\" >-0.03</td>\n",
              "                        <td id=\"T_6c8bd0ca_aaca_11eb_94ee_0242ac1c0002row6_col2\" class=\"data row6 col2\" >0.01</td>\n",
              "                        <td id=\"T_6c8bd0ca_aaca_11eb_94ee_0242ac1c0002row6_col3\" class=\"data row6 col3\" >-0.01</td>\n",
              "                        <td id=\"T_6c8bd0ca_aaca_11eb_94ee_0242ac1c0002row6_col4\" class=\"data row6 col4\" >0.02</td>\n",
              "                        <td id=\"T_6c8bd0ca_aaca_11eb_94ee_0242ac1c0002row6_col5\" class=\"data row6 col5\" >0.01</td>\n",
              "                        <td id=\"T_6c8bd0ca_aaca_11eb_94ee_0242ac1c0002row6_col6\" class=\"data row6 col6\" >1.00</td>\n",
              "                        <td id=\"T_6c8bd0ca_aaca_11eb_94ee_0242ac1c0002row6_col7\" class=\"data row6 col7\" >-0.03</td>\n",
              "                        <td id=\"T_6c8bd0ca_aaca_11eb_94ee_0242ac1c0002row6_col8\" class=\"data row6 col8\" >0.03</td>\n",
              "                        <td id=\"T_6c8bd0ca_aaca_11eb_94ee_0242ac1c0002row6_col9\" class=\"data row6 col9\" >0.01</td>\n",
              "                        <td id=\"T_6c8bd0ca_aaca_11eb_94ee_0242ac1c0002row6_col10\" class=\"data row6 col10\" >0.00</td>\n",
              "                        <td id=\"T_6c8bd0ca_aaca_11eb_94ee_0242ac1c0002row6_col11\" class=\"data row6 col11\" >0.01</td>\n",
              "                        <td id=\"T_6c8bd0ca_aaca_11eb_94ee_0242ac1c0002row6_col12\" class=\"data row6 col12\" >0.02</td>\n",
              "                        <td id=\"T_6c8bd0ca_aaca_11eb_94ee_0242ac1c0002row6_col13\" class=\"data row6 col13\" >-0.01</td>\n",
              "                        <td id=\"T_6c8bd0ca_aaca_11eb_94ee_0242ac1c0002row6_col14\" class=\"data row6 col14\" >-0.05</td>\n",
              "                        <td id=\"T_6c8bd0ca_aaca_11eb_94ee_0242ac1c0002row6_col15\" class=\"data row6 col15\" >0.02</td>\n",
              "                        <td id=\"T_6c8bd0ca_aaca_11eb_94ee_0242ac1c0002row6_col16\" class=\"data row6 col16\" >0.05</td>\n",
              "                        <td id=\"T_6c8bd0ca_aaca_11eb_94ee_0242ac1c0002row6_col17\" class=\"data row6 col17\" >-0.02</td>\n",
              "                        <td id=\"T_6c8bd0ca_aaca_11eb_94ee_0242ac1c0002row6_col18\" class=\"data row6 col18\" >-0.04</td>\n",
              "                        <td id=\"T_6c8bd0ca_aaca_11eb_94ee_0242ac1c0002row6_col19\" class=\"data row6 col19\" >-0.04</td>\n",
              "                        <td id=\"T_6c8bd0ca_aaca_11eb_94ee_0242ac1c0002row6_col20\" class=\"data row6 col20\" >0.04</td>\n",
              "                        <td id=\"T_6c8bd0ca_aaca_11eb_94ee_0242ac1c0002row6_col21\" class=\"data row6 col21\" >-0.04</td>\n",
              "                        <td id=\"T_6c8bd0ca_aaca_11eb_94ee_0242ac1c0002row6_col22\" class=\"data row6 col22\" >-0.02</td>\n",
              "                        <td id=\"T_6c8bd0ca_aaca_11eb_94ee_0242ac1c0002row6_col23\" class=\"data row6 col23\" >0.01</td>\n",
              "                        <td id=\"T_6c8bd0ca_aaca_11eb_94ee_0242ac1c0002row6_col24\" class=\"data row6 col24\" >0.04</td>\n",
              "                        <td id=\"T_6c8bd0ca_aaca_11eb_94ee_0242ac1c0002row6_col25\" class=\"data row6 col25\" >0.02</td>\n",
              "            </tr>\n",
              "            <tr>\n",
              "                        <th id=\"T_6c8bd0ca_aaca_11eb_94ee_0242ac1c0002level0_row7\" class=\"row_heading level0 row7\" >x_{8}</th>\n",
              "                        <td id=\"T_6c8bd0ca_aaca_11eb_94ee_0242ac1c0002row7_col0\" class=\"data row7 col0\" >-0.03</td>\n",
              "                        <td id=\"T_6c8bd0ca_aaca_11eb_94ee_0242ac1c0002row7_col1\" class=\"data row7 col1\" >0.04</td>\n",
              "                        <td id=\"T_6c8bd0ca_aaca_11eb_94ee_0242ac1c0002row7_col2\" class=\"data row7 col2\" >0.02</td>\n",
              "                        <td id=\"T_6c8bd0ca_aaca_11eb_94ee_0242ac1c0002row7_col3\" class=\"data row7 col3\" >0.01</td>\n",
              "                        <td id=\"T_6c8bd0ca_aaca_11eb_94ee_0242ac1c0002row7_col4\" class=\"data row7 col4\" >-0.01</td>\n",
              "                        <td id=\"T_6c8bd0ca_aaca_11eb_94ee_0242ac1c0002row7_col5\" class=\"data row7 col5\" >0.01</td>\n",
              "                        <td id=\"T_6c8bd0ca_aaca_11eb_94ee_0242ac1c0002row7_col6\" class=\"data row7 col6\" >-0.03</td>\n",
              "                        <td id=\"T_6c8bd0ca_aaca_11eb_94ee_0242ac1c0002row7_col7\" class=\"data row7 col7\" >1.00</td>\n",
              "                        <td id=\"T_6c8bd0ca_aaca_11eb_94ee_0242ac1c0002row7_col8\" class=\"data row7 col8\" >-0.01</td>\n",
              "                        <td id=\"T_6c8bd0ca_aaca_11eb_94ee_0242ac1c0002row7_col9\" class=\"data row7 col9\" >-0.04</td>\n",
              "                        <td id=\"T_6c8bd0ca_aaca_11eb_94ee_0242ac1c0002row7_col10\" class=\"data row7 col10\" >0.03</td>\n",
              "                        <td id=\"T_6c8bd0ca_aaca_11eb_94ee_0242ac1c0002row7_col11\" class=\"data row7 col11\" >-0.03</td>\n",
              "                        <td id=\"T_6c8bd0ca_aaca_11eb_94ee_0242ac1c0002row7_col12\" class=\"data row7 col12\" >-0.01</td>\n",
              "                        <td id=\"T_6c8bd0ca_aaca_11eb_94ee_0242ac1c0002row7_col13\" class=\"data row7 col13\" >-0.00</td>\n",
              "                        <td id=\"T_6c8bd0ca_aaca_11eb_94ee_0242ac1c0002row7_col14\" class=\"data row7 col14\" >0.05</td>\n",
              "                        <td id=\"T_6c8bd0ca_aaca_11eb_94ee_0242ac1c0002row7_col15\" class=\"data row7 col15\" >0.01</td>\n",
              "                        <td id=\"T_6c8bd0ca_aaca_11eb_94ee_0242ac1c0002row7_col16\" class=\"data row7 col16\" >0.01</td>\n",
              "                        <td id=\"T_6c8bd0ca_aaca_11eb_94ee_0242ac1c0002row7_col17\" class=\"data row7 col17\" >0.03</td>\n",
              "                        <td id=\"T_6c8bd0ca_aaca_11eb_94ee_0242ac1c0002row7_col18\" class=\"data row7 col18\" >0.00</td>\n",
              "                        <td id=\"T_6c8bd0ca_aaca_11eb_94ee_0242ac1c0002row7_col19\" class=\"data row7 col19\" >-0.00</td>\n",
              "                        <td id=\"T_6c8bd0ca_aaca_11eb_94ee_0242ac1c0002row7_col20\" class=\"data row7 col20\" >-0.01</td>\n",
              "                        <td id=\"T_6c8bd0ca_aaca_11eb_94ee_0242ac1c0002row7_col21\" class=\"data row7 col21\" >-0.02</td>\n",
              "                        <td id=\"T_6c8bd0ca_aaca_11eb_94ee_0242ac1c0002row7_col22\" class=\"data row7 col22\" >-0.04</td>\n",
              "                        <td id=\"T_6c8bd0ca_aaca_11eb_94ee_0242ac1c0002row7_col23\" class=\"data row7 col23\" >-0.04</td>\n",
              "                        <td id=\"T_6c8bd0ca_aaca_11eb_94ee_0242ac1c0002row7_col24\" class=\"data row7 col24\" >-0.00</td>\n",
              "                        <td id=\"T_6c8bd0ca_aaca_11eb_94ee_0242ac1c0002row7_col25\" class=\"data row7 col25\" >0.01</td>\n",
              "            </tr>\n",
              "            <tr>\n",
              "                        <th id=\"T_6c8bd0ca_aaca_11eb_94ee_0242ac1c0002level0_row8\" class=\"row_heading level0 row8\" >x_{9}</th>\n",
              "                        <td id=\"T_6c8bd0ca_aaca_11eb_94ee_0242ac1c0002row8_col0\" class=\"data row8 col0\" >-0.02</td>\n",
              "                        <td id=\"T_6c8bd0ca_aaca_11eb_94ee_0242ac1c0002row8_col1\" class=\"data row8 col1\" >0.02</td>\n",
              "                        <td id=\"T_6c8bd0ca_aaca_11eb_94ee_0242ac1c0002row8_col2\" class=\"data row8 col2\" >0.01</td>\n",
              "                        <td id=\"T_6c8bd0ca_aaca_11eb_94ee_0242ac1c0002row8_col3\" class=\"data row8 col3\" >-0.02</td>\n",
              "                        <td id=\"T_6c8bd0ca_aaca_11eb_94ee_0242ac1c0002row8_col4\" class=\"data row8 col4\" >0.00</td>\n",
              "                        <td id=\"T_6c8bd0ca_aaca_11eb_94ee_0242ac1c0002row8_col5\" class=\"data row8 col5\" >-0.03</td>\n",
              "                        <td id=\"T_6c8bd0ca_aaca_11eb_94ee_0242ac1c0002row8_col6\" class=\"data row8 col6\" >0.03</td>\n",
              "                        <td id=\"T_6c8bd0ca_aaca_11eb_94ee_0242ac1c0002row8_col7\" class=\"data row8 col7\" >-0.01</td>\n",
              "                        <td id=\"T_6c8bd0ca_aaca_11eb_94ee_0242ac1c0002row8_col8\" class=\"data row8 col8\" >1.00</td>\n",
              "                        <td id=\"T_6c8bd0ca_aaca_11eb_94ee_0242ac1c0002row8_col9\" class=\"data row8 col9\" >-0.03</td>\n",
              "                        <td id=\"T_6c8bd0ca_aaca_11eb_94ee_0242ac1c0002row8_col10\" class=\"data row8 col10\" >-0.02</td>\n",
              "                        <td id=\"T_6c8bd0ca_aaca_11eb_94ee_0242ac1c0002row8_col11\" class=\"data row8 col11\" >-0.02</td>\n",
              "                        <td id=\"T_6c8bd0ca_aaca_11eb_94ee_0242ac1c0002row8_col12\" class=\"data row8 col12\" >0.05</td>\n",
              "                        <td id=\"T_6c8bd0ca_aaca_11eb_94ee_0242ac1c0002row8_col13\" class=\"data row8 col13\" >-0.00</td>\n",
              "                        <td id=\"T_6c8bd0ca_aaca_11eb_94ee_0242ac1c0002row8_col14\" class=\"data row8 col14\" >0.02</td>\n",
              "                        <td id=\"T_6c8bd0ca_aaca_11eb_94ee_0242ac1c0002row8_col15\" class=\"data row8 col15\" >-0.03</td>\n",
              "                        <td id=\"T_6c8bd0ca_aaca_11eb_94ee_0242ac1c0002row8_col16\" class=\"data row8 col16\" >0.03</td>\n",
              "                        <td id=\"T_6c8bd0ca_aaca_11eb_94ee_0242ac1c0002row8_col17\" class=\"data row8 col17\" >0.03</td>\n",
              "                        <td id=\"T_6c8bd0ca_aaca_11eb_94ee_0242ac1c0002row8_col18\" class=\"data row8 col18\" >-0.01</td>\n",
              "                        <td id=\"T_6c8bd0ca_aaca_11eb_94ee_0242ac1c0002row8_col19\" class=\"data row8 col19\" >-0.01</td>\n",
              "                        <td id=\"T_6c8bd0ca_aaca_11eb_94ee_0242ac1c0002row8_col20\" class=\"data row8 col20\" >-0.01</td>\n",
              "                        <td id=\"T_6c8bd0ca_aaca_11eb_94ee_0242ac1c0002row8_col21\" class=\"data row8 col21\" >0.01</td>\n",
              "                        <td id=\"T_6c8bd0ca_aaca_11eb_94ee_0242ac1c0002row8_col22\" class=\"data row8 col22\" >0.02</td>\n",
              "                        <td id=\"T_6c8bd0ca_aaca_11eb_94ee_0242ac1c0002row8_col23\" class=\"data row8 col23\" >-0.03</td>\n",
              "                        <td id=\"T_6c8bd0ca_aaca_11eb_94ee_0242ac1c0002row8_col24\" class=\"data row8 col24\" >-0.03</td>\n",
              "                        <td id=\"T_6c8bd0ca_aaca_11eb_94ee_0242ac1c0002row8_col25\" class=\"data row8 col25\" >-0.04</td>\n",
              "            </tr>\n",
              "            <tr>\n",
              "                        <th id=\"T_6c8bd0ca_aaca_11eb_94ee_0242ac1c0002level0_row9\" class=\"row_heading level0 row9\" >x_{10}</th>\n",
              "                        <td id=\"T_6c8bd0ca_aaca_11eb_94ee_0242ac1c0002row9_col0\" class=\"data row9 col0\" >0.00</td>\n",
              "                        <td id=\"T_6c8bd0ca_aaca_11eb_94ee_0242ac1c0002row9_col1\" class=\"data row9 col1\" >0.02</td>\n",
              "                        <td id=\"T_6c8bd0ca_aaca_11eb_94ee_0242ac1c0002row9_col2\" class=\"data row9 col2\" >0.03</td>\n",
              "                        <td id=\"T_6c8bd0ca_aaca_11eb_94ee_0242ac1c0002row9_col3\" class=\"data row9 col3\" >-0.03</td>\n",
              "                        <td id=\"T_6c8bd0ca_aaca_11eb_94ee_0242ac1c0002row9_col4\" class=\"data row9 col4\" >-0.06</td>\n",
              "                        <td id=\"T_6c8bd0ca_aaca_11eb_94ee_0242ac1c0002row9_col5\" class=\"data row9 col5\" >0.02</td>\n",
              "                        <td id=\"T_6c8bd0ca_aaca_11eb_94ee_0242ac1c0002row9_col6\" class=\"data row9 col6\" >0.01</td>\n",
              "                        <td id=\"T_6c8bd0ca_aaca_11eb_94ee_0242ac1c0002row9_col7\" class=\"data row9 col7\" >-0.04</td>\n",
              "                        <td id=\"T_6c8bd0ca_aaca_11eb_94ee_0242ac1c0002row9_col8\" class=\"data row9 col8\" >-0.03</td>\n",
              "                        <td id=\"T_6c8bd0ca_aaca_11eb_94ee_0242ac1c0002row9_col9\" class=\"data row9 col9\" >1.00</td>\n",
              "                        <td id=\"T_6c8bd0ca_aaca_11eb_94ee_0242ac1c0002row9_col10\" class=\"data row9 col10\" >-0.05</td>\n",
              "                        <td id=\"T_6c8bd0ca_aaca_11eb_94ee_0242ac1c0002row9_col11\" class=\"data row9 col11\" >-0.01</td>\n",
              "                        <td id=\"T_6c8bd0ca_aaca_11eb_94ee_0242ac1c0002row9_col12\" class=\"data row9 col12\" >-0.02</td>\n",
              "                        <td id=\"T_6c8bd0ca_aaca_11eb_94ee_0242ac1c0002row9_col13\" class=\"data row9 col13\" >-0.05</td>\n",
              "                        <td id=\"T_6c8bd0ca_aaca_11eb_94ee_0242ac1c0002row9_col14\" class=\"data row9 col14\" >0.01</td>\n",
              "                        <td id=\"T_6c8bd0ca_aaca_11eb_94ee_0242ac1c0002row9_col15\" class=\"data row9 col15\" >0.00</td>\n",
              "                        <td id=\"T_6c8bd0ca_aaca_11eb_94ee_0242ac1c0002row9_col16\" class=\"data row9 col16\" >0.04</td>\n",
              "                        <td id=\"T_6c8bd0ca_aaca_11eb_94ee_0242ac1c0002row9_col17\" class=\"data row9 col17\" >-0.04</td>\n",
              "                        <td id=\"T_6c8bd0ca_aaca_11eb_94ee_0242ac1c0002row9_col18\" class=\"data row9 col18\" >-0.01</td>\n",
              "                        <td id=\"T_6c8bd0ca_aaca_11eb_94ee_0242ac1c0002row9_col19\" class=\"data row9 col19\" >0.01</td>\n",
              "                        <td id=\"T_6c8bd0ca_aaca_11eb_94ee_0242ac1c0002row9_col20\" class=\"data row9 col20\" >0.00</td>\n",
              "                        <td id=\"T_6c8bd0ca_aaca_11eb_94ee_0242ac1c0002row9_col21\" class=\"data row9 col21\" >0.03</td>\n",
              "                        <td id=\"T_6c8bd0ca_aaca_11eb_94ee_0242ac1c0002row9_col22\" class=\"data row9 col22\" >0.03</td>\n",
              "                        <td id=\"T_6c8bd0ca_aaca_11eb_94ee_0242ac1c0002row9_col23\" class=\"data row9 col23\" >0.01</td>\n",
              "                        <td id=\"T_6c8bd0ca_aaca_11eb_94ee_0242ac1c0002row9_col24\" class=\"data row9 col24\" >-0.01</td>\n",
              "                        <td id=\"T_6c8bd0ca_aaca_11eb_94ee_0242ac1c0002row9_col25\" class=\"data row9 col25\" >-0.02</td>\n",
              "            </tr>\n",
              "            <tr>\n",
              "                        <th id=\"T_6c8bd0ca_aaca_11eb_94ee_0242ac1c0002level0_row10\" class=\"row_heading level0 row10\" >x_{11}</th>\n",
              "                        <td id=\"T_6c8bd0ca_aaca_11eb_94ee_0242ac1c0002row10_col0\" class=\"data row10 col0\" >-0.00</td>\n",
              "                        <td id=\"T_6c8bd0ca_aaca_11eb_94ee_0242ac1c0002row10_col1\" class=\"data row10 col1\" >-0.02</td>\n",
              "                        <td id=\"T_6c8bd0ca_aaca_11eb_94ee_0242ac1c0002row10_col2\" class=\"data row10 col2\" >0.03</td>\n",
              "                        <td id=\"T_6c8bd0ca_aaca_11eb_94ee_0242ac1c0002row10_col3\" class=\"data row10 col3\" >0.04</td>\n",
              "                        <td id=\"T_6c8bd0ca_aaca_11eb_94ee_0242ac1c0002row10_col4\" class=\"data row10 col4\" >0.00</td>\n",
              "                        <td id=\"T_6c8bd0ca_aaca_11eb_94ee_0242ac1c0002row10_col5\" class=\"data row10 col5\" >-0.04</td>\n",
              "                        <td id=\"T_6c8bd0ca_aaca_11eb_94ee_0242ac1c0002row10_col6\" class=\"data row10 col6\" >0.00</td>\n",
              "                        <td id=\"T_6c8bd0ca_aaca_11eb_94ee_0242ac1c0002row10_col7\" class=\"data row10 col7\" >0.03</td>\n",
              "                        <td id=\"T_6c8bd0ca_aaca_11eb_94ee_0242ac1c0002row10_col8\" class=\"data row10 col8\" >-0.02</td>\n",
              "                        <td id=\"T_6c8bd0ca_aaca_11eb_94ee_0242ac1c0002row10_col9\" class=\"data row10 col9\" >-0.05</td>\n",
              "                        <td id=\"T_6c8bd0ca_aaca_11eb_94ee_0242ac1c0002row10_col10\" class=\"data row10 col10\" >1.00</td>\n",
              "                        <td id=\"T_6c8bd0ca_aaca_11eb_94ee_0242ac1c0002row10_col11\" class=\"data row10 col11\" >-0.03</td>\n",
              "                        <td id=\"T_6c8bd0ca_aaca_11eb_94ee_0242ac1c0002row10_col12\" class=\"data row10 col12\" >-0.01</td>\n",
              "                        <td id=\"T_6c8bd0ca_aaca_11eb_94ee_0242ac1c0002row10_col13\" class=\"data row10 col13\" >-0.01</td>\n",
              "                        <td id=\"T_6c8bd0ca_aaca_11eb_94ee_0242ac1c0002row10_col14\" class=\"data row10 col14\" >0.04</td>\n",
              "                        <td id=\"T_6c8bd0ca_aaca_11eb_94ee_0242ac1c0002row10_col15\" class=\"data row10 col15\" >-0.01</td>\n",
              "                        <td id=\"T_6c8bd0ca_aaca_11eb_94ee_0242ac1c0002row10_col16\" class=\"data row10 col16\" >0.02</td>\n",
              "                        <td id=\"T_6c8bd0ca_aaca_11eb_94ee_0242ac1c0002row10_col17\" class=\"data row10 col17\" >0.01</td>\n",
              "                        <td id=\"T_6c8bd0ca_aaca_11eb_94ee_0242ac1c0002row10_col18\" class=\"data row10 col18\" >0.03</td>\n",
              "                        <td id=\"T_6c8bd0ca_aaca_11eb_94ee_0242ac1c0002row10_col19\" class=\"data row10 col19\" >0.00</td>\n",
              "                        <td id=\"T_6c8bd0ca_aaca_11eb_94ee_0242ac1c0002row10_col20\" class=\"data row10 col20\" >-0.02</td>\n",
              "                        <td id=\"T_6c8bd0ca_aaca_11eb_94ee_0242ac1c0002row10_col21\" class=\"data row10 col21\" >-0.01</td>\n",
              "                        <td id=\"T_6c8bd0ca_aaca_11eb_94ee_0242ac1c0002row10_col22\" class=\"data row10 col22\" >-0.02</td>\n",
              "                        <td id=\"T_6c8bd0ca_aaca_11eb_94ee_0242ac1c0002row10_col23\" class=\"data row10 col23\" >0.02</td>\n",
              "                        <td id=\"T_6c8bd0ca_aaca_11eb_94ee_0242ac1c0002row10_col24\" class=\"data row10 col24\" >0.00</td>\n",
              "                        <td id=\"T_6c8bd0ca_aaca_11eb_94ee_0242ac1c0002row10_col25\" class=\"data row10 col25\" >0.40</td>\n",
              "            </tr>\n",
              "            <tr>\n",
              "                        <th id=\"T_6c8bd0ca_aaca_11eb_94ee_0242ac1c0002level0_row11\" class=\"row_heading level0 row11\" >x_{12}</th>\n",
              "                        <td id=\"T_6c8bd0ca_aaca_11eb_94ee_0242ac1c0002row11_col0\" class=\"data row11 col0\" >-0.03</td>\n",
              "                        <td id=\"T_6c8bd0ca_aaca_11eb_94ee_0242ac1c0002row11_col1\" class=\"data row11 col1\" >-0.02</td>\n",
              "                        <td id=\"T_6c8bd0ca_aaca_11eb_94ee_0242ac1c0002row11_col2\" class=\"data row11 col2\" >-0.01</td>\n",
              "                        <td id=\"T_6c8bd0ca_aaca_11eb_94ee_0242ac1c0002row11_col3\" class=\"data row11 col3\" >0.05</td>\n",
              "                        <td id=\"T_6c8bd0ca_aaca_11eb_94ee_0242ac1c0002row11_col4\" class=\"data row11 col4\" >0.01</td>\n",
              "                        <td id=\"T_6c8bd0ca_aaca_11eb_94ee_0242ac1c0002row11_col5\" class=\"data row11 col5\" >0.08</td>\n",
              "                        <td id=\"T_6c8bd0ca_aaca_11eb_94ee_0242ac1c0002row11_col6\" class=\"data row11 col6\" >0.01</td>\n",
              "                        <td id=\"T_6c8bd0ca_aaca_11eb_94ee_0242ac1c0002row11_col7\" class=\"data row11 col7\" >-0.03</td>\n",
              "                        <td id=\"T_6c8bd0ca_aaca_11eb_94ee_0242ac1c0002row11_col8\" class=\"data row11 col8\" >-0.02</td>\n",
              "                        <td id=\"T_6c8bd0ca_aaca_11eb_94ee_0242ac1c0002row11_col9\" class=\"data row11 col9\" >-0.01</td>\n",
              "                        <td id=\"T_6c8bd0ca_aaca_11eb_94ee_0242ac1c0002row11_col10\" class=\"data row11 col10\" >-0.03</td>\n",
              "                        <td id=\"T_6c8bd0ca_aaca_11eb_94ee_0242ac1c0002row11_col11\" class=\"data row11 col11\" >1.00</td>\n",
              "                        <td id=\"T_6c8bd0ca_aaca_11eb_94ee_0242ac1c0002row11_col12\" class=\"data row11 col12\" >-0.01</td>\n",
              "                        <td id=\"T_6c8bd0ca_aaca_11eb_94ee_0242ac1c0002row11_col13\" class=\"data row11 col13\" >-0.03</td>\n",
              "                        <td id=\"T_6c8bd0ca_aaca_11eb_94ee_0242ac1c0002row11_col14\" class=\"data row11 col14\" >-0.02</td>\n",
              "                        <td id=\"T_6c8bd0ca_aaca_11eb_94ee_0242ac1c0002row11_col15\" class=\"data row11 col15\" >0.01</td>\n",
              "                        <td id=\"T_6c8bd0ca_aaca_11eb_94ee_0242ac1c0002row11_col16\" class=\"data row11 col16\" >0.02</td>\n",
              "                        <td id=\"T_6c8bd0ca_aaca_11eb_94ee_0242ac1c0002row11_col17\" class=\"data row11 col17\" >-0.02</td>\n",
              "                        <td id=\"T_6c8bd0ca_aaca_11eb_94ee_0242ac1c0002row11_col18\" class=\"data row11 col18\" >0.02</td>\n",
              "                        <td id=\"T_6c8bd0ca_aaca_11eb_94ee_0242ac1c0002row11_col19\" class=\"data row11 col19\" >-0.01</td>\n",
              "                        <td id=\"T_6c8bd0ca_aaca_11eb_94ee_0242ac1c0002row11_col20\" class=\"data row11 col20\" >0.02</td>\n",
              "                        <td id=\"T_6c8bd0ca_aaca_11eb_94ee_0242ac1c0002row11_col21\" class=\"data row11 col21\" >-0.02</td>\n",
              "                        <td id=\"T_6c8bd0ca_aaca_11eb_94ee_0242ac1c0002row11_col22\" class=\"data row11 col22\" >-0.02</td>\n",
              "                        <td id=\"T_6c8bd0ca_aaca_11eb_94ee_0242ac1c0002row11_col23\" class=\"data row11 col23\" >-0.03</td>\n",
              "                        <td id=\"T_6c8bd0ca_aaca_11eb_94ee_0242ac1c0002row11_col24\" class=\"data row11 col24\" >-0.02</td>\n",
              "                        <td id=\"T_6c8bd0ca_aaca_11eb_94ee_0242ac1c0002row11_col25\" class=\"data row11 col25\" >0.54</td>\n",
              "            </tr>\n",
              "            <tr>\n",
              "                        <th id=\"T_6c8bd0ca_aaca_11eb_94ee_0242ac1c0002level0_row12\" class=\"row_heading level0 row12\" >x_{13}</th>\n",
              "                        <td id=\"T_6c8bd0ca_aaca_11eb_94ee_0242ac1c0002row12_col0\" class=\"data row12 col0\" >0.01</td>\n",
              "                        <td id=\"T_6c8bd0ca_aaca_11eb_94ee_0242ac1c0002row12_col1\" class=\"data row12 col1\" >0.02</td>\n",
              "                        <td id=\"T_6c8bd0ca_aaca_11eb_94ee_0242ac1c0002row12_col2\" class=\"data row12 col2\" >-0.02</td>\n",
              "                        <td id=\"T_6c8bd0ca_aaca_11eb_94ee_0242ac1c0002row12_col3\" class=\"data row12 col3\" >-0.03</td>\n",
              "                        <td id=\"T_6c8bd0ca_aaca_11eb_94ee_0242ac1c0002row12_col4\" class=\"data row12 col4\" >-0.01</td>\n",
              "                        <td id=\"T_6c8bd0ca_aaca_11eb_94ee_0242ac1c0002row12_col5\" class=\"data row12 col5\" >0.05</td>\n",
              "                        <td id=\"T_6c8bd0ca_aaca_11eb_94ee_0242ac1c0002row12_col6\" class=\"data row12 col6\" >0.02</td>\n",
              "                        <td id=\"T_6c8bd0ca_aaca_11eb_94ee_0242ac1c0002row12_col7\" class=\"data row12 col7\" >-0.01</td>\n",
              "                        <td id=\"T_6c8bd0ca_aaca_11eb_94ee_0242ac1c0002row12_col8\" class=\"data row12 col8\" >0.05</td>\n",
              "                        <td id=\"T_6c8bd0ca_aaca_11eb_94ee_0242ac1c0002row12_col9\" class=\"data row12 col9\" >-0.02</td>\n",
              "                        <td id=\"T_6c8bd0ca_aaca_11eb_94ee_0242ac1c0002row12_col10\" class=\"data row12 col10\" >-0.01</td>\n",
              "                        <td id=\"T_6c8bd0ca_aaca_11eb_94ee_0242ac1c0002row12_col11\" class=\"data row12 col11\" >-0.01</td>\n",
              "                        <td id=\"T_6c8bd0ca_aaca_11eb_94ee_0242ac1c0002row12_col12\" class=\"data row12 col12\" >1.00</td>\n",
              "                        <td id=\"T_6c8bd0ca_aaca_11eb_94ee_0242ac1c0002row12_col13\" class=\"data row12 col13\" >-0.00</td>\n",
              "                        <td id=\"T_6c8bd0ca_aaca_11eb_94ee_0242ac1c0002row12_col14\" class=\"data row12 col14\" >0.03</td>\n",
              "                        <td id=\"T_6c8bd0ca_aaca_11eb_94ee_0242ac1c0002row12_col15\" class=\"data row12 col15\" >0.03</td>\n",
              "                        <td id=\"T_6c8bd0ca_aaca_11eb_94ee_0242ac1c0002row12_col16\" class=\"data row12 col16\" >-0.02</td>\n",
              "                        <td id=\"T_6c8bd0ca_aaca_11eb_94ee_0242ac1c0002row12_col17\" class=\"data row12 col17\" >0.01</td>\n",
              "                        <td id=\"T_6c8bd0ca_aaca_11eb_94ee_0242ac1c0002row12_col18\" class=\"data row12 col18\" >-0.03</td>\n",
              "                        <td id=\"T_6c8bd0ca_aaca_11eb_94ee_0242ac1c0002row12_col19\" class=\"data row12 col19\" >0.02</td>\n",
              "                        <td id=\"T_6c8bd0ca_aaca_11eb_94ee_0242ac1c0002row12_col20\" class=\"data row12 col20\" >0.00</td>\n",
              "                        <td id=\"T_6c8bd0ca_aaca_11eb_94ee_0242ac1c0002row12_col21\" class=\"data row12 col21\" >-0.01</td>\n",
              "                        <td id=\"T_6c8bd0ca_aaca_11eb_94ee_0242ac1c0002row12_col22\" class=\"data row12 col22\" >-0.01</td>\n",
              "                        <td id=\"T_6c8bd0ca_aaca_11eb_94ee_0242ac1c0002row12_col23\" class=\"data row12 col23\" >-0.03</td>\n",
              "                        <td id=\"T_6c8bd0ca_aaca_11eb_94ee_0242ac1c0002row12_col24\" class=\"data row12 col24\" >-0.02</td>\n",
              "                        <td id=\"T_6c8bd0ca_aaca_11eb_94ee_0242ac1c0002row12_col25\" class=\"data row12 col25\" >0.01</td>\n",
              "            </tr>\n",
              "            <tr>\n",
              "                        <th id=\"T_6c8bd0ca_aaca_11eb_94ee_0242ac1c0002level0_row13\" class=\"row_heading level0 row13\" >x_{14}</th>\n",
              "                        <td id=\"T_6c8bd0ca_aaca_11eb_94ee_0242ac1c0002row13_col0\" class=\"data row13 col0\" >-0.02</td>\n",
              "                        <td id=\"T_6c8bd0ca_aaca_11eb_94ee_0242ac1c0002row13_col1\" class=\"data row13 col1\" >-0.02</td>\n",
              "                        <td id=\"T_6c8bd0ca_aaca_11eb_94ee_0242ac1c0002row13_col2\" class=\"data row13 col2\" >0.01</td>\n",
              "                        <td id=\"T_6c8bd0ca_aaca_11eb_94ee_0242ac1c0002row13_col3\" class=\"data row13 col3\" >0.01</td>\n",
              "                        <td id=\"T_6c8bd0ca_aaca_11eb_94ee_0242ac1c0002row13_col4\" class=\"data row13 col4\" >0.03</td>\n",
              "                        <td id=\"T_6c8bd0ca_aaca_11eb_94ee_0242ac1c0002row13_col5\" class=\"data row13 col5\" >-0.04</td>\n",
              "                        <td id=\"T_6c8bd0ca_aaca_11eb_94ee_0242ac1c0002row13_col6\" class=\"data row13 col6\" >-0.01</td>\n",
              "                        <td id=\"T_6c8bd0ca_aaca_11eb_94ee_0242ac1c0002row13_col7\" class=\"data row13 col7\" >-0.00</td>\n",
              "                        <td id=\"T_6c8bd0ca_aaca_11eb_94ee_0242ac1c0002row13_col8\" class=\"data row13 col8\" >-0.00</td>\n",
              "                        <td id=\"T_6c8bd0ca_aaca_11eb_94ee_0242ac1c0002row13_col9\" class=\"data row13 col9\" >-0.05</td>\n",
              "                        <td id=\"T_6c8bd0ca_aaca_11eb_94ee_0242ac1c0002row13_col10\" class=\"data row13 col10\" >-0.01</td>\n",
              "                        <td id=\"T_6c8bd0ca_aaca_11eb_94ee_0242ac1c0002row13_col11\" class=\"data row13 col11\" >-0.03</td>\n",
              "                        <td id=\"T_6c8bd0ca_aaca_11eb_94ee_0242ac1c0002row13_col12\" class=\"data row13 col12\" >-0.00</td>\n",
              "                        <td id=\"T_6c8bd0ca_aaca_11eb_94ee_0242ac1c0002row13_col13\" class=\"data row13 col13\" >1.00</td>\n",
              "                        <td id=\"T_6c8bd0ca_aaca_11eb_94ee_0242ac1c0002row13_col14\" class=\"data row13 col14\" >0.03</td>\n",
              "                        <td id=\"T_6c8bd0ca_aaca_11eb_94ee_0242ac1c0002row13_col15\" class=\"data row13 col15\" >0.02</td>\n",
              "                        <td id=\"T_6c8bd0ca_aaca_11eb_94ee_0242ac1c0002row13_col16\" class=\"data row13 col16\" >0.01</td>\n",
              "                        <td id=\"T_6c8bd0ca_aaca_11eb_94ee_0242ac1c0002row13_col17\" class=\"data row13 col17\" >-0.04</td>\n",
              "                        <td id=\"T_6c8bd0ca_aaca_11eb_94ee_0242ac1c0002row13_col18\" class=\"data row13 col18\" >-0.00</td>\n",
              "                        <td id=\"T_6c8bd0ca_aaca_11eb_94ee_0242ac1c0002row13_col19\" class=\"data row13 col19\" >-0.01</td>\n",
              "                        <td id=\"T_6c8bd0ca_aaca_11eb_94ee_0242ac1c0002row13_col20\" class=\"data row13 col20\" >0.03</td>\n",
              "                        <td id=\"T_6c8bd0ca_aaca_11eb_94ee_0242ac1c0002row13_col21\" class=\"data row13 col21\" >-0.02</td>\n",
              "                        <td id=\"T_6c8bd0ca_aaca_11eb_94ee_0242ac1c0002row13_col22\" class=\"data row13 col22\" >-0.05</td>\n",
              "                        <td id=\"T_6c8bd0ca_aaca_11eb_94ee_0242ac1c0002row13_col23\" class=\"data row13 col23\" >-0.02</td>\n",
              "                        <td id=\"T_6c8bd0ca_aaca_11eb_94ee_0242ac1c0002row13_col24\" class=\"data row13 col24\" >-0.05</td>\n",
              "                        <td id=\"T_6c8bd0ca_aaca_11eb_94ee_0242ac1c0002row13_col25\" class=\"data row13 col25\" >-0.01</td>\n",
              "            </tr>\n",
              "            <tr>\n",
              "                        <th id=\"T_6c8bd0ca_aaca_11eb_94ee_0242ac1c0002level0_row14\" class=\"row_heading level0 row14\" >x_{15}</th>\n",
              "                        <td id=\"T_6c8bd0ca_aaca_11eb_94ee_0242ac1c0002row14_col0\" class=\"data row14 col0\" >-0.02</td>\n",
              "                        <td id=\"T_6c8bd0ca_aaca_11eb_94ee_0242ac1c0002row14_col1\" class=\"data row14 col1\" >0.01</td>\n",
              "                        <td id=\"T_6c8bd0ca_aaca_11eb_94ee_0242ac1c0002row14_col2\" class=\"data row14 col2\" >0.05</td>\n",
              "                        <td id=\"T_6c8bd0ca_aaca_11eb_94ee_0242ac1c0002row14_col3\" class=\"data row14 col3\" >-0.01</td>\n",
              "                        <td id=\"T_6c8bd0ca_aaca_11eb_94ee_0242ac1c0002row14_col4\" class=\"data row14 col4\" >-0.02</td>\n",
              "                        <td id=\"T_6c8bd0ca_aaca_11eb_94ee_0242ac1c0002row14_col5\" class=\"data row14 col5\" >0.01</td>\n",
              "                        <td id=\"T_6c8bd0ca_aaca_11eb_94ee_0242ac1c0002row14_col6\" class=\"data row14 col6\" >-0.05</td>\n",
              "                        <td id=\"T_6c8bd0ca_aaca_11eb_94ee_0242ac1c0002row14_col7\" class=\"data row14 col7\" >0.05</td>\n",
              "                        <td id=\"T_6c8bd0ca_aaca_11eb_94ee_0242ac1c0002row14_col8\" class=\"data row14 col8\" >0.02</td>\n",
              "                        <td id=\"T_6c8bd0ca_aaca_11eb_94ee_0242ac1c0002row14_col9\" class=\"data row14 col9\" >0.01</td>\n",
              "                        <td id=\"T_6c8bd0ca_aaca_11eb_94ee_0242ac1c0002row14_col10\" class=\"data row14 col10\" >0.04</td>\n",
              "                        <td id=\"T_6c8bd0ca_aaca_11eb_94ee_0242ac1c0002row14_col11\" class=\"data row14 col11\" >-0.02</td>\n",
              "                        <td id=\"T_6c8bd0ca_aaca_11eb_94ee_0242ac1c0002row14_col12\" class=\"data row14 col12\" >0.03</td>\n",
              "                        <td id=\"T_6c8bd0ca_aaca_11eb_94ee_0242ac1c0002row14_col13\" class=\"data row14 col13\" >0.03</td>\n",
              "                        <td id=\"T_6c8bd0ca_aaca_11eb_94ee_0242ac1c0002row14_col14\" class=\"data row14 col14\" >1.00</td>\n",
              "                        <td id=\"T_6c8bd0ca_aaca_11eb_94ee_0242ac1c0002row14_col15\" class=\"data row14 col15\" >0.07</td>\n",
              "                        <td id=\"T_6c8bd0ca_aaca_11eb_94ee_0242ac1c0002row14_col16\" class=\"data row14 col16\" >-0.01</td>\n",
              "                        <td id=\"T_6c8bd0ca_aaca_11eb_94ee_0242ac1c0002row14_col17\" class=\"data row14 col17\" >0.04</td>\n",
              "                        <td id=\"T_6c8bd0ca_aaca_11eb_94ee_0242ac1c0002row14_col18\" class=\"data row14 col18\" >0.01</td>\n",
              "                        <td id=\"T_6c8bd0ca_aaca_11eb_94ee_0242ac1c0002row14_col19\" class=\"data row14 col19\" >0.03</td>\n",
              "                        <td id=\"T_6c8bd0ca_aaca_11eb_94ee_0242ac1c0002row14_col20\" class=\"data row14 col20\" >-0.02</td>\n",
              "                        <td id=\"T_6c8bd0ca_aaca_11eb_94ee_0242ac1c0002row14_col21\" class=\"data row14 col21\" >-0.01</td>\n",
              "                        <td id=\"T_6c8bd0ca_aaca_11eb_94ee_0242ac1c0002row14_col22\" class=\"data row14 col22\" >-0.04</td>\n",
              "                        <td id=\"T_6c8bd0ca_aaca_11eb_94ee_0242ac1c0002row14_col23\" class=\"data row14 col23\" >0.01</td>\n",
              "                        <td id=\"T_6c8bd0ca_aaca_11eb_94ee_0242ac1c0002row14_col24\" class=\"data row14 col24\" >-0.01</td>\n",
              "                        <td id=\"T_6c8bd0ca_aaca_11eb_94ee_0242ac1c0002row14_col25\" class=\"data row14 col25\" >0.05</td>\n",
              "            </tr>\n",
              "            <tr>\n",
              "                        <th id=\"T_6c8bd0ca_aaca_11eb_94ee_0242ac1c0002level0_row15\" class=\"row_heading level0 row15\" >x_{16}</th>\n",
              "                        <td id=\"T_6c8bd0ca_aaca_11eb_94ee_0242ac1c0002row15_col0\" class=\"data row15 col0\" >-0.03</td>\n",
              "                        <td id=\"T_6c8bd0ca_aaca_11eb_94ee_0242ac1c0002row15_col1\" class=\"data row15 col1\" >-0.00</td>\n",
              "                        <td id=\"T_6c8bd0ca_aaca_11eb_94ee_0242ac1c0002row15_col2\" class=\"data row15 col2\" >-0.00</td>\n",
              "                        <td id=\"T_6c8bd0ca_aaca_11eb_94ee_0242ac1c0002row15_col3\" class=\"data row15 col3\" >0.00</td>\n",
              "                        <td id=\"T_6c8bd0ca_aaca_11eb_94ee_0242ac1c0002row15_col4\" class=\"data row15 col4\" >0.01</td>\n",
              "                        <td id=\"T_6c8bd0ca_aaca_11eb_94ee_0242ac1c0002row15_col5\" class=\"data row15 col5\" >-0.01</td>\n",
              "                        <td id=\"T_6c8bd0ca_aaca_11eb_94ee_0242ac1c0002row15_col6\" class=\"data row15 col6\" >0.02</td>\n",
              "                        <td id=\"T_6c8bd0ca_aaca_11eb_94ee_0242ac1c0002row15_col7\" class=\"data row15 col7\" >0.01</td>\n",
              "                        <td id=\"T_6c8bd0ca_aaca_11eb_94ee_0242ac1c0002row15_col8\" class=\"data row15 col8\" >-0.03</td>\n",
              "                        <td id=\"T_6c8bd0ca_aaca_11eb_94ee_0242ac1c0002row15_col9\" class=\"data row15 col9\" >0.00</td>\n",
              "                        <td id=\"T_6c8bd0ca_aaca_11eb_94ee_0242ac1c0002row15_col10\" class=\"data row15 col10\" >-0.01</td>\n",
              "                        <td id=\"T_6c8bd0ca_aaca_11eb_94ee_0242ac1c0002row15_col11\" class=\"data row15 col11\" >0.01</td>\n",
              "                        <td id=\"T_6c8bd0ca_aaca_11eb_94ee_0242ac1c0002row15_col12\" class=\"data row15 col12\" >0.03</td>\n",
              "                        <td id=\"T_6c8bd0ca_aaca_11eb_94ee_0242ac1c0002row15_col13\" class=\"data row15 col13\" >0.02</td>\n",
              "                        <td id=\"T_6c8bd0ca_aaca_11eb_94ee_0242ac1c0002row15_col14\" class=\"data row15 col14\" >0.07</td>\n",
              "                        <td id=\"T_6c8bd0ca_aaca_11eb_94ee_0242ac1c0002row15_col15\" class=\"data row15 col15\" >1.00</td>\n",
              "                        <td id=\"T_6c8bd0ca_aaca_11eb_94ee_0242ac1c0002row15_col16\" class=\"data row15 col16\" >0.00</td>\n",
              "                        <td id=\"T_6c8bd0ca_aaca_11eb_94ee_0242ac1c0002row15_col17\" class=\"data row15 col17\" >0.04</td>\n",
              "                        <td id=\"T_6c8bd0ca_aaca_11eb_94ee_0242ac1c0002row15_col18\" class=\"data row15 col18\" >0.02</td>\n",
              "                        <td id=\"T_6c8bd0ca_aaca_11eb_94ee_0242ac1c0002row15_col19\" class=\"data row15 col19\" >-0.04</td>\n",
              "                        <td id=\"T_6c8bd0ca_aaca_11eb_94ee_0242ac1c0002row15_col20\" class=\"data row15 col20\" >-0.02</td>\n",
              "                        <td id=\"T_6c8bd0ca_aaca_11eb_94ee_0242ac1c0002row15_col21\" class=\"data row15 col21\" >0.03</td>\n",
              "                        <td id=\"T_6c8bd0ca_aaca_11eb_94ee_0242ac1c0002row15_col22\" class=\"data row15 col22\" >-0.01</td>\n",
              "                        <td id=\"T_6c8bd0ca_aaca_11eb_94ee_0242ac1c0002row15_col23\" class=\"data row15 col23\" >0.03</td>\n",
              "                        <td id=\"T_6c8bd0ca_aaca_11eb_94ee_0242ac1c0002row15_col24\" class=\"data row15 col24\" >0.05</td>\n",
              "                        <td id=\"T_6c8bd0ca_aaca_11eb_94ee_0242ac1c0002row15_col25\" class=\"data row15 col25\" >0.71</td>\n",
              "            </tr>\n",
              "            <tr>\n",
              "                        <th id=\"T_6c8bd0ca_aaca_11eb_94ee_0242ac1c0002level0_row16\" class=\"row_heading level0 row16\" >x_{17}</th>\n",
              "                        <td id=\"T_6c8bd0ca_aaca_11eb_94ee_0242ac1c0002row16_col0\" class=\"data row16 col0\" >-0.03</td>\n",
              "                        <td id=\"T_6c8bd0ca_aaca_11eb_94ee_0242ac1c0002row16_col1\" class=\"data row16 col1\" >-0.01</td>\n",
              "                        <td id=\"T_6c8bd0ca_aaca_11eb_94ee_0242ac1c0002row16_col2\" class=\"data row16 col2\" >-0.04</td>\n",
              "                        <td id=\"T_6c8bd0ca_aaca_11eb_94ee_0242ac1c0002row16_col3\" class=\"data row16 col3\" >0.00</td>\n",
              "                        <td id=\"T_6c8bd0ca_aaca_11eb_94ee_0242ac1c0002row16_col4\" class=\"data row16 col4\" >0.03</td>\n",
              "                        <td id=\"T_6c8bd0ca_aaca_11eb_94ee_0242ac1c0002row16_col5\" class=\"data row16 col5\" >-0.01</td>\n",
              "                        <td id=\"T_6c8bd0ca_aaca_11eb_94ee_0242ac1c0002row16_col6\" class=\"data row16 col6\" >0.05</td>\n",
              "                        <td id=\"T_6c8bd0ca_aaca_11eb_94ee_0242ac1c0002row16_col7\" class=\"data row16 col7\" >0.01</td>\n",
              "                        <td id=\"T_6c8bd0ca_aaca_11eb_94ee_0242ac1c0002row16_col8\" class=\"data row16 col8\" >0.03</td>\n",
              "                        <td id=\"T_6c8bd0ca_aaca_11eb_94ee_0242ac1c0002row16_col9\" class=\"data row16 col9\" >0.04</td>\n",
              "                        <td id=\"T_6c8bd0ca_aaca_11eb_94ee_0242ac1c0002row16_col10\" class=\"data row16 col10\" >0.02</td>\n",
              "                        <td id=\"T_6c8bd0ca_aaca_11eb_94ee_0242ac1c0002row16_col11\" class=\"data row16 col11\" >0.02</td>\n",
              "                        <td id=\"T_6c8bd0ca_aaca_11eb_94ee_0242ac1c0002row16_col12\" class=\"data row16 col12\" >-0.02</td>\n",
              "                        <td id=\"T_6c8bd0ca_aaca_11eb_94ee_0242ac1c0002row16_col13\" class=\"data row16 col13\" >0.01</td>\n",
              "                        <td id=\"T_6c8bd0ca_aaca_11eb_94ee_0242ac1c0002row16_col14\" class=\"data row16 col14\" >-0.01</td>\n",
              "                        <td id=\"T_6c8bd0ca_aaca_11eb_94ee_0242ac1c0002row16_col15\" class=\"data row16 col15\" >0.00</td>\n",
              "                        <td id=\"T_6c8bd0ca_aaca_11eb_94ee_0242ac1c0002row16_col16\" class=\"data row16 col16\" >1.00</td>\n",
              "                        <td id=\"T_6c8bd0ca_aaca_11eb_94ee_0242ac1c0002row16_col17\" class=\"data row16 col17\" >-0.04</td>\n",
              "                        <td id=\"T_6c8bd0ca_aaca_11eb_94ee_0242ac1c0002row16_col18\" class=\"data row16 col18\" >0.01</td>\n",
              "                        <td id=\"T_6c8bd0ca_aaca_11eb_94ee_0242ac1c0002row16_col19\" class=\"data row16 col19\" >0.02</td>\n",
              "                        <td id=\"T_6c8bd0ca_aaca_11eb_94ee_0242ac1c0002row16_col20\" class=\"data row16 col20\" >0.04</td>\n",
              "                        <td id=\"T_6c8bd0ca_aaca_11eb_94ee_0242ac1c0002row16_col21\" class=\"data row16 col21\" >0.01</td>\n",
              "                        <td id=\"T_6c8bd0ca_aaca_11eb_94ee_0242ac1c0002row16_col22\" class=\"data row16 col22\" >0.01</td>\n",
              "                        <td id=\"T_6c8bd0ca_aaca_11eb_94ee_0242ac1c0002row16_col23\" class=\"data row16 col23\" >0.01</td>\n",
              "                        <td id=\"T_6c8bd0ca_aaca_11eb_94ee_0242ac1c0002row16_col24\" class=\"data row16 col24\" >-0.01</td>\n",
              "                        <td id=\"T_6c8bd0ca_aaca_11eb_94ee_0242ac1c0002row16_col25\" class=\"data row16 col25\" >0.11</td>\n",
              "            </tr>\n",
              "            <tr>\n",
              "                        <th id=\"T_6c8bd0ca_aaca_11eb_94ee_0242ac1c0002level0_row17\" class=\"row_heading level0 row17\" >x_{18}</th>\n",
              "                        <td id=\"T_6c8bd0ca_aaca_11eb_94ee_0242ac1c0002row17_col0\" class=\"data row17 col0\" >-0.03</td>\n",
              "                        <td id=\"T_6c8bd0ca_aaca_11eb_94ee_0242ac1c0002row17_col1\" class=\"data row17 col1\" >0.02</td>\n",
              "                        <td id=\"T_6c8bd0ca_aaca_11eb_94ee_0242ac1c0002row17_col2\" class=\"data row17 col2\" >-0.00</td>\n",
              "                        <td id=\"T_6c8bd0ca_aaca_11eb_94ee_0242ac1c0002row17_col3\" class=\"data row17 col3\" >0.01</td>\n",
              "                        <td id=\"T_6c8bd0ca_aaca_11eb_94ee_0242ac1c0002row17_col4\" class=\"data row17 col4\" >0.03</td>\n",
              "                        <td id=\"T_6c8bd0ca_aaca_11eb_94ee_0242ac1c0002row17_col5\" class=\"data row17 col5\" >-0.02</td>\n",
              "                        <td id=\"T_6c8bd0ca_aaca_11eb_94ee_0242ac1c0002row17_col6\" class=\"data row17 col6\" >-0.02</td>\n",
              "                        <td id=\"T_6c8bd0ca_aaca_11eb_94ee_0242ac1c0002row17_col7\" class=\"data row17 col7\" >0.03</td>\n",
              "                        <td id=\"T_6c8bd0ca_aaca_11eb_94ee_0242ac1c0002row17_col8\" class=\"data row17 col8\" >0.03</td>\n",
              "                        <td id=\"T_6c8bd0ca_aaca_11eb_94ee_0242ac1c0002row17_col9\" class=\"data row17 col9\" >-0.04</td>\n",
              "                        <td id=\"T_6c8bd0ca_aaca_11eb_94ee_0242ac1c0002row17_col10\" class=\"data row17 col10\" >0.01</td>\n",
              "                        <td id=\"T_6c8bd0ca_aaca_11eb_94ee_0242ac1c0002row17_col11\" class=\"data row17 col11\" >-0.02</td>\n",
              "                        <td id=\"T_6c8bd0ca_aaca_11eb_94ee_0242ac1c0002row17_col12\" class=\"data row17 col12\" >0.01</td>\n",
              "                        <td id=\"T_6c8bd0ca_aaca_11eb_94ee_0242ac1c0002row17_col13\" class=\"data row17 col13\" >-0.04</td>\n",
              "                        <td id=\"T_6c8bd0ca_aaca_11eb_94ee_0242ac1c0002row17_col14\" class=\"data row17 col14\" >0.04</td>\n",
              "                        <td id=\"T_6c8bd0ca_aaca_11eb_94ee_0242ac1c0002row17_col15\" class=\"data row17 col15\" >0.04</td>\n",
              "                        <td id=\"T_6c8bd0ca_aaca_11eb_94ee_0242ac1c0002row17_col16\" class=\"data row17 col16\" >-0.04</td>\n",
              "                        <td id=\"T_6c8bd0ca_aaca_11eb_94ee_0242ac1c0002row17_col17\" class=\"data row17 col17\" >1.00</td>\n",
              "                        <td id=\"T_6c8bd0ca_aaca_11eb_94ee_0242ac1c0002row17_col18\" class=\"data row17 col18\" >0.02</td>\n",
              "                        <td id=\"T_6c8bd0ca_aaca_11eb_94ee_0242ac1c0002row17_col19\" class=\"data row17 col19\" >0.07</td>\n",
              "                        <td id=\"T_6c8bd0ca_aaca_11eb_94ee_0242ac1c0002row17_col20\" class=\"data row17 col20\" >0.02</td>\n",
              "                        <td id=\"T_6c8bd0ca_aaca_11eb_94ee_0242ac1c0002row17_col21\" class=\"data row17 col21\" >0.02</td>\n",
              "                        <td id=\"T_6c8bd0ca_aaca_11eb_94ee_0242ac1c0002row17_col22\" class=\"data row17 col22\" >0.04</td>\n",
              "                        <td id=\"T_6c8bd0ca_aaca_11eb_94ee_0242ac1c0002row17_col23\" class=\"data row17 col23\" >0.02</td>\n",
              "                        <td id=\"T_6c8bd0ca_aaca_11eb_94ee_0242ac1c0002row17_col24\" class=\"data row17 col24\" >0.00</td>\n",
              "                        <td id=\"T_6c8bd0ca_aaca_11eb_94ee_0242ac1c0002row17_col25\" class=\"data row17 col25\" >0.02</td>\n",
              "            </tr>\n",
              "            <tr>\n",
              "                        <th id=\"T_6c8bd0ca_aaca_11eb_94ee_0242ac1c0002level0_row18\" class=\"row_heading level0 row18\" >x_{19}</th>\n",
              "                        <td id=\"T_6c8bd0ca_aaca_11eb_94ee_0242ac1c0002row18_col0\" class=\"data row18 col0\" >0.02</td>\n",
              "                        <td id=\"T_6c8bd0ca_aaca_11eb_94ee_0242ac1c0002row18_col1\" class=\"data row18 col1\" >0.03</td>\n",
              "                        <td id=\"T_6c8bd0ca_aaca_11eb_94ee_0242ac1c0002row18_col2\" class=\"data row18 col2\" >-0.01</td>\n",
              "                        <td id=\"T_6c8bd0ca_aaca_11eb_94ee_0242ac1c0002row18_col3\" class=\"data row18 col3\" >-0.01</td>\n",
              "                        <td id=\"T_6c8bd0ca_aaca_11eb_94ee_0242ac1c0002row18_col4\" class=\"data row18 col4\" >0.06</td>\n",
              "                        <td id=\"T_6c8bd0ca_aaca_11eb_94ee_0242ac1c0002row18_col5\" class=\"data row18 col5\" >-0.04</td>\n",
              "                        <td id=\"T_6c8bd0ca_aaca_11eb_94ee_0242ac1c0002row18_col6\" class=\"data row18 col6\" >-0.04</td>\n",
              "                        <td id=\"T_6c8bd0ca_aaca_11eb_94ee_0242ac1c0002row18_col7\" class=\"data row18 col7\" >0.00</td>\n",
              "                        <td id=\"T_6c8bd0ca_aaca_11eb_94ee_0242ac1c0002row18_col8\" class=\"data row18 col8\" >-0.01</td>\n",
              "                        <td id=\"T_6c8bd0ca_aaca_11eb_94ee_0242ac1c0002row18_col9\" class=\"data row18 col9\" >-0.01</td>\n",
              "                        <td id=\"T_6c8bd0ca_aaca_11eb_94ee_0242ac1c0002row18_col10\" class=\"data row18 col10\" >0.03</td>\n",
              "                        <td id=\"T_6c8bd0ca_aaca_11eb_94ee_0242ac1c0002row18_col11\" class=\"data row18 col11\" >0.02</td>\n",
              "                        <td id=\"T_6c8bd0ca_aaca_11eb_94ee_0242ac1c0002row18_col12\" class=\"data row18 col12\" >-0.03</td>\n",
              "                        <td id=\"T_6c8bd0ca_aaca_11eb_94ee_0242ac1c0002row18_col13\" class=\"data row18 col13\" >-0.00</td>\n",
              "                        <td id=\"T_6c8bd0ca_aaca_11eb_94ee_0242ac1c0002row18_col14\" class=\"data row18 col14\" >0.01</td>\n",
              "                        <td id=\"T_6c8bd0ca_aaca_11eb_94ee_0242ac1c0002row18_col15\" class=\"data row18 col15\" >0.02</td>\n",
              "                        <td id=\"T_6c8bd0ca_aaca_11eb_94ee_0242ac1c0002row18_col16\" class=\"data row18 col16\" >0.01</td>\n",
              "                        <td id=\"T_6c8bd0ca_aaca_11eb_94ee_0242ac1c0002row18_col17\" class=\"data row18 col17\" >0.02</td>\n",
              "                        <td id=\"T_6c8bd0ca_aaca_11eb_94ee_0242ac1c0002row18_col18\" class=\"data row18 col18\" >1.00</td>\n",
              "                        <td id=\"T_6c8bd0ca_aaca_11eb_94ee_0242ac1c0002row18_col19\" class=\"data row18 col19\" >-0.03</td>\n",
              "                        <td id=\"T_6c8bd0ca_aaca_11eb_94ee_0242ac1c0002row18_col20\" class=\"data row18 col20\" >-0.02</td>\n",
              "                        <td id=\"T_6c8bd0ca_aaca_11eb_94ee_0242ac1c0002row18_col21\" class=\"data row18 col21\" >-0.05</td>\n",
              "                        <td id=\"T_6c8bd0ca_aaca_11eb_94ee_0242ac1c0002row18_col22\" class=\"data row18 col22\" >0.03</td>\n",
              "                        <td id=\"T_6c8bd0ca_aaca_11eb_94ee_0242ac1c0002row18_col23\" class=\"data row18 col23\" >-0.01</td>\n",
              "                        <td id=\"T_6c8bd0ca_aaca_11eb_94ee_0242ac1c0002row18_col24\" class=\"data row18 col24\" >0.02</td>\n",
              "                        <td id=\"T_6c8bd0ca_aaca_11eb_94ee_0242ac1c0002row18_col25\" class=\"data row18 col25\" >0.04</td>\n",
              "            </tr>\n",
              "            <tr>\n",
              "                        <th id=\"T_6c8bd0ca_aaca_11eb_94ee_0242ac1c0002level0_row19\" class=\"row_heading level0 row19\" >x_{20}</th>\n",
              "                        <td id=\"T_6c8bd0ca_aaca_11eb_94ee_0242ac1c0002row19_col0\" class=\"data row19 col0\" >0.02</td>\n",
              "                        <td id=\"T_6c8bd0ca_aaca_11eb_94ee_0242ac1c0002row19_col1\" class=\"data row19 col1\" >-0.01</td>\n",
              "                        <td id=\"T_6c8bd0ca_aaca_11eb_94ee_0242ac1c0002row19_col2\" class=\"data row19 col2\" >-0.01</td>\n",
              "                        <td id=\"T_6c8bd0ca_aaca_11eb_94ee_0242ac1c0002row19_col3\" class=\"data row19 col3\" >-0.03</td>\n",
              "                        <td id=\"T_6c8bd0ca_aaca_11eb_94ee_0242ac1c0002row19_col4\" class=\"data row19 col4\" >0.01</td>\n",
              "                        <td id=\"T_6c8bd0ca_aaca_11eb_94ee_0242ac1c0002row19_col5\" class=\"data row19 col5\" >0.02</td>\n",
              "                        <td id=\"T_6c8bd0ca_aaca_11eb_94ee_0242ac1c0002row19_col6\" class=\"data row19 col6\" >-0.04</td>\n",
              "                        <td id=\"T_6c8bd0ca_aaca_11eb_94ee_0242ac1c0002row19_col7\" class=\"data row19 col7\" >-0.00</td>\n",
              "                        <td id=\"T_6c8bd0ca_aaca_11eb_94ee_0242ac1c0002row19_col8\" class=\"data row19 col8\" >-0.01</td>\n",
              "                        <td id=\"T_6c8bd0ca_aaca_11eb_94ee_0242ac1c0002row19_col9\" class=\"data row19 col9\" >0.01</td>\n",
              "                        <td id=\"T_6c8bd0ca_aaca_11eb_94ee_0242ac1c0002row19_col10\" class=\"data row19 col10\" >0.00</td>\n",
              "                        <td id=\"T_6c8bd0ca_aaca_11eb_94ee_0242ac1c0002row19_col11\" class=\"data row19 col11\" >-0.01</td>\n",
              "                        <td id=\"T_6c8bd0ca_aaca_11eb_94ee_0242ac1c0002row19_col12\" class=\"data row19 col12\" >0.02</td>\n",
              "                        <td id=\"T_6c8bd0ca_aaca_11eb_94ee_0242ac1c0002row19_col13\" class=\"data row19 col13\" >-0.01</td>\n",
              "                        <td id=\"T_6c8bd0ca_aaca_11eb_94ee_0242ac1c0002row19_col14\" class=\"data row19 col14\" >0.03</td>\n",
              "                        <td id=\"T_6c8bd0ca_aaca_11eb_94ee_0242ac1c0002row19_col15\" class=\"data row19 col15\" >-0.04</td>\n",
              "                        <td id=\"T_6c8bd0ca_aaca_11eb_94ee_0242ac1c0002row19_col16\" class=\"data row19 col16\" >0.02</td>\n",
              "                        <td id=\"T_6c8bd0ca_aaca_11eb_94ee_0242ac1c0002row19_col17\" class=\"data row19 col17\" >0.07</td>\n",
              "                        <td id=\"T_6c8bd0ca_aaca_11eb_94ee_0242ac1c0002row19_col18\" class=\"data row19 col18\" >-0.03</td>\n",
              "                        <td id=\"T_6c8bd0ca_aaca_11eb_94ee_0242ac1c0002row19_col19\" class=\"data row19 col19\" >1.00</td>\n",
              "                        <td id=\"T_6c8bd0ca_aaca_11eb_94ee_0242ac1c0002row19_col20\" class=\"data row19 col20\" >0.04</td>\n",
              "                        <td id=\"T_6c8bd0ca_aaca_11eb_94ee_0242ac1c0002row19_col21\" class=\"data row19 col21\" >-0.00</td>\n",
              "                        <td id=\"T_6c8bd0ca_aaca_11eb_94ee_0242ac1c0002row19_col22\" class=\"data row19 col22\" >0.04</td>\n",
              "                        <td id=\"T_6c8bd0ca_aaca_11eb_94ee_0242ac1c0002row19_col23\" class=\"data row19 col23\" >0.00</td>\n",
              "                        <td id=\"T_6c8bd0ca_aaca_11eb_94ee_0242ac1c0002row19_col24\" class=\"data row19 col24\" >-0.04</td>\n",
              "                        <td id=\"T_6c8bd0ca_aaca_11eb_94ee_0242ac1c0002row19_col25\" class=\"data row19 col25\" >-0.04</td>\n",
              "            </tr>\n",
              "            <tr>\n",
              "                        <th id=\"T_6c8bd0ca_aaca_11eb_94ee_0242ac1c0002level0_row20\" class=\"row_heading level0 row20\" >x_{21}</th>\n",
              "                        <td id=\"T_6c8bd0ca_aaca_11eb_94ee_0242ac1c0002row20_col0\" class=\"data row20 col0\" >-0.00</td>\n",
              "                        <td id=\"T_6c8bd0ca_aaca_11eb_94ee_0242ac1c0002row20_col1\" class=\"data row20 col1\" >-0.02</td>\n",
              "                        <td id=\"T_6c8bd0ca_aaca_11eb_94ee_0242ac1c0002row20_col2\" class=\"data row20 col2\" >0.00</td>\n",
              "                        <td id=\"T_6c8bd0ca_aaca_11eb_94ee_0242ac1c0002row20_col3\" class=\"data row20 col3\" >0.01</td>\n",
              "                        <td id=\"T_6c8bd0ca_aaca_11eb_94ee_0242ac1c0002row20_col4\" class=\"data row20 col4\" >-0.01</td>\n",
              "                        <td id=\"T_6c8bd0ca_aaca_11eb_94ee_0242ac1c0002row20_col5\" class=\"data row20 col5\" >-0.01</td>\n",
              "                        <td id=\"T_6c8bd0ca_aaca_11eb_94ee_0242ac1c0002row20_col6\" class=\"data row20 col6\" >0.04</td>\n",
              "                        <td id=\"T_6c8bd0ca_aaca_11eb_94ee_0242ac1c0002row20_col7\" class=\"data row20 col7\" >-0.01</td>\n",
              "                        <td id=\"T_6c8bd0ca_aaca_11eb_94ee_0242ac1c0002row20_col8\" class=\"data row20 col8\" >-0.01</td>\n",
              "                        <td id=\"T_6c8bd0ca_aaca_11eb_94ee_0242ac1c0002row20_col9\" class=\"data row20 col9\" >0.00</td>\n",
              "                        <td id=\"T_6c8bd0ca_aaca_11eb_94ee_0242ac1c0002row20_col10\" class=\"data row20 col10\" >-0.02</td>\n",
              "                        <td id=\"T_6c8bd0ca_aaca_11eb_94ee_0242ac1c0002row20_col11\" class=\"data row20 col11\" >0.02</td>\n",
              "                        <td id=\"T_6c8bd0ca_aaca_11eb_94ee_0242ac1c0002row20_col12\" class=\"data row20 col12\" >0.00</td>\n",
              "                        <td id=\"T_6c8bd0ca_aaca_11eb_94ee_0242ac1c0002row20_col13\" class=\"data row20 col13\" >0.03</td>\n",
              "                        <td id=\"T_6c8bd0ca_aaca_11eb_94ee_0242ac1c0002row20_col14\" class=\"data row20 col14\" >-0.02</td>\n",
              "                        <td id=\"T_6c8bd0ca_aaca_11eb_94ee_0242ac1c0002row20_col15\" class=\"data row20 col15\" >-0.02</td>\n",
              "                        <td id=\"T_6c8bd0ca_aaca_11eb_94ee_0242ac1c0002row20_col16\" class=\"data row20 col16\" >0.04</td>\n",
              "                        <td id=\"T_6c8bd0ca_aaca_11eb_94ee_0242ac1c0002row20_col17\" class=\"data row20 col17\" >0.02</td>\n",
              "                        <td id=\"T_6c8bd0ca_aaca_11eb_94ee_0242ac1c0002row20_col18\" class=\"data row20 col18\" >-0.02</td>\n",
              "                        <td id=\"T_6c8bd0ca_aaca_11eb_94ee_0242ac1c0002row20_col19\" class=\"data row20 col19\" >0.04</td>\n",
              "                        <td id=\"T_6c8bd0ca_aaca_11eb_94ee_0242ac1c0002row20_col20\" class=\"data row20 col20\" >1.00</td>\n",
              "                        <td id=\"T_6c8bd0ca_aaca_11eb_94ee_0242ac1c0002row20_col21\" class=\"data row20 col21\" >0.05</td>\n",
              "                        <td id=\"T_6c8bd0ca_aaca_11eb_94ee_0242ac1c0002row20_col22\" class=\"data row20 col22\" >0.02</td>\n",
              "                        <td id=\"T_6c8bd0ca_aaca_11eb_94ee_0242ac1c0002row20_col23\" class=\"data row20 col23\" >-0.00</td>\n",
              "                        <td id=\"T_6c8bd0ca_aaca_11eb_94ee_0242ac1c0002row20_col24\" class=\"data row20 col24\" >0.00</td>\n",
              "                        <td id=\"T_6c8bd0ca_aaca_11eb_94ee_0242ac1c0002row20_col25\" class=\"data row20 col25\" >-0.01</td>\n",
              "            </tr>\n",
              "            <tr>\n",
              "                        <th id=\"T_6c8bd0ca_aaca_11eb_94ee_0242ac1c0002level0_row21\" class=\"row_heading level0 row21\" >x_{22}</th>\n",
              "                        <td id=\"T_6c8bd0ca_aaca_11eb_94ee_0242ac1c0002row21_col0\" class=\"data row21 col0\" >-0.01</td>\n",
              "                        <td id=\"T_6c8bd0ca_aaca_11eb_94ee_0242ac1c0002row21_col1\" class=\"data row21 col1\" >-0.02</td>\n",
              "                        <td id=\"T_6c8bd0ca_aaca_11eb_94ee_0242ac1c0002row21_col2\" class=\"data row21 col2\" >-0.01</td>\n",
              "                        <td id=\"T_6c8bd0ca_aaca_11eb_94ee_0242ac1c0002row21_col3\" class=\"data row21 col3\" >-0.04</td>\n",
              "                        <td id=\"T_6c8bd0ca_aaca_11eb_94ee_0242ac1c0002row21_col4\" class=\"data row21 col4\" >-0.02</td>\n",
              "                        <td id=\"T_6c8bd0ca_aaca_11eb_94ee_0242ac1c0002row21_col5\" class=\"data row21 col5\" >-0.05</td>\n",
              "                        <td id=\"T_6c8bd0ca_aaca_11eb_94ee_0242ac1c0002row21_col6\" class=\"data row21 col6\" >-0.04</td>\n",
              "                        <td id=\"T_6c8bd0ca_aaca_11eb_94ee_0242ac1c0002row21_col7\" class=\"data row21 col7\" >-0.02</td>\n",
              "                        <td id=\"T_6c8bd0ca_aaca_11eb_94ee_0242ac1c0002row21_col8\" class=\"data row21 col8\" >0.01</td>\n",
              "                        <td id=\"T_6c8bd0ca_aaca_11eb_94ee_0242ac1c0002row21_col9\" class=\"data row21 col9\" >0.03</td>\n",
              "                        <td id=\"T_6c8bd0ca_aaca_11eb_94ee_0242ac1c0002row21_col10\" class=\"data row21 col10\" >-0.01</td>\n",
              "                        <td id=\"T_6c8bd0ca_aaca_11eb_94ee_0242ac1c0002row21_col11\" class=\"data row21 col11\" >-0.02</td>\n",
              "                        <td id=\"T_6c8bd0ca_aaca_11eb_94ee_0242ac1c0002row21_col12\" class=\"data row21 col12\" >-0.01</td>\n",
              "                        <td id=\"T_6c8bd0ca_aaca_11eb_94ee_0242ac1c0002row21_col13\" class=\"data row21 col13\" >-0.02</td>\n",
              "                        <td id=\"T_6c8bd0ca_aaca_11eb_94ee_0242ac1c0002row21_col14\" class=\"data row21 col14\" >-0.01</td>\n",
              "                        <td id=\"T_6c8bd0ca_aaca_11eb_94ee_0242ac1c0002row21_col15\" class=\"data row21 col15\" >0.03</td>\n",
              "                        <td id=\"T_6c8bd0ca_aaca_11eb_94ee_0242ac1c0002row21_col16\" class=\"data row21 col16\" >0.01</td>\n",
              "                        <td id=\"T_6c8bd0ca_aaca_11eb_94ee_0242ac1c0002row21_col17\" class=\"data row21 col17\" >0.02</td>\n",
              "                        <td id=\"T_6c8bd0ca_aaca_11eb_94ee_0242ac1c0002row21_col18\" class=\"data row21 col18\" >-0.05</td>\n",
              "                        <td id=\"T_6c8bd0ca_aaca_11eb_94ee_0242ac1c0002row21_col19\" class=\"data row21 col19\" >-0.00</td>\n",
              "                        <td id=\"T_6c8bd0ca_aaca_11eb_94ee_0242ac1c0002row21_col20\" class=\"data row21 col20\" >0.05</td>\n",
              "                        <td id=\"T_6c8bd0ca_aaca_11eb_94ee_0242ac1c0002row21_col21\" class=\"data row21 col21\" >1.00</td>\n",
              "                        <td id=\"T_6c8bd0ca_aaca_11eb_94ee_0242ac1c0002row21_col22\" class=\"data row21 col22\" >-0.00</td>\n",
              "                        <td id=\"T_6c8bd0ca_aaca_11eb_94ee_0242ac1c0002row21_col23\" class=\"data row21 col23\" >-0.00</td>\n",
              "                        <td id=\"T_6c8bd0ca_aaca_11eb_94ee_0242ac1c0002row21_col24\" class=\"data row21 col24\" >0.00</td>\n",
              "                        <td id=\"T_6c8bd0ca_aaca_11eb_94ee_0242ac1c0002row21_col25\" class=\"data row21 col25\" >0.00</td>\n",
              "            </tr>\n",
              "            <tr>\n",
              "                        <th id=\"T_6c8bd0ca_aaca_11eb_94ee_0242ac1c0002level0_row22\" class=\"row_heading level0 row22\" >x_{23}</th>\n",
              "                        <td id=\"T_6c8bd0ca_aaca_11eb_94ee_0242ac1c0002row22_col0\" class=\"data row22 col0\" >-0.00</td>\n",
              "                        <td id=\"T_6c8bd0ca_aaca_11eb_94ee_0242ac1c0002row22_col1\" class=\"data row22 col1\" >0.01</td>\n",
              "                        <td id=\"T_6c8bd0ca_aaca_11eb_94ee_0242ac1c0002row22_col2\" class=\"data row22 col2\" >-0.02</td>\n",
              "                        <td id=\"T_6c8bd0ca_aaca_11eb_94ee_0242ac1c0002row22_col3\" class=\"data row22 col3\" >-0.01</td>\n",
              "                        <td id=\"T_6c8bd0ca_aaca_11eb_94ee_0242ac1c0002row22_col4\" class=\"data row22 col4\" >0.02</td>\n",
              "                        <td id=\"T_6c8bd0ca_aaca_11eb_94ee_0242ac1c0002row22_col5\" class=\"data row22 col5\" >-0.02</td>\n",
              "                        <td id=\"T_6c8bd0ca_aaca_11eb_94ee_0242ac1c0002row22_col6\" class=\"data row22 col6\" >-0.02</td>\n",
              "                        <td id=\"T_6c8bd0ca_aaca_11eb_94ee_0242ac1c0002row22_col7\" class=\"data row22 col7\" >-0.04</td>\n",
              "                        <td id=\"T_6c8bd0ca_aaca_11eb_94ee_0242ac1c0002row22_col8\" class=\"data row22 col8\" >0.02</td>\n",
              "                        <td id=\"T_6c8bd0ca_aaca_11eb_94ee_0242ac1c0002row22_col9\" class=\"data row22 col9\" >0.03</td>\n",
              "                        <td id=\"T_6c8bd0ca_aaca_11eb_94ee_0242ac1c0002row22_col10\" class=\"data row22 col10\" >-0.02</td>\n",
              "                        <td id=\"T_6c8bd0ca_aaca_11eb_94ee_0242ac1c0002row22_col11\" class=\"data row22 col11\" >-0.02</td>\n",
              "                        <td id=\"T_6c8bd0ca_aaca_11eb_94ee_0242ac1c0002row22_col12\" class=\"data row22 col12\" >-0.01</td>\n",
              "                        <td id=\"T_6c8bd0ca_aaca_11eb_94ee_0242ac1c0002row22_col13\" class=\"data row22 col13\" >-0.05</td>\n",
              "                        <td id=\"T_6c8bd0ca_aaca_11eb_94ee_0242ac1c0002row22_col14\" class=\"data row22 col14\" >-0.04</td>\n",
              "                        <td id=\"T_6c8bd0ca_aaca_11eb_94ee_0242ac1c0002row22_col15\" class=\"data row22 col15\" >-0.01</td>\n",
              "                        <td id=\"T_6c8bd0ca_aaca_11eb_94ee_0242ac1c0002row22_col16\" class=\"data row22 col16\" >0.01</td>\n",
              "                        <td id=\"T_6c8bd0ca_aaca_11eb_94ee_0242ac1c0002row22_col17\" class=\"data row22 col17\" >0.04</td>\n",
              "                        <td id=\"T_6c8bd0ca_aaca_11eb_94ee_0242ac1c0002row22_col18\" class=\"data row22 col18\" >0.03</td>\n",
              "                        <td id=\"T_6c8bd0ca_aaca_11eb_94ee_0242ac1c0002row22_col19\" class=\"data row22 col19\" >0.04</td>\n",
              "                        <td id=\"T_6c8bd0ca_aaca_11eb_94ee_0242ac1c0002row22_col20\" class=\"data row22 col20\" >0.02</td>\n",
              "                        <td id=\"T_6c8bd0ca_aaca_11eb_94ee_0242ac1c0002row22_col21\" class=\"data row22 col21\" >-0.00</td>\n",
              "                        <td id=\"T_6c8bd0ca_aaca_11eb_94ee_0242ac1c0002row22_col22\" class=\"data row22 col22\" >1.00</td>\n",
              "                        <td id=\"T_6c8bd0ca_aaca_11eb_94ee_0242ac1c0002row22_col23\" class=\"data row22 col23\" >-0.01</td>\n",
              "                        <td id=\"T_6c8bd0ca_aaca_11eb_94ee_0242ac1c0002row22_col24\" class=\"data row22 col24\" >-0.00</td>\n",
              "                        <td id=\"T_6c8bd0ca_aaca_11eb_94ee_0242ac1c0002row22_col25\" class=\"data row22 col25\" >-0.02</td>\n",
              "            </tr>\n",
              "            <tr>\n",
              "                        <th id=\"T_6c8bd0ca_aaca_11eb_94ee_0242ac1c0002level0_row23\" class=\"row_heading level0 row23\" >x_{24}</th>\n",
              "                        <td id=\"T_6c8bd0ca_aaca_11eb_94ee_0242ac1c0002row23_col0\" class=\"data row23 col0\" >-0.02</td>\n",
              "                        <td id=\"T_6c8bd0ca_aaca_11eb_94ee_0242ac1c0002row23_col1\" class=\"data row23 col1\" >-0.01</td>\n",
              "                        <td id=\"T_6c8bd0ca_aaca_11eb_94ee_0242ac1c0002row23_col2\" class=\"data row23 col2\" >0.04</td>\n",
              "                        <td id=\"T_6c8bd0ca_aaca_11eb_94ee_0242ac1c0002row23_col3\" class=\"data row23 col3\" >0.00</td>\n",
              "                        <td id=\"T_6c8bd0ca_aaca_11eb_94ee_0242ac1c0002row23_col4\" class=\"data row23 col4\" >-0.01</td>\n",
              "                        <td id=\"T_6c8bd0ca_aaca_11eb_94ee_0242ac1c0002row23_col5\" class=\"data row23 col5\" >0.01</td>\n",
              "                        <td id=\"T_6c8bd0ca_aaca_11eb_94ee_0242ac1c0002row23_col6\" class=\"data row23 col6\" >0.01</td>\n",
              "                        <td id=\"T_6c8bd0ca_aaca_11eb_94ee_0242ac1c0002row23_col7\" class=\"data row23 col7\" >-0.04</td>\n",
              "                        <td id=\"T_6c8bd0ca_aaca_11eb_94ee_0242ac1c0002row23_col8\" class=\"data row23 col8\" >-0.03</td>\n",
              "                        <td id=\"T_6c8bd0ca_aaca_11eb_94ee_0242ac1c0002row23_col9\" class=\"data row23 col9\" >0.01</td>\n",
              "                        <td id=\"T_6c8bd0ca_aaca_11eb_94ee_0242ac1c0002row23_col10\" class=\"data row23 col10\" >0.02</td>\n",
              "                        <td id=\"T_6c8bd0ca_aaca_11eb_94ee_0242ac1c0002row23_col11\" class=\"data row23 col11\" >-0.03</td>\n",
              "                        <td id=\"T_6c8bd0ca_aaca_11eb_94ee_0242ac1c0002row23_col12\" class=\"data row23 col12\" >-0.03</td>\n",
              "                        <td id=\"T_6c8bd0ca_aaca_11eb_94ee_0242ac1c0002row23_col13\" class=\"data row23 col13\" >-0.02</td>\n",
              "                        <td id=\"T_6c8bd0ca_aaca_11eb_94ee_0242ac1c0002row23_col14\" class=\"data row23 col14\" >0.01</td>\n",
              "                        <td id=\"T_6c8bd0ca_aaca_11eb_94ee_0242ac1c0002row23_col15\" class=\"data row23 col15\" >0.03</td>\n",
              "                        <td id=\"T_6c8bd0ca_aaca_11eb_94ee_0242ac1c0002row23_col16\" class=\"data row23 col16\" >0.01</td>\n",
              "                        <td id=\"T_6c8bd0ca_aaca_11eb_94ee_0242ac1c0002row23_col17\" class=\"data row23 col17\" >0.02</td>\n",
              "                        <td id=\"T_6c8bd0ca_aaca_11eb_94ee_0242ac1c0002row23_col18\" class=\"data row23 col18\" >-0.01</td>\n",
              "                        <td id=\"T_6c8bd0ca_aaca_11eb_94ee_0242ac1c0002row23_col19\" class=\"data row23 col19\" >0.00</td>\n",
              "                        <td id=\"T_6c8bd0ca_aaca_11eb_94ee_0242ac1c0002row23_col20\" class=\"data row23 col20\" >-0.00</td>\n",
              "                        <td id=\"T_6c8bd0ca_aaca_11eb_94ee_0242ac1c0002row23_col21\" class=\"data row23 col21\" >-0.00</td>\n",
              "                        <td id=\"T_6c8bd0ca_aaca_11eb_94ee_0242ac1c0002row23_col22\" class=\"data row23 col22\" >-0.01</td>\n",
              "                        <td id=\"T_6c8bd0ca_aaca_11eb_94ee_0242ac1c0002row23_col23\" class=\"data row23 col23\" >1.00</td>\n",
              "                        <td id=\"T_6c8bd0ca_aaca_11eb_94ee_0242ac1c0002row23_col24\" class=\"data row23 col24\" >-0.01</td>\n",
              "                        <td id=\"T_6c8bd0ca_aaca_11eb_94ee_0242ac1c0002row23_col25\" class=\"data row23 col25\" >0.01</td>\n",
              "            </tr>\n",
              "            <tr>\n",
              "                        <th id=\"T_6c8bd0ca_aaca_11eb_94ee_0242ac1c0002level0_row24\" class=\"row_heading level0 row24\" >x_{25}</th>\n",
              "                        <td id=\"T_6c8bd0ca_aaca_11eb_94ee_0242ac1c0002row24_col0\" class=\"data row24 col0\" >0.02</td>\n",
              "                        <td id=\"T_6c8bd0ca_aaca_11eb_94ee_0242ac1c0002row24_col1\" class=\"data row24 col1\" >-0.01</td>\n",
              "                        <td id=\"T_6c8bd0ca_aaca_11eb_94ee_0242ac1c0002row24_col2\" class=\"data row24 col2\" >0.01</td>\n",
              "                        <td id=\"T_6c8bd0ca_aaca_11eb_94ee_0242ac1c0002row24_col3\" class=\"data row24 col3\" >-0.00</td>\n",
              "                        <td id=\"T_6c8bd0ca_aaca_11eb_94ee_0242ac1c0002row24_col4\" class=\"data row24 col4\" >-0.00</td>\n",
              "                        <td id=\"T_6c8bd0ca_aaca_11eb_94ee_0242ac1c0002row24_col5\" class=\"data row24 col5\" >0.00</td>\n",
              "                        <td id=\"T_6c8bd0ca_aaca_11eb_94ee_0242ac1c0002row24_col6\" class=\"data row24 col6\" >0.04</td>\n",
              "                        <td id=\"T_6c8bd0ca_aaca_11eb_94ee_0242ac1c0002row24_col7\" class=\"data row24 col7\" >-0.00</td>\n",
              "                        <td id=\"T_6c8bd0ca_aaca_11eb_94ee_0242ac1c0002row24_col8\" class=\"data row24 col8\" >-0.03</td>\n",
              "                        <td id=\"T_6c8bd0ca_aaca_11eb_94ee_0242ac1c0002row24_col9\" class=\"data row24 col9\" >-0.01</td>\n",
              "                        <td id=\"T_6c8bd0ca_aaca_11eb_94ee_0242ac1c0002row24_col10\" class=\"data row24 col10\" >0.00</td>\n",
              "                        <td id=\"T_6c8bd0ca_aaca_11eb_94ee_0242ac1c0002row24_col11\" class=\"data row24 col11\" >-0.02</td>\n",
              "                        <td id=\"T_6c8bd0ca_aaca_11eb_94ee_0242ac1c0002row24_col12\" class=\"data row24 col12\" >-0.02</td>\n",
              "                        <td id=\"T_6c8bd0ca_aaca_11eb_94ee_0242ac1c0002row24_col13\" class=\"data row24 col13\" >-0.05</td>\n",
              "                        <td id=\"T_6c8bd0ca_aaca_11eb_94ee_0242ac1c0002row24_col14\" class=\"data row24 col14\" >-0.01</td>\n",
              "                        <td id=\"T_6c8bd0ca_aaca_11eb_94ee_0242ac1c0002row24_col15\" class=\"data row24 col15\" >0.05</td>\n",
              "                        <td id=\"T_6c8bd0ca_aaca_11eb_94ee_0242ac1c0002row24_col16\" class=\"data row24 col16\" >-0.01</td>\n",
              "                        <td id=\"T_6c8bd0ca_aaca_11eb_94ee_0242ac1c0002row24_col17\" class=\"data row24 col17\" >0.00</td>\n",
              "                        <td id=\"T_6c8bd0ca_aaca_11eb_94ee_0242ac1c0002row24_col18\" class=\"data row24 col18\" >0.02</td>\n",
              "                        <td id=\"T_6c8bd0ca_aaca_11eb_94ee_0242ac1c0002row24_col19\" class=\"data row24 col19\" >-0.04</td>\n",
              "                        <td id=\"T_6c8bd0ca_aaca_11eb_94ee_0242ac1c0002row24_col20\" class=\"data row24 col20\" >0.00</td>\n",
              "                        <td id=\"T_6c8bd0ca_aaca_11eb_94ee_0242ac1c0002row24_col21\" class=\"data row24 col21\" >0.00</td>\n",
              "                        <td id=\"T_6c8bd0ca_aaca_11eb_94ee_0242ac1c0002row24_col22\" class=\"data row24 col22\" >-0.00</td>\n",
              "                        <td id=\"T_6c8bd0ca_aaca_11eb_94ee_0242ac1c0002row24_col23\" class=\"data row24 col23\" >-0.01</td>\n",
              "                        <td id=\"T_6c8bd0ca_aaca_11eb_94ee_0242ac1c0002row24_col24\" class=\"data row24 col24\" >1.00</td>\n",
              "                        <td id=\"T_6c8bd0ca_aaca_11eb_94ee_0242ac1c0002row24_col25\" class=\"data row24 col25\" >0.02</td>\n",
              "            </tr>\n",
              "            <tr>\n",
              "                        <th id=\"T_6c8bd0ca_aaca_11eb_94ee_0242ac1c0002level0_row25\" class=\"row_heading level0 row25\" >y</th>\n",
              "                        <td id=\"T_6c8bd0ca_aaca_11eb_94ee_0242ac1c0002row25_col0\" class=\"data row25 col0\" >-0.04</td>\n",
              "                        <td id=\"T_6c8bd0ca_aaca_11eb_94ee_0242ac1c0002row25_col1\" class=\"data row25 col1\" >0.14</td>\n",
              "                        <td id=\"T_6c8bd0ca_aaca_11eb_94ee_0242ac1c0002row25_col2\" class=\"data row25 col2\" >0.00</td>\n",
              "                        <td id=\"T_6c8bd0ca_aaca_11eb_94ee_0242ac1c0002row25_col3\" class=\"data row25 col3\" >0.04</td>\n",
              "                        <td id=\"T_6c8bd0ca_aaca_11eb_94ee_0242ac1c0002row25_col4\" class=\"data row25 col4\" >0.01</td>\n",
              "                        <td id=\"T_6c8bd0ca_aaca_11eb_94ee_0242ac1c0002row25_col5\" class=\"data row25 col5\" >0.02</td>\n",
              "                        <td id=\"T_6c8bd0ca_aaca_11eb_94ee_0242ac1c0002row25_col6\" class=\"data row25 col6\" >0.02</td>\n",
              "                        <td id=\"T_6c8bd0ca_aaca_11eb_94ee_0242ac1c0002row25_col7\" class=\"data row25 col7\" >0.01</td>\n",
              "                        <td id=\"T_6c8bd0ca_aaca_11eb_94ee_0242ac1c0002row25_col8\" class=\"data row25 col8\" >-0.04</td>\n",
              "                        <td id=\"T_6c8bd0ca_aaca_11eb_94ee_0242ac1c0002row25_col9\" class=\"data row25 col9\" >-0.02</td>\n",
              "                        <td id=\"T_6c8bd0ca_aaca_11eb_94ee_0242ac1c0002row25_col10\" class=\"data row25 col10\" >0.40</td>\n",
              "                        <td id=\"T_6c8bd0ca_aaca_11eb_94ee_0242ac1c0002row25_col11\" class=\"data row25 col11\" >0.54</td>\n",
              "                        <td id=\"T_6c8bd0ca_aaca_11eb_94ee_0242ac1c0002row25_col12\" class=\"data row25 col12\" >0.01</td>\n",
              "                        <td id=\"T_6c8bd0ca_aaca_11eb_94ee_0242ac1c0002row25_col13\" class=\"data row25 col13\" >-0.01</td>\n",
              "                        <td id=\"T_6c8bd0ca_aaca_11eb_94ee_0242ac1c0002row25_col14\" class=\"data row25 col14\" >0.05</td>\n",
              "                        <td id=\"T_6c8bd0ca_aaca_11eb_94ee_0242ac1c0002row25_col15\" class=\"data row25 col15\" >0.71</td>\n",
              "                        <td id=\"T_6c8bd0ca_aaca_11eb_94ee_0242ac1c0002row25_col16\" class=\"data row25 col16\" >0.11</td>\n",
              "                        <td id=\"T_6c8bd0ca_aaca_11eb_94ee_0242ac1c0002row25_col17\" class=\"data row25 col17\" >0.02</td>\n",
              "                        <td id=\"T_6c8bd0ca_aaca_11eb_94ee_0242ac1c0002row25_col18\" class=\"data row25 col18\" >0.04</td>\n",
              "                        <td id=\"T_6c8bd0ca_aaca_11eb_94ee_0242ac1c0002row25_col19\" class=\"data row25 col19\" >-0.04</td>\n",
              "                        <td id=\"T_6c8bd0ca_aaca_11eb_94ee_0242ac1c0002row25_col20\" class=\"data row25 col20\" >-0.01</td>\n",
              "                        <td id=\"T_6c8bd0ca_aaca_11eb_94ee_0242ac1c0002row25_col21\" class=\"data row25 col21\" >0.00</td>\n",
              "                        <td id=\"T_6c8bd0ca_aaca_11eb_94ee_0242ac1c0002row25_col22\" class=\"data row25 col22\" >-0.02</td>\n",
              "                        <td id=\"T_6c8bd0ca_aaca_11eb_94ee_0242ac1c0002row25_col23\" class=\"data row25 col23\" >0.01</td>\n",
              "                        <td id=\"T_6c8bd0ca_aaca_11eb_94ee_0242ac1c0002row25_col24\" class=\"data row25 col24\" >0.02</td>\n",
              "                        <td id=\"T_6c8bd0ca_aaca_11eb_94ee_0242ac1c0002row25_col25\" class=\"data row25 col25\" >1.00</td>\n",
              "            </tr>\n",
              "    </tbody></table>"
            ],
            "text/plain": [
              "<pandas.io.formats.style.Styler at 0x7f9b62d3cf90>"
            ]
          },
          "metadata": {
            "tags": []
          }
        }
      ]
    },
    {
      "cell_type": "markdown",
      "metadata": {
        "id": "CxrXrUAOiI00"
      },
      "source": [
        "This correlation heat map indicates that features $x_{16}$, $x_{12}$, $x_{11}$, $x_2$, $x_{17}$, $x_{15}$, in order of decreasing importance, are correlated with $y$. Other features of equal but relatively low importance include $x_{1}$, $x_{4}$, $x_{9}$, $x_{19}$, and $x_{20}$, each with a correlation value of either 0.04 or -0.04."
      ]
    },
    {
      "cell_type": "markdown",
      "metadata": {
        "id": "ywgoShQhJ5KU"
      },
      "source": [
        "## Scale and transform data"
      ]
    },
    {
      "cell_type": "markdown",
      "metadata": {
        "id": "mdUI2WDxUdvA"
      },
      "source": [
        "At this point, it would be appropriate to scale both our input `X` and output `y` values. However, we will not actually scale our features because, as an exercise in curiousity, we want to observe how closely we can reproduce the original signal that generated the data. If we were to scale and transform our data, the model we create will be accurate for scaled and transformed data, not the original data. Since the `make_regression` function above actually provides us with the coefficients used to generate the data, assuming we can accurately generate a model that fits the original data, we can compare that model to the model that generated the data.\n",
        "\n",
        "Nonetheless, it does appear that each of our `X` features has a mean of approximately 0 and a unit variance.\n",
        "\n"
      ]
    },
    {
      "cell_type": "markdown",
      "metadata": {
        "id": "kRGmkwNdiInr"
      },
      "source": [
        "## Conduct recursive feature elimination"
      ]
    },
    {
      "cell_type": "markdown",
      "metadata": {
        "id": "j5hVsmzmikFV"
      },
      "source": [
        "We're ready to begin feature elimination! `scikit-learn` provides the `RFECV` method to help us."
      ]
    },
    {
      "cell_type": "code",
      "metadata": {
        "id": "_kthrJoXilR1"
      },
      "source": [
        "from sklearn.linear_model import LinearRegression\n",
        "from sklearn.feature_selection import RFECV\n",
        "from sklearn.model_selection import RepeatedKFold\n",
        "\n",
        "linear = LinearRegression()\n",
        "min_features_to_select = 1\n",
        "\n",
        "# create the RFE object and compute a cross-validated score.\n",
        "rfecv = RFECV(estimator=linear, step=1, \n",
        "              cv=RepeatedKFold(n_splits=10, n_repeats=5, random_state=random_state),\n",
        "              scoring='neg_mean_squared_error',\n",
        "              min_features_to_select=min_features_to_select)"
      ],
      "execution_count": null,
      "outputs": []
    },
    {
      "cell_type": "markdown",
      "metadata": {
        "id": "sSE1THB2kjbw"
      },
      "source": [
        "For our purposes, we use a `LinearRegression` estimator and the `RepeatedKFold` cross-validation iterator to generate 5 trials of 10-fold cross-validation. We continue to use our `random_state` variable for reproducibility. We use the `neg_mean_squared_error` scoring metric for cross-validation and demand that we include at least one feature in our final model.\n",
        "\n",
        "The `RFECV` object has several useful methods and properties that we will use in the following steps:\n",
        "\n",
        "- Methods\n",
        "  - `fit()` will fit the model created by recursive feature elimination to the data.\n",
        "\n",
        "- Properties\n",
        "  - `grid_scores_` provides a numpy array of cross-validation scores for models of increasing features.\n",
        "  - `n_features_` provides the count of the minimum number features use to generate the model with the least cross-validated error"
      ]
    },
    {
      "cell_type": "markdown",
      "metadata": {
        "id": "dLriNFsrlbhO"
      },
      "source": [
        "## Train model"
      ]
    },
    {
      "cell_type": "markdown",
      "metadata": {
        "id": "B12BIwtmldi8"
      },
      "source": [
        "We will use the `fit` method to train our model."
      ]
    },
    {
      "cell_type": "code",
      "metadata": {
        "id": "7Y7WBLB_lxcE"
      },
      "source": [
        "rfecv.fit(X_train, y_train);"
      ],
      "execution_count": null,
      "outputs": []
    },
    {
      "cell_type": "markdown",
      "metadata": {
        "id": "0DpNMXWumhF9"
      },
      "source": [
        "## Analyze model"
      ]
    },
    {
      "cell_type": "markdown",
      "metadata": {
        "id": "yseb_jvFmoYZ"
      },
      "source": [
        "We will attempt to analyze our model using several visual and mathematical tools."
      ]
    },
    {
      "cell_type": "markdown",
      "metadata": {
        "id": "JVITbtbSoIhA"
      },
      "source": [
        "### MSE of models by feature"
      ]
    },
    {
      "cell_type": "markdown",
      "metadata": {
        "id": "lkDiAnn1oWk4"
      },
      "source": [
        "First, let us examine the effect of increasing features on the mean squared error, also known as a spaghetti plot. Since we used the negated mean squared error scores for cross-validation, we display the negated scores along the y-axis in order to display the scores on the positive axis, as expected. We plot the results along the x-axis.\n",
        "\n",
        "From the plot, it appears that 5 features is the minimal number of features required to minimize error."
      ]
    },
    {
      "cell_type": "code",
      "metadata": {
        "colab": {
          "base_uri": "https://localhost:8080/",
          "height": 279
        },
        "id": "Pi4iyiORmhgk",
        "outputId": "664efe56-d976-4bc5-c3b4-94108eafc7b8"
      },
      "source": [
        "import matplotlib.pyplot as plt\n",
        "\n",
        "# plot number of features vs. cross-validation scores\n",
        "plt.figure()\n",
        "plt.xlabel(\"Number of features selected\")\n",
        "plt.ylabel(\"Mean Squared Error\")\n",
        "plt.plot(range(min_features_to_select,\n",
        "               len(rfecv.grid_scores_) + min_features_to_select),\n",
        "         -rfecv.grid_scores_)\n",
        "plt.show()"
      ],
      "execution_count": null,
      "outputs": [
        {
          "output_type": "display_data",
          "data": {
            "image/png": "[encoded data removed]",
            "text/plain": [
              "<Figure size 432x288 with 1 Axes>"
            ]
          },
          "metadata": {
            "tags": [],
            "needs_background": "light"
          }
        }
      ]
    },
    {
      "cell_type": "markdown",
      "metadata": {
        "id": "nR-3GUtIpog9"
      },
      "source": [
        "### Number of features selected by RFECV"
      ]
    },
    {
      "cell_type": "markdown",
      "metadata": {
        "id": "j9GP0O3ypwjc"
      },
      "source": [
        "We can alternatively assess the appropriate number of features using the `n_features_` property."
      ]
    },
    {
      "cell_type": "code",
      "metadata": {
        "colab": {
          "base_uri": "https://localhost:8080/",
          "height": 46
        },
        "id": "geNfN8sLqkDe",
        "outputId": "19d766f5-1ecc-4c29-e85d-714fa8803799"
      },
      "source": [
        "display(md(f'Optimal number of features: {rfecv.n_features_}'))"
      ],
      "execution_count": null,
      "outputs": [
        {
          "output_type": "display_data",
          "data": {
            "text/markdown": "Optimal number of features: 8",
            "text/plain": [
              "<IPython.core.display.Markdown object>"
            ]
          },
          "metadata": {
            "tags": []
          }
        }
      ]
    },
    {
      "cell_type": "markdown",
      "metadata": {
        "id": "19C-0Nrqh59M"
      },
      "source": [
        "Somewhat unexpectedly, according to the `n_features_` parameter, RFECV identified 8 optimal features (if you don't see 8, restart the Jupyter kernel and run all cells). We can explore further by using `support_` property."
      ]
    },
    {
      "cell_type": "code",
      "metadata": {
        "colab": {
          "base_uri": "https://localhost:8080/",
          "height": 149
        },
        "id": "3x9LQOdCrIX4",
        "outputId": "5b6376f7-4cee-4ac2-efd4-8dfe1cd9c48d"
      },
      "source": [
        "display(md(f'Features of interest: {rfecv.support_}'))\n",
        "display(md(f'Total number features of interest: {rfecv.support_.sum()}' ))\n",
        "print(np.array(range(1,26)))\n",
        "display(md(f'Features of interest: {feature_names[rfecv.support_]}'))"
      ],
      "execution_count": null,
      "outputs": [
        {
          "output_type": "display_data",
          "data": {
            "text/markdown": "Features of interest: [False  True False False  True False False False False False  True  True\n False False False  True  True False  True False False False False False\n  True]",
            "text/plain": [
              "<IPython.core.display.Markdown object>"
            ]
          },
          "metadata": {
            "tags": []
          }
        },
        {
          "output_type": "display_data",
          "data": {
            "text/markdown": "Total number features of interest: 8",
            "text/plain": [
              "<IPython.core.display.Markdown object>"
            ]
          },
          "metadata": {
            "tags": []
          }
        },
        {
          "output_type": "stream",
          "text": [
            "[ 1  2  3  4  5  6  7  8  9 10 11 12 13 14 15 16 17 18 19 20 21 22 23 24\n",
            " 25]\n"
          ],
          "name": "stdout"
        },
        {
          "output_type": "display_data",
          "data": {
            "text/markdown": "Features of interest: ['x_{2}' 'x_{5}' 'x_{11}' 'x_{12}' 'x_{16}' 'x_{17}' 'x_{19}' 'x_{25}']",
            "text/plain": [
              "<IPython.core.display.Markdown object>"
            ]
          },
          "metadata": {
            "tags": []
          }
        }
      ]
    },
    {
      "cell_type": "markdown",
      "metadata": {
        "id": "L6Ljnk6Zq_IB"
      },
      "source": [
        "The `RFECV` object's `support_` property is an array of `True`/`False` values indicating whether that feature is used in RFECV optimal model. When we filter our `feature_names` array with the `support_` property, we note that 6 of the 8 features, namely, $x_2$, $x_{11}$, $x_{12}$, $x_{16}$, $x_{17}$, and $x_{19}$, correspond with the features we noted in our correlation analysis above, but two of the features, $x_5$ and $x_{25}$, did not appear to have a strong relationship with `y` (0.01 and 0.02, respectively)."
      ]
    },
    {
      "cell_type": "markdown",
      "metadata": {
        "id": "2zHYZgiQsBoE"
      },
      "source": [
        "### Model explainability"
      ]
    },
    {
      "cell_type": "markdown",
      "metadata": {
        "id": "ti5OgaQwsD55"
      },
      "source": [
        "We can gain additional insight as well as model explainability by actually displaying the model generated by RFECV. Doing this allows us to see the relative importance of each feature to the target value.\n",
        "\n",
        "To support this, we will first create a helper function \n",
        "```\n",
        "generate_model_function(beta0, betas, feature_names)\n",
        "```\n",
        "where `beta0` is the bias of the function, `betas` is the array of coefficients, and `feature_names` is an array of the names of each feature. The function returns a string representing the model function in the form $y = \\beta_0 + \\beta_1x_1 + \\dots + \\beta_nx_n$ for $n$ features."
      ]
    },
    {
      "cell_type": "code",
      "metadata": {
        "id": "DBcjcw1ttgUt"
      },
      "source": [
        "def generate_model_function(beta0, betas, feature_names):\n",
        "    if np.isclose(beta0, 0):\n",
        "        model_function = f'$y = '\n",
        "    else:\n",
        "        model_function = f'$y = {beta0:.3f} + '\n",
        "\n",
        "    for beta, feature_name in zip(betas, feature_names):\n",
        "        model_function += f'{beta:.3f}{feature_name} + '\n",
        "    \n",
        "    return model_function[:-3] + '$'"
      ],
      "execution_count": null,
      "outputs": []
    },
    {
      "cell_type": "markdown",
      "metadata": {
        "id": "_aInujEWtsNQ"
      },
      "source": [
        "Now, we'll use our helper function to generate the algabraic representation of our model. Below, we reuse the technique of filtering our column names array with the `support_` property and store the result in `selected_feature_names`. The end result is that `selected_feature_names` is an array of feature names used in the `RFECV` model.\n",
        "\n",
        "When we call our `generate_model_function`, we use the `estimator_` property of the `RFECV` object. In this case, the estimator is a linear regression model. The `LinearRegression` class includes the `intercept_` and `coef_` properties containing the $b_0$ and $b_1, \\dots, b_n$ coefficients, respectively."
      ]
    },
    {
      "cell_type": "code",
      "metadata": {
        "colab": {
          "base_uri": "https://localhost:8080/",
          "height": 50
        },
        "id": "M39XBic9tzdH",
        "outputId": "6466edd6-6f0c-4b20-e897-7f21802ef925"
      },
      "source": [
        "# for explainability, report the trained model\n",
        "selected_feature_names = feature_names[rfecv.support_]\n",
        "\n",
        "display(md(generate_model_function(rfecv.estimator_.intercept_,\n",
        "                                   rfecv.estimator_.coef_,\n",
        "                                   selected_feature_names)))"
      ],
      "execution_count": null,
      "outputs": [
        {
          "output_type": "display_data",
          "data": {
            "text/markdown": "$y = 15.252x_{2} + 0.000x_{5} + 40.804x_{11} + 52.696x_{12} + 69.126x_{16} + 8.357x_{17} + -0.000x_{19} + 0.000x_{25}$",
            "text/plain": [
              "<IPython.core.display.Markdown object>"
            ]
          },
          "metadata": {
            "tags": []
          }
        }
      ]
    },
    {
      "cell_type": "markdown",
      "metadata": {
        "id": "x-BUutf8uEyh"
      },
      "source": [
        "It appears that RFECV retained certain features even though their coefficients are very near zero. In a moment, we'll develop a programmatic and general way to remove those features, but first, let us calculate the RMSE of the model. We will use the `predict` method of the `RFECV` object on the `X_test` data to generate predicted y values, `y_pred`.\n"
      ]
    },
    {
      "cell_type": "markdown",
      "metadata": {
        "id": "zll3Muba9Ix1"
      },
      "source": [
        "## Evaluate model"
      ]
    },
    {
      "cell_type": "markdown",
      "metadata": {
        "id": "EDZoRiQv9VA6"
      },
      "source": [
        " Finally, we calculate and display the model's performance as the root mean squared error on the test data."
      ]
    },
    {
      "cell_type": "code",
      "metadata": {
        "colab": {
          "base_uri": "https://localhost:8080/",
          "height": 46
        },
        "id": "_ayOQvbNx-vc",
        "outputId": "1c21d8b2-52b2-4816-8d8a-f65fb947dc36"
      },
      "source": [
        "from sklearn.metrics import mean_squared_error\n",
        "\n",
        "# get metrics from test data\n",
        "y_pred = rfecv.predict(X_test)\n",
        "rmse = mean_squared_error(y_test, y_pred, squared=False)\n",
        "display(md(f'RMSE: {rmse:.6f}'))"
      ],
      "execution_count": null,
      "outputs": [
        {
          "output_type": "display_data",
          "data": {
            "text/markdown": "RMSE: 0.000000",
            "text/plain": [
              "<IPython.core.display.Markdown object>"
            ]
          },
          "metadata": {
            "tags": []
          }
        }
      ]
    },
    {
      "cell_type": "markdown",
      "metadata": {
        "id": "V2Jphsyt9fqF"
      },
      "source": [
        "Remarkable! It appears that we perfectly reproduced the model that generated the data, as evaluated on the test data. Let's take a moment and clean up our model, removing features with zero coefficients."
      ]
    },
    {
      "cell_type": "markdown",
      "metadata": {
        "id": "Nk_oTgxS9bF0"
      },
      "source": [
        "## Clean-up Model"
      ]
    },
    {
      "cell_type": "markdown",
      "metadata": {
        "id": "NTcJ7U0NzFtK"
      },
      "source": [
        "To clean up the model, we'll start with the `RFECV` model and then remove the non-zero coefficients and their corresponding features.\n",
        "\n",
        "First, we create `non_zero_coef` which is a boolean array indicating whether the coefficients in the `RFECV` model should be included in the final model. We use this array to select the final model coefficients, stored in `selected_features_non_zero` and the final model feature names, `selected_feature_names_non_zero`.\n",
        "\n",
        "Finally, we calculate RMSE of our adapted model. We start by calculating the model's predicted targets. Because we don't have a fancy `scikit-learn` model, we calculate the `y_pred` array manually, taking the dot product of the relevant `X` features and the coefficients and add the bias. To get the relevant `X` features, we start with `X_test`, and we down-select to include only those columns used in the the RFECV model. Then we further down-select from the model features to those model features that have non-zero coefficients."
      ]
    },
    {
      "cell_type": "code",
      "metadata": {
        "colab": {
          "base_uri": "https://localhost:8080/",
          "height": 73
        },
        "id": "giQM4Aoozd7f",
        "outputId": "71d079ab-b8bc-40c8-9201-e3f5362df618"
      },
      "source": [
        "# remove near-zero coefficients, if applicable\n",
        "\n",
        "# generate True/False filter array where True is model features that should be retained\n",
        "# non_zero_coef is the length of the number of coefficients in the model\n",
        "non_zero_coef = np.logical_not(np.isclose(rfecv.estimator_.coef_, 0))\n",
        "\n",
        "# filter out model coefficients that are near zero\n",
        "# selected_features_non_zero is a list of non-zero coefficients\n",
        "selected_feature_coefs_non_zero = rfecv.estimator_.coef_[non_zero_coef]\n",
        "\n",
        "# filter out model feature names by coefficients that are near zero\n",
        "# selected_feature_names_non_zero is a list of the feature names having non-zero coefficients\n",
        "selected_feature_names_non_zero = selected_feature_names[non_zero_coef]\n",
        "\n",
        "display(md(generate_model_function(rfecv.estimator_.intercept_,\n",
        "                                   selected_feature_coefs_non_zero,\n",
        "                                   selected_feature_names_non_zero)))\n",
        "\n",
        "y_pred = (np.dot(X_test[:,rfecv.support_][:,non_zero_coef], # X features in model downselected for non-zero coefficients\n",
        "                selected_feature_coefs_non_zero)  # coefficients corresponding to X features\n",
        "          + rfecv.estimator_.intercept_) # add bias\n",
        "\n",
        "rmse = mean_squared_error(y_test, y_pred, squared=False)\n",
        "display(md(f'RMSE: {rmse:.6f}'))"
      ],
      "execution_count": null,
      "outputs": [
        {
          "output_type": "display_data",
          "data": {
            "text/markdown": "$y = 15.252x_{2} + 40.804x_{11} + 52.696x_{12} + 69.126x_{16} + 8.357x_{17}$",
            "text/plain": [
              "<IPython.core.display.Markdown object>"
            ]
          },
          "metadata": {
            "tags": []
          }
        },
        {
          "output_type": "display_data",
          "data": {
            "text/markdown": "RMSE: 0.000000",
            "text/plain": [
              "<IPython.core.display.Markdown object>"
            ]
          },
          "metadata": {
            "tags": []
          }
        }
      ]
    },
    {
      "cell_type": "markdown",
      "metadata": {
        "id": "UyA7qTXX8sGo"
      },
      "source": [
        "Our final model appears to match the RFECV model with zero-coeffiecient features removed. We also appear to have the same RMSE as the RFECV model.\n",
        "\n"
      ]
    },
    {
      "cell_type": "markdown",
      "metadata": {
        "id": "1UJcdfgs9jr1"
      },
      "source": [
        "## Bonus: Compare model to original data generator signal"
      ]
    },
    {
      "cell_type": "markdown",
      "metadata": {
        "id": "lNwq3Sc_9ytx"
      },
      "source": [
        "Normally, we would not have access to the signal that originally created the data. Indeed, one of the reasons we use machine learning is to attempt to develop models of phenomena when we don't have a clear understanding of the relationships in the underlying data.\n",
        "\n",
        "However, because we generated our data using a generator function that exposes the coefficients used to generate the linear model, we can compare the model we created using the machine learning technique of recursive feature elimination with the model that generated the data in the first place. To display our model, we simply call our `generate_model_function` with the coefficients returned by the `make_regression` function."
      ]
    },
    {
      "cell_type": "code",
      "metadata": {
        "colab": {
          "base_uri": "https://localhost:8080/",
          "height": 73
        },
        "id": "kiqZ3bzc_I1k",
        "outputId": "b1e25330-f774-41fb-ba44-6b813be20a1d"
      },
      "source": [
        "# to satisfy our curiousity, report the model that produced the data\n",
        "original_features = np.argwhere(coef_data!=0).flatten()\n",
        "original_feature_names = feature_names[original_features]\n",
        "original_coef = coef_data[original_features]\n",
        "display(md(generate_model_function(bias_data, \n",
        "                                   original_coef,\n",
        "                                   original_feature_names)))\n",
        "\n",
        "y_pred = np.dot(X_test[:,original_features],original_coef) + bias_data\n",
        "rmse = mean_squared_error(y_test, y_pred, squared=False)\n",
        "display(md(f'RMSE: {rmse:.6f}'))"
      ],
      "execution_count": null,
      "outputs": [
        {
          "output_type": "display_data",
          "data": {
            "text/markdown": "$y = 15.252x_{2} + 40.804x_{11} + 52.696x_{12} + 69.126x_{16} + 8.357x_{17}$",
            "text/plain": [
              "<IPython.core.display.Markdown object>"
            ]
          },
          "metadata": {
            "tags": []
          }
        },
        {
          "output_type": "display_data",
          "data": {
            "text/markdown": "RMSE: 0.000000",
            "text/plain": [
              "<IPython.core.display.Markdown object>"
            ]
          },
          "metadata": {
            "tags": []
          }
        }
      ]
    },
    {
      "cell_type": "markdown",
      "metadata": {
        "id": "8Iq2mJAsBNld"
      },
      "source": [
        "It appears we perfectly reconstructed the signal that generated the data using recursive cross-validated feature eliminaton."
      ]
    },
    {
      "cell_type": "markdown",
      "metadata": {
        "id": "ALLbQc1j_QG3"
      },
      "source": [
        "# Complete Demo"
      ]
    },
    {
      "cell_type": "markdown",
      "metadata": {
        "id": "ZXuxIjWOBaMM"
      },
      "source": [
        "What follows is the complete demo, with certain functions moved around. Also, we introduce noise. Note that, due to the gaussian noise, the model we generate does not perfectly reproduce the original signal. The RMSE of our model is slightly higher than the RMSE of the data generator model, but that both are approximately equal to the standard deviation of the gaussian we apply to the data."
      ]
    },
    {
      "cell_type": "code",
      "metadata": {
        "colab": {
          "base_uri": "https://localhost:8080/",
          "height": 636
        },
        "id": "vGcQPXAVafqq",
        "outputId": "4e799090-182b-4eb9-fe61-b24be5939768"
      },
      "source": [
        "# adapted from the RFECV entry in the scikit-learn API \n",
        "\n",
        "import matplotlib.pyplot as plt\n",
        "from sklearn.svm import SVC\n",
        "from sklearn.linear_model import LinearRegression\n",
        "from sklearn.model_selection import RepeatedKFold\n",
        "from sklearn.model_selection import train_test_split\n",
        "from sklearn.feature_selection import RFECV\n",
        "from sklearn.datasets import make_regression\n",
        "from sklearn.metrics import mean_squared_error\n",
        "\n",
        "from IPython.display import Markdown as md\n",
        "from IPython.display import display, Math, Latex\n",
        "\n",
        "import numpy as np\n",
        "import seaborn as sns\n",
        "import pandas as pd\n",
        "\n",
        "\n",
        "# initialize random state and regression parameters\n",
        "random_state = np.random.RandomState(101)\n",
        "n_features = 25\n",
        "bias_data = 0\n",
        "noise = 8\n",
        "\n",
        "# create feature names -- these are generic feature names x_1, x_2, ..., x_25\n",
        "feature_names = np.array([f'x_{{{idx+1}}}' for idx in range(n_features)])\n",
        "\n",
        "def generate_model_function(beta0, betas, feature_names):\n",
        "    if np.isclose(beta0, 0):\n",
        "        model_function = f'$y = '\n",
        "    else:\n",
        "        model_function = f'$y = {beta0:.3f} + '\n",
        "\n",
        "    # selected_features = np.argwhere(rfecv.support_).flatten()\n",
        "    for beta, feature_name in zip(betas, feature_names):\n",
        "        model_function += f'{beta:.3f}{feature_name} + '\n",
        "        # model_function += f'{betas[idx]:.3f}{feature_names[feature_idx]} + '\n",
        "    \n",
        "    return model_function[:-3] + '$'\n",
        "\n",
        "\n",
        "# Build a regression task using 5 informative features\n",
        "X, y, coef_data = make_regression(n_samples=2000, \n",
        "                                  n_features=n_features, n_informative=5, \n",
        "                                  bias=bias_data, noise=noise,\n",
        "                                  random_state=random_state, coef=True)\n",
        "\n",
        "# split and sequester test data\n",
        "X_train, X_test, y_train, y_test = train_test_split(X, y, test_size = 0.2, random_state=random_state)\n",
        "\n",
        "linear = LinearRegression()\n",
        "\n",
        "min_features_to_select = 1\n",
        "\n",
        "# create the RFE object and compute a cross-validated score.\n",
        "rfecv = RFECV(estimator=linear, step=1, \n",
        "              cv=RepeatedKFold(n_splits=10, n_repeats=5, random_state=random_state),\n",
        "              scoring='neg_mean_squared_error',\n",
        "              min_features_to_select=min_features_to_select)\n",
        "rfecv.fit(X_train,y_train)\n",
        "\n",
        "# plot number of features vs. cross-validation scores\n",
        "plt.figure()\n",
        "plt.xlabel(\"Number of features selected\")\n",
        "plt.ylabel(\"Mean Squared Error\")\n",
        "plt.plot(range(min_features_to_select,\n",
        "               len(rfecv.grid_scores_) + min_features_to_select),\n",
        "         -rfecv.grid_scores_)\n",
        "plt.show()\n",
        "\n",
        "display(md(f'Optimal number of features : {rfecv.n_features_}'))\n",
        "\n",
        "# for explainability, report the trained model\n",
        "display(md(f'For explainability, here is the model created by recursive feature selection and cross-validation:'))\n",
        "\n",
        "selected_feature_names = feature_names[rfecv.support_]\n",
        "display(md(generate_model_function(rfecv.estimator_.intercept_,\n",
        "                                   rfecv.estimator_.coef_,\n",
        "                                   selected_feature_names)))\n",
        "\n",
        "# get metrics from test data\n",
        "y_pred = rfecv.predict(X_test)\n",
        "rmse = mean_squared_error(y_test, y_pred, squared=False)\n",
        "display(md(f'RMSE: {rmse:.6f}'))\n",
        "\n",
        "print()\n",
        "\n",
        "# remove near-zero coefficients, if applicable\n",
        "\n",
        "# generate True/False filter array where True is model features that should be retained\n",
        "# non_zero_coef is the length of the number of coefficients in the model\n",
        "non_zero_coef = np.logical_not(np.isclose(rfecv.estimator_.coef_, 0))\n",
        "\n",
        "# filter out model coefficients that are near zero\n",
        "# selected_features_non_zero is a list of non-zero coefficients\n",
        "selected_feature_coefs_non_zero = rfecv.estimator_.coef_[non_zero_coef]\n",
        "\n",
        "# filter out model feature names by coefficients that are near zero\n",
        "# selected_feature_names_non_zero is a list of the feature names having non-zero coefficients\n",
        "selected_feature_names_non_zero = selected_feature_names[non_zero_coef]\n",
        "\n",
        "display(md(generate_model_function(rfecv.estimator_.intercept_,\n",
        "                                   selected_feature_coefs_non_zero,\n",
        "                                   selected_feature_names_non_zero)))\n",
        "\n",
        "y_pred = (np.dot(X_test[:,rfecv.support_][:,non_zero_coef], # X features in model downselected for non-zero coefficients\n",
        "                selected_feature_coefs_non_zero)  # coefficients corresponding to X features\n",
        "          + rfecv.estimator_.intercept_) # add bias\n",
        "\n",
        "rmse = mean_squared_error(y_test, y_pred, squared=False)\n",
        "display(md(f'RMSE: {rmse:.6f}'))\n",
        "\n",
        "print()\n",
        "\n",
        "display(md(f\"\"\"Normally, we would not have the signal that generated the data. However, since\n",
        "    we do, we'll look at the function that generated the data as a point of comparison:\"\"\"))\n",
        "# to satisfy our curiosity, report the model that produced the data\n",
        "original_features = np.argwhere(coef_data!=0).flatten()\n",
        "original_feature_names = feature_names[original_features]\n",
        "original_coef = coef_data[original_features]\n",
        "display(md(generate_model_function(bias_data, \n",
        "                                   original_coef,\n",
        "                                   original_feature_names)))\n",
        "\n",
        "y_pred = np.dot(X_test[:,original_features],original_coef)\n",
        "rmse = mean_squared_error(y_test, y_pred, squared=False)\n",
        "display(md(f'RMSE: {rmse:.6f}'))\n",
        "\n",
        "display(md(f\"\"\"Notably, even if we had discovered the exact signal that generated the data, our\n",
        "    RMSE would still have been {rmse:.6f} (which corresponds with the designated noise standard deviation value of {noise:.2f}).\"\"\"))\n",
        "\n"
      ],
      "execution_count": null,
      "outputs": [
        {
          "output_type": "display_data",
          "data": {
            "image/png": "[encoded data removed]",
            "text/plain": [
              "<Figure size 432x288 with 1 Axes>"
            ]
          },
          "metadata": {
            "tags": [],
            "needs_background": "light"
          }
        },
        {
          "output_type": "display_data",
          "data": {
            "text/markdown": "Optimal number of features : 5",
            "text/plain": [
              "<IPython.core.display.Markdown object>"
            ]
          },
          "metadata": {
            "tags": []
          }
        },
        {
          "output_type": "display_data",
          "data": {
            "text/markdown": "For explainability, here is the model created by recursive feature selection and cross-validation:",
            "text/plain": [
              "<IPython.core.display.Markdown object>"
            ]
          },
          "metadata": {
            "tags": []
          }
        },
        {
          "output_type": "display_data",
          "data": {
            "text/markdown": "$y = 0.198 + 8.671x_{3} + 40.568x_{8} + 53.000x_{19} + 68.886x_{22} + 15.516x_{25}$",
            "text/plain": [
              "<IPython.core.display.Markdown object>"
            ]
          },
          "metadata": {
            "tags": []
          }
        },
        {
          "output_type": "display_data",
          "data": {
            "text/markdown": "RMSE: 8.068394",
            "text/plain": [
              "<IPython.core.display.Markdown object>"
            ]
          },
          "metadata": {
            "tags": []
          }
        },
        {
          "output_type": "stream",
          "text": [
            "\n"
          ],
          "name": "stdout"
        },
        {
          "output_type": "display_data",
          "data": {
            "text/markdown": "Recursive feature selection sometimes keeps certain features even though the coefficient is near zero.",
            "text/plain": [
              "<IPython.core.display.Markdown object>"
            ]
          },
          "metadata": {
            "tags": []
          }
        },
        {
          "output_type": "display_data",
          "data": {
            "text/markdown": "Removing potential instances of near-zero coefficients:",
            "text/plain": [
              "<IPython.core.display.Markdown object>"
            ]
          },
          "metadata": {
            "tags": []
          }
        },
        {
          "output_type": "display_data",
          "data": {
            "text/markdown": "$y = 0.198 + 8.671x_{3} + 40.568x_{8} + 53.000x_{19} + 68.886x_{22} + 15.516x_{25}$",
            "text/plain": [
              "<IPython.core.display.Markdown object>"
            ]
          },
          "metadata": {
            "tags": []
          }
        },
        {
          "output_type": "display_data",
          "data": {
            "text/markdown": "RMSE: 8.068394",
            "text/plain": [
              "<IPython.core.display.Markdown object>"
            ]
          },
          "metadata": {
            "tags": []
          }
        },
        {
          "output_type": "stream",
          "text": [
            "\n"
          ],
          "name": "stdout"
        },
        {
          "output_type": "display_data",
          "data": {
            "text/markdown": "Normally, we would not have the signal that generated the data. However, since\n    we do, we'll look at the function that generated the data as a point of comparison:",
            "text/plain": [
              "<IPython.core.display.Markdown object>"
            ]
          },
          "metadata": {
            "tags": []
          }
        },
        {
          "output_type": "display_data",
          "data": {
            "text/markdown": "$y = 8.357x_{3} + 40.804x_{8} + 52.696x_{19} + 69.126x_{22} + 15.252x_{25}$",
            "text/plain": [
              "<IPython.core.display.Markdown object>"
            ]
          },
          "metadata": {
            "tags": []
          }
        },
        {
          "output_type": "display_data",
          "data": {
            "text/markdown": "RMSE: 7.971791",
            "text/plain": [
              "<IPython.core.display.Markdown object>"
            ]
          },
          "metadata": {
            "tags": []
          }
        },
        {
          "output_type": "display_data",
          "data": {
            "text/markdown": "Notably, even if we had discovered the exact signal that generated the data, our\n    RMSE would still have been 7.971791 (which corresponds with the designated noise value of 8.00).",
            "text/plain": [
              "<IPython.core.display.Markdown object>"
            ]
          },
          "metadata": {
            "tags": []
          }
        }
      ]
    }
  ]
}